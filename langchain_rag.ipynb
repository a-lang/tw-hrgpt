{
 "cells": [
  {
   "cell_type": "markdown",
   "id": "05860c8d-06c4-4f78-8f8f-a6891a9e646f",
   "metadata": {},
   "source": [
    "## 參考教學"
   ]
  },
  {
   "cell_type": "markdown",
   "id": "e5814b53-986f-493b-967c-5c0bb9d37be4",
   "metadata": {},
   "source": [
    "- [Implementing RAG in LangChain with Chroma: A Step-by-Step Guide](https://medium.com/@callumjmac/implementing-rag-in-langchain-with-chroma-a-step-by-step-guide-16fc21815339)\n",
    "- [rag-tutorial-v2](https://github.com/pixegami/rag-tutorial-v2)\n",
    "- [LangChain: Q&A with RAG](https://python.langchain.com/v0.1/docs/use_cases/question_answering/quickstart/)\n",
    "- [LangChain: Retrievers](https://python.langchain.com/v0.2/docs/how_to/#retrievers)"
   ]
  },
  {
   "cell_type": "markdown",
   "id": "4d3aaa6c-9f47-4f1b-abd4-64b8af9911cc",
   "metadata": {},
   "source": [
    "## 安裝基礎的模組（Install Base Dependencies）"
   ]
  },
  {
   "cell_type": "code",
   "execution_count": 1,
   "id": "38d21a8a-3fd4-4dce-ac7f-d80ec3a4c796",
   "metadata": {},
   "outputs": [
    {
     "name": "stdout",
     "output_type": "stream",
     "text": [
      "Note: you may need to restart the kernel to use updated packages.\n"
     ]
    }
   ],
   "source": [
    "%pip install --quiet python-dotenv langchain langchain_community langchain_chroma langchain_experimental"
   ]
  },
  {
   "cell_type": "markdown",
   "id": "222b9d2f",
   "metadata": {},
   "source": [
    "## 載入 APY Keys"
   ]
  },
  {
   "cell_type": "code",
   "execution_count": 64,
   "id": "a537b47d",
   "metadata": {},
   "outputs": [
    {
     "data": {
      "text/plain": [
       "True"
      ]
     },
     "execution_count": 64,
     "metadata": {},
     "output_type": "execute_result"
    }
   ],
   "source": [
    "import os\n",
    "from dotenv import load_dotenv\n",
    "\n",
    "load_dotenv()"
   ]
  },
  {
   "cell_type": "markdown",
   "id": "6ce65349-8ead-4e37-827a-3865602c42c0",
   "metadata": {},
   "source": [
    "## LangSmith (Optional)\n",
    "程式監視與除錯"
   ]
  },
  {
   "cell_type": "code",
   "execution_count": 65,
   "id": "b65fea56-f578-4a78-aacc-11d2a679e948",
   "metadata": {},
   "outputs": [],
   "source": [
    "import getpass\n",
    "import os\n",
    "\n",
    "if \"LANGCHAIN_TRACING_V2\" not in os.environ:\n",
    "    os.environ[\"LANGCHAIN_TRACING_V2\"] = \"true\"\n",
    "#os.environ[\"LANGCHAIN_PROJECT\"]=\"<your-project>\"  # if not specified, defaults to \"default\"\n",
    "if \"LANGCHAIN_API_KEY\" not in os.environ:\n",
    "    os.environ[\"LANGCHAIN_API_KEY\"] = getpass.getpass(\"Provide your LangChain Key\")"
   ]
  },
  {
   "cell_type": "markdown",
   "id": "afe0e23e-6642-4fd3-bedb-945a70fa4e6d",
   "metadata": {},
   "source": [
    "## LLM 模型（LLM Model）"
   ]
  },
  {
   "cell_type": "markdown",
   "id": "10e57595-bcda-4738-aa64-8c702fe8bd46",
   "metadata": {},
   "source": [
    "### Gemini Pro"
   ]
  },
  {
   "cell_type": "code",
   "execution_count": 3,
   "id": "9ea140f7-db0e-4f3e-84ef-d4c401e8ca7e",
   "metadata": {},
   "outputs": [
    {
     "name": "stdout",
     "output_type": "stream",
     "text": [
      "Note: you may need to restart the kernel to use updated packages.\n"
     ]
    }
   ],
   "source": [
    "%pip install --quiet langchain-google-genai pillow"
   ]
  },
  {
   "cell_type": "code",
   "execution_count": 66,
   "id": "64878ab6-eaf7-44a6-af4c-96ce9a4e1fee",
   "metadata": {},
   "outputs": [],
   "source": [
    "import getpass\n",
    "import os\n",
    "from langchain_google_genai import ChatGoogleGenerativeAI\n",
    "\n",
    "if \"GOOGLE_API_KEY\" not in os.environ:\n",
    "    os.environ[\"GOOGLE_API_KEY\"] = getpass.getpass(\"Provide your Google API Key\")\n",
    "\n",
    "llm_google = ChatGoogleGenerativeAI(model=\"gemini-1.5-flash-latest\", temperature=0)"
   ]
  },
  {
   "cell_type": "code",
   "execution_count": 4,
   "id": "9fdebe34-c2c2-4bcb-a8af-5d74be29c495",
   "metadata": {},
   "outputs": [
    {
     "name": "stdout",
     "output_type": "stream",
     "text": [
      "有一天，小明問爸爸：「爸爸，結婚證書有什麼用？」\n",
      "\n",
      "爸爸想了想，說：「結婚證書就像捕魚許可證。」\n",
      "\n",
      "小明不解地問：「為什麼？」\n",
      "\n",
      "爸爸笑着說：「因為有了結婚證書，你就可以釣到一個老婆，然後一輩子都不能釣其他的魚了！」 \n",
      "\n"
     ]
    }
   ],
   "source": [
    "result = llm_google.invoke(\"用繁體中文說一個笑話\")\n",
    "print(result.content)"
   ]
  },
  {
   "cell_type": "markdown",
   "id": "96c713b4-487b-41fd-b21a-9928c0e25e0f",
   "metadata": {},
   "source": [
    "### Groq"
   ]
  },
  {
   "cell_type": "code",
   "execution_count": 8,
   "id": "9ba4af96-c164-4ee4-b34f-8af6e6bf7d79",
   "metadata": {},
   "outputs": [
    {
     "name": "stderr",
     "output_type": "stream",
     "text": [
      "I0000 00:00:1721795891.634062   51307 work_stealing_thread_pool.cc:320] WorkStealingThreadPoolImpl::PrepareFork\n",
      "I0000 00:00:1721795891.634308   51307 fork_posix.cc:77] Other threads are currently calling into gRPC, skipping fork() handlers\n"
     ]
    },
    {
     "name": "stdout",
     "output_type": "stream",
     "text": [
      "Note: you may need to restart the kernel to use updated packages.\n"
     ]
    }
   ],
   "source": [
    "%pip install --quiet langchain_groq"
   ]
  },
  {
   "cell_type": "code",
   "execution_count": 4,
   "id": "4bff7f2e-5ca0-45f1-8176-0848a23664f2",
   "metadata": {},
   "outputs": [],
   "source": [
    "import getpass\n",
    "import os\n",
    "\n",
    "if \"GROQ_API_KEY\" not in os.environ:\n",
    "    os.environ[\"GROQ_API_KEY\"] = getpass.getpass(\"Provide your Groq API Key\")\n",
    "\n",
    "from langchain_groq import ChatGroq\n",
    "\n",
    "llm_groq_llama3 = ChatGroq(model=\"llama3-8b-8192\")"
   ]
  },
  {
   "cell_type": "code",
   "execution_count": 5,
   "id": "6f1a3b0e-9acb-40f3-bdbe-72fd8064445f",
   "metadata": {},
   "outputs": [
    {
     "data": {
      "text/plain": [
       "\"Nice to meet you! I am LLaMA, an AI assistant developed by Meta AI that can understand and respond to human input in a conversational manner. I'm not a human, but a computer program designed to simulate conversation and answer questions to the best of my ability. I can chat with you about a wide range of topics, from science and history to entertainment and culture. I can also help with tasks such as language translation, text summarization, and generating creative writing. What would you like to talk about or ask me?\""
      ]
     },
     "execution_count": 5,
     "metadata": {},
     "output_type": "execute_result"
    }
   ],
   "source": [
    "llm_groq_llama3.invoke(\"Hello, who are you\").content"
   ]
  },
  {
   "cell_type": "markdown",
   "id": "0569edc8",
   "metadata": {},
   "source": [
    "### Together LLM"
   ]
  },
  {
   "cell_type": "code",
   "execution_count": null,
   "id": "9e1dc38e",
   "metadata": {},
   "outputs": [],
   "source": [
    "%pip install --quiet  langchain-together"
   ]
  },
  {
   "cell_type": "code",
   "execution_count": 4,
   "id": "90ef3eac",
   "metadata": {},
   "outputs": [],
   "source": [
    "from langchain_together import ChatTogether\n",
    "\n",
    "if \"TOGETHER_API_KEY\" not in os.environ:\n",
    "    os.environ[\"TOGETHER_API_KEY\"] = getpass.getpass(\"Provide your TogetherAI API Key\")\n",
    "\n",
    "llm_together = ChatTogether(\n",
    "    model=\"meta-llama/Llama-3-70b-chat-hf\",\n",
    "    temperature=0,\n",
    ")"
   ]
  },
  {
   "cell_type": "code",
   "execution_count": 5,
   "id": "b6eb76d1",
   "metadata": {},
   "outputs": [
    {
     "data": {
      "text/plain": [
       "'柔軟的月光，悄悄地灑落在你的肩膊，\\n像是一絲絲的戀情，溫柔地纏繞著我的心；\\n你的眼睛，如同星星般閃爍，照亮了我的生命，\\n在你的愛情裡，我找到了一個溫暖的家。'"
      ]
     },
     "execution_count": 5,
     "metadata": {},
     "output_type": "execute_result"
    }
   ],
   "source": [
    "llm_together.invoke(\"你是一位詩人，為我寫一個浪漫的中文詩句，只用繁體中文回答\").content"
   ]
  },
  {
   "cell_type": "markdown",
   "id": "abb1ea44",
   "metadata": {},
   "source": [
    "### Ollama LLM"
   ]
  },
  {
   "cell_type": "code",
   "execution_count": 26,
   "id": "ceb477f3",
   "metadata": {},
   "outputs": [
    {
     "name": "stderr",
     "output_type": "stream",
     "text": [
      "I0000 00:00:1721806859.893387   95794 work_stealing_thread_pool.cc:320] WorkStealingThreadPoolImpl::PrepareFork\n",
      "I0000 00:00:1721806859.893680   95794 fork_posix.cc:77] Other threads are currently calling into gRPC, skipping fork() handlers\n"
     ]
    },
    {
     "name": "stdout",
     "output_type": "stream",
     "text": [
      "Note: you may need to restart the kernel to use updated packages.\n"
     ]
    }
   ],
   "source": [
    "%pip install --quiet langchain_ollama"
   ]
  },
  {
   "cell_type": "code",
   "execution_count": 3,
   "id": "93c8fc2b",
   "metadata": {},
   "outputs": [],
   "source": [
    "from langchain_ollama import ChatOllama\n",
    "\n",
    "llm_ollama = ChatOllama(\n",
    "    #model=\"llama3:8b-instruct-q5_K_M\", \n",
    "    model=\"yabi/breeze-7b-instruct-v1_0_q6_k\",\n",
    "    temperature=0\n",
    "    )"
   ]
  },
  {
   "cell_type": "code",
   "execution_count": 49,
   "id": "e54c864e",
   "metadata": {},
   "outputs": [
    {
     "data": {
      "text/plain": [
       "'有一個小孩問老師：「老師，你的頭髮是不是假的？」\\n\\n老師回答：「不假！」\\n\\n小孩繼續問：「那為什麼你每天早上都要梳理？」\\n\\n老師笑著說：「因為我頭髮真的假的！」\\n\\n（哈哈，希望這個笑話能夠讓您笑起來！）'"
      ]
     },
     "execution_count": 49,
     "metadata": {},
     "output_type": "execute_result"
    }
   ],
   "source": [
    "llm_ollama.invoke(\"講一個笑話，只用繁體中文作答\").content"
   ]
  },
  {
   "cell_type": "markdown",
   "id": "43fd063b",
   "metadata": {},
   "source": [
    "### Fireworks LLM"
   ]
  },
  {
   "cell_type": "code",
   "execution_count": 34,
   "id": "3c17dc91",
   "metadata": {},
   "outputs": [
    {
     "name": "stderr",
     "output_type": "stream",
     "text": [
      "I0000 00:00:1721808765.743661   95794 work_stealing_thread_pool.cc:320] WorkStealingThreadPoolImpl::PrepareFork\n",
      "I0000 00:00:1721808765.744014   95794 fork_posix.cc:77] Other threads are currently calling into gRPC, skipping fork() handlers\n"
     ]
    },
    {
     "name": "stdout",
     "output_type": "stream",
     "text": [
      "Note: you may need to restart the kernel to use updated packages.\n"
     ]
    }
   ],
   "source": [
    "%pip install -q langchain-fireworks"
   ]
  },
  {
   "cell_type": "code",
   "execution_count": 29,
   "id": "b2a960ca",
   "metadata": {},
   "outputs": [],
   "source": [
    "from langchain_fireworks import ChatFireworks\n",
    "\n",
    "if \"FIREWORKS_API_KEY\" not in os.environ:\n",
    "    os.environ[\"FIREWORKS_API_KEY\"] = getpass.getpass(\"Provide your Fireworks API Key\")\n",
    "\n",
    "llm_fireworks = ChatFireworks(\n",
    "    model=\"accounts/fireworks/models/llama-v3p1-70b-instruct\",\n",
    "    temperature=0,\n",
    ")"
   ]
  },
  {
   "cell_type": "code",
   "execution_count": 46,
   "id": "e2b9caa8",
   "metadata": {},
   "outputs": [
    {
     "data": {
      "text/plain": [
       "'Hello! How can I assist you today?'"
      ]
     },
     "execution_count": 46,
     "metadata": {},
     "output_type": "execute_result"
    }
   ],
   "source": [
    "llm_fireworks.invoke(\"Hello\").content"
   ]
  },
  {
   "cell_type": "markdown",
   "id": "b51a6050",
   "metadata": {},
   "source": [
    "### Set LLM Model"
   ]
  },
  {
   "cell_type": "code",
   "execution_count": 67,
   "id": "953a0ac3",
   "metadata": {},
   "outputs": [],
   "source": [
    "llm_model = llm_google"
   ]
  },
  {
   "cell_type": "markdown",
   "id": "e4a28acc-3f63-434a-a4c2-ce877860e232",
   "metadata": {},
   "source": [
    "## 嵌入模型（Embeding Model）"
   ]
  },
  {
   "cell_type": "markdown",
   "id": "c78eb932-0333-4c26-a6d0-f6e872e58320",
   "metadata": {},
   "source": [
    "### HuggingFace"
   ]
  },
  {
   "cell_type": "code",
   "execution_count": 16,
   "id": "70423a3a",
   "metadata": {},
   "outputs": [
    {
     "name": "stderr",
     "output_type": "stream",
     "text": [
      "I0000 00:00:1721796516.529888   51307 work_stealing_thread_pool.cc:320] WorkStealingThreadPoolImpl::PrepareFork\n",
      "I0000 00:00:1721796516.530253   51307 fork_posix.cc:77] Other threads are currently calling into gRPC, skipping fork() handlers\n"
     ]
    },
    {
     "name": "stdout",
     "output_type": "stream",
     "text": [
      "Note: you may need to restart the kernel to use updated packages.\n"
     ]
    }
   ],
   "source": [
    "%pip install --quiet huggingface_hub sentence_transformers langchain-huggingface"
   ]
  },
  {
   "cell_type": "code",
   "execution_count": 115,
   "id": "632e7c57-81aa-40ed-b0c8-ca4e8e2e67fa",
   "metadata": {},
   "outputs": [],
   "source": [
    "import getpass\n",
    "import os\n",
    "from langchain_huggingface import HuggingFaceEmbeddings\n",
    "\n",
    "if \"HF_TOKEN\" not in os.environ:\n",
    "    os.environ[\"HF_TOKEN\"] = getpass.getpass(\"Provide your HuggingFace ACCESS TOKEN\")\n",
    "\n",
    "# BCE Model developed by Youdao.com \n",
    "model_name = \"maidalun1020/bce-embedding-base_v1\"\n",
    "#model_name = \"thenlper/gte-large-zh\"\n",
    "model_kwargs = {'device': 'cpu'}\n",
    "encode_kwargs = {'batch_size': 64, 'normalize_embeddings': True}\n",
    "embed_hf = HuggingFaceEmbeddings(model_name=model_name,\n",
    "                                 model_kwargs=model_kwargs,\n",
    "                                 encode_kwargs=encode_kwargs)"
   ]
  },
  {
   "cell_type": "markdown",
   "id": "16cd7419",
   "metadata": {},
   "source": [
    "### Google Embedding"
   ]
  },
  {
   "cell_type": "code",
   "execution_count": 11,
   "id": "aa42834c",
   "metadata": {},
   "outputs": [
    {
     "name": "stderr",
     "output_type": "stream",
     "text": [
      "I0000 00:00:1721795975.418210   51307 work_stealing_thread_pool.cc:320] WorkStealingThreadPoolImpl::PrepareFork\n",
      "I0000 00:00:1721795975.418627   51307 fork_posix.cc:77] Other threads are currently calling into gRPC, skipping fork() handlers\n"
     ]
    },
    {
     "name": "stdout",
     "output_type": "stream",
     "text": [
      "Note: you may need to restart the kernel to use updated packages.\n"
     ]
    }
   ],
   "source": [
    "%pip install --quiet langchain-google-genai"
   ]
  },
  {
   "cell_type": "code",
   "execution_count": 15,
   "id": "22ad3eef",
   "metadata": {},
   "outputs": [],
   "source": [
    "import getpass\n",
    "import os\n",
    "from langchain_google_genai import GoogleGenerativeAIEmbeddings\n",
    "\n",
    "if \"GOOGLE_API_KEY\" not in os.environ:\n",
    "    os.environ[\"GOOGLE_API_KEY\"] = getpass.getpass(\"Provide your Google API Key\")\n",
    "\n",
    "embed_google = GoogleGenerativeAIEmbeddings(model=\"models/text-embedding-004\")"
   ]
  },
  {
   "cell_type": "markdown",
   "id": "2213ca57",
   "metadata": {},
   "source": [
    "### Together Embedding"
   ]
  },
  {
   "cell_type": "code",
   "execution_count": 12,
   "id": "bae4e6df",
   "metadata": {},
   "outputs": [
    {
     "name": "stderr",
     "output_type": "stream",
     "text": [
      "I0000 00:00:1721795979.481370   51307 work_stealing_thread_pool.cc:320] WorkStealingThreadPoolImpl::PrepareFork\n",
      "I0000 00:00:1721795979.482026   51307 fork_posix.cc:77] Other threads are currently calling into gRPC, skipping fork() handlers\n"
     ]
    },
    {
     "name": "stdout",
     "output_type": "stream",
     "text": [
      "Note: you may need to restart the kernel to use updated packages.\n"
     ]
    }
   ],
   "source": [
    "%pip install --quiet  langchain-together"
   ]
  },
  {
   "cell_type": "code",
   "execution_count": 5,
   "id": "29afa581",
   "metadata": {},
   "outputs": [],
   "source": [
    "from langchain_together.embeddings import TogetherEmbeddings\n",
    "\n",
    "if \"TOGETHER_API_KEY\" not in os.environ:\n",
    "    os.environ[\"TOGETHER_API_KEY\"] = getpass.getpass(\"Provide your TogetherAI API Key\")\n",
    "\n",
    "embed_together = TogetherEmbeddings(model=\"hazyresearch/M2-BERT-2k-Retrieval-Encoder-V1\")"
   ]
  },
  {
   "cell_type": "markdown",
   "id": "e94964d5",
   "metadata": {},
   "source": [
    "### Ollama Embedding"
   ]
  },
  {
   "cell_type": "code",
   "execution_count": 5,
   "id": "64579d14",
   "metadata": {},
   "outputs": [
    {
     "name": "stdout",
     "output_type": "stream",
     "text": [
      "\n",
      "\u001b[1m[\u001b[0m\u001b[34;49mnotice\u001b[0m\u001b[1;39;49m]\u001b[0m\u001b[39;49m A new release of pip is available: \u001b[0m\u001b[31;49m24.1\u001b[0m\u001b[39;49m -> \u001b[0m\u001b[32;49m24.1.2\u001b[0m\n",
      "\u001b[1m[\u001b[0m\u001b[34;49mnotice\u001b[0m\u001b[1;39;49m]\u001b[0m\u001b[39;49m To update, run: \u001b[0m\u001b[32;49mpip install --upgrade pip\u001b[0m\n",
      "Note: you may need to restart the kernel to use updated packages.\n"
     ]
    }
   ],
   "source": [
    "%pip install --quiet langchain_ollama"
   ]
  },
  {
   "cell_type": "code",
   "execution_count": 6,
   "id": "61ada650",
   "metadata": {},
   "outputs": [],
   "source": [
    "from langchain_ollama import OllamaEmbeddings\n",
    "\n",
    "embed_ollama = OllamaEmbeddings(model=\"nomic-embed-text\")"
   ]
  },
  {
   "cell_type": "markdown",
   "id": "c3feefee",
   "metadata": {},
   "source": [
    "### Cohere Embedding"
   ]
  },
  {
   "cell_type": "code",
   "execution_count": 6,
   "id": "a9ef7bb1",
   "metadata": {},
   "outputs": [
    {
     "name": "stdout",
     "output_type": "stream",
     "text": [
      "Note: you may need to restart the kernel to use updated packages.\n"
     ]
    }
   ],
   "source": [
    "%pip install --quiet langchain-cohere"
   ]
  },
  {
   "cell_type": "code",
   "execution_count": 111,
   "id": "c10a6f8c",
   "metadata": {},
   "outputs": [],
   "source": [
    "from langchain_cohere import CohereEmbeddings\n",
    "\n",
    "embed_cohere = CohereEmbeddings(model=\"embed-multilingual-v3.0\") \n"
   ]
  },
  {
   "cell_type": "markdown",
   "id": "d17705e5",
   "metadata": {},
   "source": [
    "### Set the Embedding Model"
   ]
  },
  {
   "cell_type": "code",
   "execution_count": 116,
   "id": "e55be370",
   "metadata": {},
   "outputs": [],
   "source": [
    "embedding_model = embed_hf"
   ]
  },
  {
   "cell_type": "markdown",
   "id": "b8bd0ddd-b4b3-45f3-9b57-dcebf502a4c9",
   "metadata": {},
   "source": [
    "## 載入文件來源（Load Documents）"
   ]
  },
  {
   "cell_type": "markdown",
   "id": "2368feda-add7-4140-8f52-52832c6826b0",
   "metadata": {},
   "source": [
    "### PDF + TXT + Markdown 檔案"
   ]
  },
  {
   "cell_type": "code",
   "execution_count": 12,
   "id": "6c84156f",
   "metadata": {},
   "outputs": [
    {
     "name": "stderr",
     "output_type": "stream",
     "text": [
      "I0000 00:00:1722759117.855434  196154 work_stealing_thread_pool.cc:320] WorkStealingThreadPoolImpl::PrepareFork\n",
      "I0000 00:00:1722759117.855803  196154 fork_posix.cc:77] Other threads are currently calling into gRPC, skipping fork() handlers\n"
     ]
    },
    {
     "name": "stdout",
     "output_type": "stream",
     "text": [
      "\n",
      "\u001b[1m[\u001b[0m\u001b[34;49mnotice\u001b[0m\u001b[1;39;49m]\u001b[0m\u001b[39;49m A new release of pip is available: \u001b[0m\u001b[31;49m24.1.2\u001b[0m\u001b[39;49m -> \u001b[0m\u001b[32;49m24.2\u001b[0m\n",
      "\u001b[1m[\u001b[0m\u001b[34;49mnotice\u001b[0m\u001b[1;39;49m]\u001b[0m\u001b[39;49m To update, run: \u001b[0m\u001b[32;49mpip install --upgrade pip\u001b[0m\n",
      "Note: you may need to restart the kernel to use updated packages.\n"
     ]
    }
   ],
   "source": [
    "%pip install --quiet pypdf unstructured pdfminer.six pillow_heif matplotlib unstructured_inference"
   ]
  },
  {
   "cell_type": "code",
   "execution_count": 117,
   "id": "f6ea6945",
   "metadata": {},
   "outputs": [
    {
     "name": "stdout",
     "output_type": "stream",
     "text": [
      "Pages: 26\n"
     ]
    }
   ],
   "source": [
    "from langchain_community.document_loaders import TextLoader, PyPDFLoader, UnstructuredMarkdownLoader\n",
    "from langchain.schema import Document\n",
    "import textwrap\n",
    "\n",
    "DATA_PATH = \"docs\"\n",
    "\n",
    "def load_files(dir=DATA_PATH):\n",
    "    pages = []\n",
    "    path = os.path.join(os.getcwd(), dir)\n",
    "\n",
    "    for filename in os.listdir(path):\n",
    "        if filename.endswith(\".pdf\"):\n",
    "            loader = PyPDFLoader(path + '/' + filename)\n",
    "            pages.extend(loader.load())\n",
    "        elif filename.endswith(\".txt\"):\n",
    "            loader = TextLoader(path + '/' + filename)\n",
    "            pages.extend(loader.load())\n",
    "        elif filename.endswith(\".md\"):\n",
    "            loader = UnstructuredMarkdownLoader(path + '/' + filename)\n",
    "            pages.extend(loader.load())\n",
    "        else:\n",
    "            print(f\"Unsupported file type: {filename}\")\n",
    "        \n",
    "    return pages\n",
    "\n",
    "def load_files2(dir=DATA_PATH):\n",
    "    docs = []\n",
    "    path = os.path.join(os.getcwd(), dir)\n",
    "\n",
    "    for filename in os.listdir(path):\n",
    "        if filename.endswith(\".pdf\"):\n",
    "            loader = PyPDFLoader(path + '/' + filename)\n",
    "            pdf_pages = loader.load()\n",
    "            doc = merge_pages_contenct(pdf_pages)\n",
    "            docs.extend(doc)\n",
    "        elif filename.endswith(\".txt\"):\n",
    "            loader = TextLoader(path + '/' + filename)\n",
    "            docs.extend(loader.load())\n",
    "        elif filename.endswith(\".md\"):\n",
    "            loader = UnstructuredMarkdownLoader(path + '/' + filename)\n",
    "            docs.extend(loader.load())\n",
    "        else:\n",
    "            print(f\"Unsupported file type: {filename}\")\n",
    "        \n",
    "    return docs\n",
    "\n",
    "def merge_pages_contenct(pages):\n",
    "    merged_content = \"\"\n",
    "    doc = []\n",
    "    for page in pages:\n",
    "        merged_content += page.page_content + \"\\n\"\n",
    "\n",
    "    doc = yield Document(page_content=merged_content, metadata={'source': page.metadata['source']})\n",
    "    return doc\n",
    "\n",
    "\n",
    "def pprint_result(result):\n",
    "    print(\"Answer: \" + \"\\n\".join(textwrap.wrap(result)))\n",
    "\n",
    "def pretty_print_docs(docs):\n",
    "    print(\n",
    "        f\"\\n{'-' * 100}\\n\".join(\n",
    "            [f\"Document {i+1}:\\n\\n\" + d.page_content for i, d in enumerate(docs)]\n",
    "        )\n",
    "    )\n",
    "\n",
    "all_pages = load_files2()\n",
    "print(f\"Pages: {len(all_pages)}\")"
   ]
  },
  {
   "cell_type": "code",
   "execution_count": 118,
   "id": "4df9ec0b",
   "metadata": {},
   "outputs": [
    {
     "name": "stdout",
     "output_type": "stream",
     "text": [
      "Answer: 法規名稱：勞工退休金條例施行細則  修正日期：民國 110 年 07 月 12 日  第 一 章 總則  第 1 條\n",
      "本細則依勞工退休金條例（以下簡稱本條例）第五十七條規定訂定之。  第 2 條  1 雇主依本條例第六條第一項規定申報提繳退休金時，應填具勞工\n",
      "退休金提繳單位申請書（以下簡稱提繳單位申請書）及勞工退休金提繳申報表（以下簡稱提繳申報表）各一份送勞動部勞工保險局（以下簡稱勞保局）。  2\n",
      "前項已參加勞工保險或就業保險者，得免填提繳單位申請書，其提繳單位編號由勞保局逕行編列。  第 3 條  1 雇主依本條例第六條第一項規定申報\n",
      "提繳退休金時，除政府機關、公立學校及使用政府機關（構）提供之線上申請系統辦理者外，應檢附雇主國民身分證影本，或負責人國民身分證影本及下列證件\n",
      "影本：  一、工廠：工廠登記有關證明文件。  二、礦場：礦場登記證、採礦或探礦執照。  三、鹽場、農場、牧場、林場、茶場等：登記證書。\n",
      "四、交通事業：運輸業許可證或有關證明文件。  五、公用事業：事業執照或有關證明文件。  六、公司、行號：公司登記證明文件或商業登記證明文件。\n",
      "七、私立學校、新聞事業、文化事業、公益事業、合作事業、漁業、職業訓練機構及各業人民團體：立案或登記證明書。\n",
      "八、其他事業單位：目的事業主管機關核發之許可或證明文件。  2\n",
      "不能取得前項各款規定之證件者，應檢附稅捐稽徵機關核發之扣繳單位設立（變更）登記或使用統一發票購票證辦理。  3\n",
      "依第一項規定應檢附負責人國民身分證影本者，負責人非本國籍時，以居留證或護照影本為之。  第 4 條  1\n",
      "有下列資料變更時，雇主應於三十日內向勞保局申請：  一、事業單位之名稱、登記地址或通訊地址變更。  二、負責人變更。  2\n",
      "未依前項規定辦理變更手續者，勞保局得依勞工保險或就業保險之投保單位變更資料或相關機關登記之資料逕予變更。  第 4-1 條  1\n",
      "雇主為本條例第七條第一項第二款至第四款人員申報提繳退休金時，應檢附其在我國居留證影本。  2\n",
      "依本條例第七條第二項規定自願提繳退休金者，準用前項規定。  第 4-2 條\n",
      "本條例第七條第二項第二款所稱自營作業者，指有下列情形之一，並獲致報酬，且未僱用有酬人員幫同工作者：  一、自己經營或合夥經營事業。\n",
      "二、獨立從事勞動或技藝工作。  第 二 章 制度之適用及銜接  第 5 條  1\n",
      "雇主依本條例第九條第一項規定以書面徵詢勞工，應由勞工親自簽名。書面徵詢格式一式二份，雇主及勞工各留存一份。  2\n",
      "雇主應將徵詢結果填具勞工退休金制度選擇及提繳申報表寄交勞保局，並留存一份。  3 勞工依本條例第九條第一項規定選擇本條例勞工退休金制度時，除\n",
      "依第一項規定以書面向雇主表明外，並得以書面向勞保局聲明。雇主申報如與勞工聲明不同者，以勞工聲明為準。  4\n",
      "勞工依本條例第九條第二項規定選擇適用本條例退休金制度時，應以書面為之，並親自簽名。  5\n",
      "勞工依本條例第八條之一第二項規定選擇適用勞動基準法之退休金規定時，應以書面為之，並親自簽名；該書面一式二份，雇主及勞工各留存一份。  第 6\n",
      "條  事業單位未經核准實施年金保險前，應依本條例第六條第一項規定為勞工提繳退休金至個人退休金專戶。  第 7 條  1 事業單位依本條例第三\n",
      "十五條第一項規定徵詢勞工之選擇時，勞工未選擇參加年金保險者，除選擇適用勞動基準法之退休金制度者外，雇主應為其提繳退休金至個人退休金專戶。\n",
      "2 新進勞工未選擇參加年金保險者，雇主應為其提繳退休金至個人退休金專戶。  3\n",
      "雇主徵詢勞工之選擇時，應以書面為之，並由勞工親自簽名。書面徵詢格式一式二份，雇主及勞工應各留存一份。  第 8 條  1 本條例施行後，經中\n",
      "央主管機關公告指定適用勞動基準法之勞工，應適用本條例之退休金制度，由雇主為其提繳退休金至個人退休金專戶，並於適用勞動基準法之日起十五日內向勞\n",
      "保局辦理申報。但依本條例第三十五條規定實施年金保險者，不在此限。  2\n",
      "前項勞工適用本條例前之工作年資，其退休金及資遣費給與標準，依勞動基準法第八十四條之二規定辦理。  第 9 條\n",
      "勞工同期間受僱於二個以上之雇主者，各該雇主應依本條例第六條規定分別提繳。  第 10 條\n",
      "勞工遭遇職業災害，醫療中不能工作之期間，雇主應以勞動基準法第五十九條第二款規定之原領工資，依月提繳分級表按月為勞工提繳退休金。  第 11\n",
      "條  事業單位依勞動基準法第二十條規定改組、轉讓或依企業併購法、金融機構合併法進行併購者，其留用勞工依本條例第八條之一第二項、第九條第一項、\n",
      "第二項、第十一條第一項或第三十五條第一項規定選擇適用之退休金制度及保留之工作年資，併購後存續、新設或受讓之事業單位應予承受。  第 12 條\n",
      "1 勞工得將依本條例第十三條第二項規定約定結清之退休金，移入勞保局之\n"
     ]
    }
   ],
   "source": [
    "#print(f\"\\n\".join(str(page.metadata) for page in all_pages[:3]))\n",
    "pprint_result(all_pages[0].page_content[:2000])"
   ]
  },
  {
   "cell_type": "markdown",
   "id": "1b4eb22a-7028-4778-a1cc-f6a393f46a60",
   "metadata": {},
   "source": [
    "## 切割文字（Split Text)"
   ]
  },
  {
   "cell_type": "code",
   "execution_count": 129,
   "id": "af10d538-50a4-4107-a24f-bcea66e053f7",
   "metadata": {},
   "outputs": [
    {
     "name": "stdout",
     "output_type": "stream",
     "text": [
      "Chunks: 945\n"
     ]
    }
   ],
   "source": [
    "from langchain_text_splitters import RecursiveCharacterTextSplitter\n",
    "from langchain.schema import Document\n",
    "\n",
    "def split_text(docs: list[Document]):\n",
    "    text_splitter = RecursiveCharacterTextSplitter(\n",
    "        chunk_size=500, \n",
    "        chunk_overlap=120, \n",
    "        add_start_index=True,\n",
    "        separators=[\n",
    "            \"\\uff0e\",  # Fullwidth full stop \"．\"\n",
    "            \"\\u3002\",  # Ideographic full stop \"。\"\n",
    "            \"\\uff0c\",  # Fullwidth comma \"，\"\n",
    "        ],\n",
    "    )\n",
    "    splits = text_splitter.split_documents(docs)\n",
    "    return splits\n",
    "\n",
    "def split_text2(docs: list[Document]):\n",
    "    text_splitter = RecursiveCharacterTextSplitter(\n",
    "        chunk_size=500, \n",
    "        chunk_overlap=125, \n",
    "        add_start_index=True,\n",
    "        separators=[\n",
    "            \"第 .+ 章 .+\\n\\n\",\n",
    "            \"第 [123456789-]+ 條\\n\\n\",\n",
    "            \"\\uff0e\",  # Fullwidth full stop \"．\"\n",
    "            \"\\u3002\",  # Ideographic full stop \"。\"\n",
    "            \"\\uff0c\",  # Fullwidth comma \"，\"\n",
    "        ],\n",
    "        is_separator_regex=True,\n",
    "    )\n",
    "    splits = text_splitter.split_documents(docs)\n",
    "    return splits\n",
    "\n",
    "\n",
    "\n",
    "all_chunks = split_text2(all_pages)\n",
    "print(f\"Chunks: {len(all_chunks)}\")"
   ]
  },
  {
   "cell_type": "code",
   "execution_count": 130,
   "id": "4edcb1e0",
   "metadata": {},
   "outputs": [
    {
     "name": "stdout",
     "output_type": "stream",
     "text": [
      "Document 1:\n",
      "\n",
      "法規名稱：勞工退休金條例施行細則\n",
      "\n",
      "修正日期：民國 110 年 07 月 12 日\n",
      "----------------------------------------------------------------------------------------------------\n",
      "Document 2:\n",
      "\n",
      "第 一 章 總則\n",
      "\n",
      "第 1 條\n",
      "\n",
      "本細則依勞工退休金條例（以下簡稱本條例）第五十七條規定訂定之。\n",
      "\n",
      "第 2 條\n",
      "\n",
      "1 雇主依本條例第六條第一項規定申報提繳退休金時，應填具勞工退休金提繳單位申請書（以下簡稱提繳單位申請書）及勞工退休金提繳申報表（以下簡稱提繳申報表）各一份送勞動部勞工保險局（以下簡稱勞保局）。\n",
      "\n",
      "2 前項已參加勞工保險或就業保險者，得免填提繳單位申請書，其提繳單位編號由勞保局逕行編列。\n",
      "----------------------------------------------------------------------------------------------------\n",
      "Document 3:\n",
      "\n",
      "第 3 條\n",
      "\n",
      "1 雇主依本條例第六條第一項規定申報提繳退休金時，除政府機關、公立學校及使用政府機關（構）提供之線上申請系統辦理者外，應檢附雇主國民身分證影本，或負責人國民身分證影本及下列證件影本：\n",
      "\n",
      "一、工廠：工廠登記有關證明文件。\n",
      "\n",
      "二、礦場：礦場登記證、採礦或探礦執照。\n",
      "\n",
      "三、鹽場、農場、牧場、林場、茶場等：登記證書。\n",
      "\n",
      "四、交通事業：運輸業許可證或有關證明文件。\n",
      "\n",
      "五、公用事業：事業執照或有關證明文件。\n",
      "\n",
      "六、公司、行號：公司登記證明文件或商業登記證明文件。\n",
      "\n",
      "七、私立學校、新聞事業、文化事業、公益事業、合作事業、漁業、職業訓練機構及各業人民團體：立案或登記證明書。\n",
      "\n",
      "八、其他事業單位：目的事業主管機關核發之許可或證明文件。\n",
      "\n",
      "2 不能取得前項各款規定之證件者，應檢附稅捐稽徵機關核發之扣繳單位設立（變更）登記或使用統一發票購票證辦理。\n",
      "\n",
      "3 依第一項規定應檢附負責人國民身分證影本者，負責人非本國籍時，以居留證或護照影本為之。\n",
      "----------------------------------------------------------------------------------------------------\n",
      "Document 4:\n",
      "\n",
      "第 4 條\n",
      "\n",
      "1 有下列資料變更時，雇主應於三十日內向勞保局申請：\n",
      "\n",
      "一、事業單位之名稱、登記地址或通訊地址變更。\n",
      "\n",
      "二、負責人變更。\n",
      "\n",
      "2 未依前項規定辦理變更手續者，勞保局得依勞工保險或就業保險之投保單位變更資料或相關機關登記之資料逕予變更。\n",
      "\n",
      "第 4-1 條\n",
      "\n",
      "1 雇主為本條例第七條第一項第二款至第四款人員申報提繳退休金時，應檢附其在我國居留證影本。\n",
      "\n",
      "2 依本條例第七條第二項規定自願提繳退休金者，準用前項規定。\n",
      "\n",
      "第 4-2 條\n",
      "\n",
      "本條例第七條第二項第二款所稱自營作業者，指有下列情形之一，並獲致報酬，且未僱用有酬人員幫同工作者：\n",
      "\n",
      "一、自己經營或合夥經營事業。\n",
      "\n",
      "二、獨立從事勞動或技藝工作。\n",
      "----------------------------------------------------------------------------------------------------\n",
      "Document 5:\n",
      "\n",
      "第 二 章 制度之適用及銜接\n",
      "\n",
      "第 5 條\n",
      "\n",
      "1 雇主依本條例第九條第一項規定以書面徵詢勞工，應由勞工親自簽名。書面徵詢格式一式二份，雇主及勞工各留存一份。\n",
      "\n",
      "2 雇主應將徵詢結果填具勞工退休金制度選擇及提繳申報表寄交勞保局，並留存一份。\n",
      "\n",
      "3 勞工依本條例第九條第一項規定選擇本條例勞工退休金制度時，除依第一項規定以書面向雇主表明外，並得以書面向勞保局聲明。雇主申報如與勞工聲明不同者，以勞工聲明為準。\n",
      "\n",
      "4 勞工依本條例第九條第二項規定選擇適用本條例退休金制度時，應以書面為之，並親自簽名。\n",
      "\n",
      "5 勞工依本條例第八條之一第二項規定選擇適用勞動基準法之退休金規定時，應以書面為之，並親自簽名；該書面一式二份，雇主及勞工各留存一份。\n",
      "\n",
      "第 6 條\n",
      "\n",
      "事業單位未經核准實施年金保險前，應依本條例第六條第一項規定為勞工提繳退休金至個人退休金專戶。\n",
      "----------------------------------------------------------------------------------------------------\n",
      "Document 6:\n",
      "\n",
      "第 6 條\n",
      "\n",
      "事業單位未經核准實施年金保險前，應依本條例第六條第一項規定為勞工提繳退休金至個人退休金專戶。\n",
      "\n",
      "第 7 條\n",
      "\n",
      "1 事業單位依本條例第三十五條第一項規定徵詢勞工之選擇時，勞工未選擇參加年金保險者，除選擇適用勞動基準法之退休金制度者外，雇主應為其提繳退休金至個人退休金專戶。\n",
      "\n",
      "2 新進勞工未選擇參加年金保險者，雇主應為其提繳退休金至個人退休金專戶。\n",
      "\n",
      "3 雇主徵詢勞工之選擇時，應以書面為之，並由勞工親自簽名。書面徵詢格式一式二份，雇主及勞工應各留存一份。\n",
      "\n",
      "第 8 條\n",
      "\n",
      "1 本條例施行後，經中央主管機關公告指定適用勞動基準法之勞工，應適用本條例之退休金制度，由雇主為其提繳退休金至個人退休金專戶，並於適用勞動基準法之日起十五日內向勞保局辦理申報。但依本條例第三十五條規定實施年金保險者，不在此限。\n",
      "\n",
      "2 前項勞工適用本條例前之工作年資，其退休金及資遣費給與標準，依勞動基準法第八十四條之二規定辦理。\n",
      "----------------------------------------------------------------------------------------------------\n",
      "Document 7:\n",
      "\n",
      "第 9 條\n",
      "\n",
      "勞工同期間受僱於二個以上之雇主者，各該雇主應依本條例第六條規定分別提繳。\n",
      "\n",
      "第 10 條\n",
      "\n",
      "勞工遭遇職業災害，醫療中不能工作之期間，雇主應以勞動基準法第五十九條第二款規定之原領工資，依月提繳分級表按月為勞工提繳退休金。\n",
      "\n",
      "第 11 條\n",
      "\n",
      "事業單位依勞動基準法第二十條規定改組、轉讓或依企業併購法、金融機構合併法進行併購者，其留用勞工依本條例第八條之一第二項、第九條第一項、第二項、第十一條第一項或第三十五條第一項規定選擇適用之退休金制度及保留之工作年資，併購後存續、新設或受讓之事業單位應予承受。\n",
      "\n",
      "第 12 條\n",
      "\n",
      "1 勞工得將依本條例第十三條第二項規定約定結清之退休金，移入勞保局之個人退休金專戶或依本條例投保之年金保險；於未符合本條例第二十四條第一項或第二十四條之二第一項規定之請領退休金條件前，不得領回。\n",
      "\n",
      "2 勞工依前項規定全額移入退休金者，其所採計工作年資，始得併計為本條例第二十四條及第二十四條之二第一項之工作年資；移入時，應通知勞保局或保險人。\n",
      "\n",
      "第 12-1 條\n",
      "\n",
      "（刪除）\n",
      "\n",
      "第 13 條\n",
      "\n",
      "（刪除）\n",
      "----------------------------------------------------------------------------------------------------\n",
      "Document 8:\n",
      "\n",
      "第 12-1 條\n",
      "\n",
      "（刪除）\n",
      "\n",
      "第 13 條\n",
      "\n",
      "（刪除）\n",
      "\n",
      "第 14 條\n",
      "\n",
      "1 選擇適用個人退休金專戶之勞工，離職後再就業，依本條例第三十五條第一項規定選擇投保年金保險時，得選擇保留已提存之個人退休金專戶，或一次將其個人退休金專戶之本金及收益移轉至年金保險。\n",
      "\n",
      "2 選擇投保年金保險之勞工，離職後再就業，選擇由雇主為其提繳退休金至個人退休金專戶時，得選擇保留已提存之年金保險，或一次將其年金保險之保單價值準備金移轉至個人退休金專戶。\n",
      "\n",
      "3 依前二項規定之移轉，勞保局及保險人應於收到申請書之日起三十日內，完成移轉作業。\n",
      "----------------------------------------------------------------------------------------------------\n",
      "Document 9:\n",
      "\n",
      "第 三 章 退休金專戶之提繳與請領\n",
      "\n",
      "第 15 條\n",
      "\n",
      "1 依本條例第十四條第一項至第三項規定提繳之退休金，由雇主或委任單位按勞工每月工資總額，依月提繳分級表之標準，向勞保局申報。\n",
      "\n",
      "2 勞工每月工資如不固定者，以最近三個月工資之平均為準。\n",
      "\n",
      "3 新進勞工申報提繳退休金，其工資尚未確定者，暫以同一工作等級勞工之工資，依月提繳分級表之標準申報。\n",
      "\n",
      "4 適用本條例之勞工同時為勞工保險或全民健康保險之被保險人者，除每月工資總額低於勞工保險投保薪資分級表下限者外，其月提繳工資金額不得低於勞工保險投保薪資或全民健康保險投保金額。\n",
      "\n",
      "第 16 條\n",
      "\n",
      "1 雇主每月負擔之勞工退休金提繳率，除向勞保局申報以不同提繳率為個別勞工提繳外，應依相同之提繳率按月提繳。\n",
      "\n",
      "2 雇主未為本條例第七條第一項人員申報提繳率或申報未達百分之六者，以百分之六計算。\n",
      "----------------------------------------------------------------------------------------------------\n",
      "Document 10:\n",
      "\n",
      "第 16 條\n",
      "\n",
      "1 雇主每月負擔之勞工退休金提繳率，除向勞保局申報以不同提繳率為個別勞工提繳外，應依相同之提繳率按月提繳。\n",
      "\n",
      "2 雇主未為本條例第七條第一項人員申報提繳率或申報未達百分之六者，以百分之六計算。\n",
      "\n",
      "第 17 條\n",
      "\n",
      "1 雇主依本條例規定辦理開始或停止提繳勞工退休金，應填具申報表送勞保局。\n",
      "\n",
      "2 未依前項規定辦理者，勞保局得暫以雇主申報所屬勞工參加勞工保險或就業保險加保或退保生效日期，並依所申報之勞工保險投保薪資或全民健康保險投保金額為月提繳工資，開始或停止計收勞工退休金。\n",
      "\n",
      "第 18 條\n",
      "\n",
      "雇主所送勞工退休金申報資料，有疏漏者，除提繳率應依第十六條規定辦理外，應於接到勞保局書面通知之翌日起十日內補正。\n",
      "----------------------------------------------------------------------------------------------------\n",
      "Document 11:\n",
      "\n",
      "第 18 條\n",
      "\n",
      "雇主所送勞工退休金申報資料，有疏漏者，除提繳率應依第十六條規定辦理外，應於接到勞保局書面通知之翌日起十日內補正。\n",
      "\n",
      "第 19 條\n",
      "\n",
      "1 勞工或受委任工作者之姓名、出生年月日及國民身分證統一編號或居留證統一證號有變更或錯誤時，雇主或委任單位應即填具勞工資料變更申請書，並檢附國民身分證影本、居留證影本或有關證件，送勞保局辦理變更。\n",
      "\n",
      "2 未依前項規定辦理者，勞保局得依勞工保險或就業保險之被保險人變更資料或相關機關登記之資料逕予變更。\n",
      "\n",
      "第 20 條\n",
      "\n",
      "實際從事勞動之雇主自願提繳退休金時，應與所僱用之勞工併同辦理。\n",
      "\n",
      "第 21 條\n",
      "\n",
      "1 本條例第七條第一項及第二項第三款、第四款人員依本條例第十四條第三項規定自願提繳退休金者，雇主或委任單位應填具提繳申報表通知勞保局，並得自其工資中扣繳，連同雇主負擔部分，一併向勞保局繳納。\n",
      "\n",
      "2 前項人員停止自願提繳退休金時，應通知雇主或委任單位，由雇主或委任單位填具停止提繳申報表送勞保局，辦理停止自願提繳退休金。\n",
      "\n",
      "3 依本條例第十四條第三項或第四項規定自願提繳退休金者，因可歸責於其個人事由而屆期未繳納，視同停止提繳。\n",
      "----------------------------------------------------------------------------------------------------\n",
      "Document 12:\n",
      "\n",
      "第 21-1 條\n",
      "\n",
      "1 自營作業者依本條例申報提繳退休金時，應填具自營作業者自願提繳勞工退休金申請書及委託轉帳代繳勞工退休金約定書，並檢附國民身分證或居留證影本送勞保局辦理。\n",
      "\n",
      "2 自營作業者之姓名、出生年月日、國民身分證統一編號或居留證統一證號、戶籍或通訊地址有變更或錯誤時，應檢附國民身分證或居留證影本，向勞保局辦理變更。\n",
      "\n",
      "第 22 條\n",
      "\n",
      "1 勞工退休金繳款單採按月開單，每月以三十日計算。\n",
      "\n",
      "2 雇主為每一勞工提繳之退休金總額，以元為單位，角以下四捨五入。\n",
      "\n",
      "3 雇主應提繳及收取之退休金數額，由勞保局繕具繳款單於次月二十五日前寄發或以電子資料傳輸方式遞送雇主繳納。\n",
      "\n",
      "4 委任單位為受委任工作者提繳退休金時，應依前三項規定辦理。\n",
      "\n",
      "第 23 條\n",
      "\n",
      "1 提繳退休金時，雇主或委任單位應持勞工退休金繳款單至指定之代收機構繳納或以辦理自動轉帳方式繳納之。\n",
      "\n",
      "2 自營作業者每月自願提繳退休金數額，由勞保局於次月二十五日前計算，並於再次月底前，由自營作業者委託轉帳代繳勞工退休金之金融機構帳戶扣繳之。\n",
      "----------------------------------------------------------------------------------------------------\n",
      "Document 13:\n",
      "\n",
      "第 24 條\n",
      "\n",
      "雇主未依勞工退休金繳款單所載金額足額繳納者，由勞保局逕行將雇主所繳金額按每位勞工應提繳金額比例分配之。\n",
      "\n",
      "第 25 條\n",
      "\n",
      "勞工退休金繳款單所載金額與雇主應繳金額不符時，雇主應先照額全數繳納，並向勞保局提出調整理由，經勞保局查明後，於計算最近月份提繳金額時，一併結算。\n",
      "\n",
      "第 26 條\n",
      "\n",
      "雇主於每月十五日前尚未收到勞保局上個月應寄發之勞工退休金繳款單時，應通知勞保局補發。\n",
      "\n",
      "第 27 條\n",
      "\n",
      "事業單位有歇業、解散、破產宣告或已無營業事實，且未僱用勞工者，其應提繳退休金及應加徵滯納金之計算，以事實確定日為準，未能確定者，以勞保局查定之日為準。\n",
      "\n",
      "第 28 條\n",
      "\n",
      "雇主依本條例第十八條及第二十條第一項規定申報停止提繳退休金時，勞工自願提繳部分即同時停止。\n",
      "\n",
      "第 29 條\n",
      "\n",
      "雇主應將每月為勞工所提繳之退休金數額，於勞工薪資單中註明或另以其他書面方式或以電子資料傳輸方式通知勞工。勞工自願提繳之退休金數額，亦應一併註明，年終時應另掣發收據。\n",
      "\n",
      "第 30 條\n",
      "\n",
      "（刪除）\n",
      "----------------------------------------------------------------------------------------------------\n",
      "Document 14:\n",
      "\n",
      "第 29 條\n",
      "\n",
      "雇主應將每月為勞工所提繳之退休金數額，於勞工薪資單中註明或另以其他書面方式或以電子資料傳輸方式通知勞工。勞工自願提繳之退休金數額，亦應一併註明，年終時應另掣發收據。\n",
      "\n",
      "第 30 條\n",
      "\n",
      "（刪除）\n",
      "\n",
      "第 31 條\n",
      "\n",
      "本條例第二十三條第一項第一款之年金生命表、平均餘命、利率及金額，由勞保局擬訂，報請中央主管機關核定後主動公開之，並至少每三年檢討一次。\n",
      "\n",
      "第 32 條\n",
      "\n",
      "1 本條例第二十三條第二項所定勞工退休金運用收益，不得低於以當地銀行二年定期存款利率計算之收益，為開始提繳之日起至依法領取退休金之日止期間之累積收益，不得低於同期間以每年當地銀行二年定期存款利率之全年平均利率計算之累積收益。\n",
      "\n",
      "2 前項所稱當地銀行二年定期存款利率，指依臺灣銀行股份有限公司、第一銀行股份有限公司、合作金庫銀行股份有限公司、華南銀行股份有限公司、土地銀行股份有限公司、彰化銀行股份有限公司等六家行庫每月第一個營業日牌告二年期小額定期存款之固定利率，計算之平均年利率。\n",
      "\n",
      "3 勞動部勞動基金運用局（以下簡稱基金運用局）應每月公告前項平均年利率，作為當月之最低保證收益率。\n",
      "----------------------------------------------------------------------------------------------------\n",
      "Document 15:\n",
      "\n",
      "第 33 條\n",
      "\n",
      "1 勞工申請月退休金者，因提繳時差尚未提繳入專戶之金額，以已提繳論。屆期未繳入專戶者，應由其月退休金額中沖還。\n",
      "\n",
      "2 請領一次退休金者，其當月退休金專戶本金，以核定時已提繳入專戶之金額為準，其後所提繳之金額，勞保局應無息核發請領人。\n",
      "\n",
      "第 34 條\n",
      "\n",
      "1 勞工或其遺屬或指定請領人申請退休金時之累積收益金額，除已分配入專戶之收益外，尚未分配期間之收益，以申請當月基金運用局公告最近月份之收益率，計算至申請當月止。\n",
      "\n",
      "2 前項所定收益率，計算至百分率小數點第四位。\n",
      "\n",
      "第 35 條\n",
      "\n",
      "1 本條例第二十四條第一項及第二十四條之二第一項之工作年資，以實際提繳退休金之月數計算。\n",
      "\n",
      "2 勞工參加本條例年金保險之工作年資，將年金保險之保單價值準備金全額移撥至個人退休金專戶者，始合併計算。\n",
      "\n",
      "第 36 條\n",
      "\n",
      "（刪除）\n",
      "----------------------------------------------------------------------------------------------------\n",
      "Document 16:\n",
      "\n",
      "第 36 條\n",
      "\n",
      "（刪除）\n",
      "\n",
      "第 37 條\n",
      "\n",
      "1 勞工依本條例第二十八條第一項規定請領勞工退休金時，應填具勞工退休金申請書。\n",
      "\n",
      "2 勞工依本條例第二十四條之二第一項規定請領勞工退休金時，應填具提前請領勞工退休金申請書；依該條第一項第三款規定請領者，並應檢附重度以上身心障礙手冊（證明）正背面影本。\n",
      "\n",
      "3 前二項請領人未於國內設有戶籍者，應另檢附身分證明相關文件。\n",
      "\n",
      "第 37-1 條\n",
      "\n",
      "1 本條例第二十五條規定之年金保險開辦前，勞工依本條例規定，選擇請領月退休金者，其個人退休金專戶之累積數額，全數依本條例第二十三條第一項第一款規定計算發給。\n",
      "\n",
      "2 勞保局依本條例第二十四條之二核發月退休金數額時，應以勞工決定請領月退休金之年限，作為本條例第二十三條第一項第一款之月退休金計算基礎。\n",
      "\n",
      "3 前項年限應以年為單位，並以整數計之。經核發後，不得再為變更。\n",
      "----------------------------------------------------------------------------------------------------\n",
      "Document 17:\n",
      "\n",
      "第 38 條\n",
      "\n",
      "1 勞工之遺屬或指定請領人依本條例第二十八條規定請領勞工退休金者，應填具勞工遺屬或指定請領人之退休金申請書，並檢附下列文件：\n",
      "\n",
      "一、載有勞工死亡日期之戶口名簿影本、死亡診斷書、檢察官相驗屍體證明書、死亡宣告裁定或相當證明文件。\n",
      "\n",
      "二、請領人與勞工非同一戶籍者，其證明身分關係之相關戶口名簿影本或相當證明文件。\n",
      "\n",
      "三、遺囑指定請領人應檢附之身分證明文件影本及遺囑影本。\n",
      "\n",
      "2 指定請領人有二人以上者，應依本條例第二十七條第二項規定辦理。遺囑載有分配比例者，請領人應於領取後自行分配。\n",
      "----------------------------------------------------------------------------------------------------\n",
      "Document 18:\n",
      "\n",
      "第 39 條\n",
      "\n",
      "1 勞工或其遺屬或指定請領人，因僑居國外，不能返國或來臺請領勞工退休金時，可由請領人擬具委託書，並檢附僑居地之我國駐外使領館、代表處、辦事處或其他外交部授權機構（以下簡稱駐外館處）或該國出具之身分證明文件，委託代領轉發。\n",
      "\n",
      "2 前項委託書及身分證明文件，應包含中文譯本，送我國駐外館處驗證，中文譯本未驗證者，應由我國法院或民間公證人公證。但委託書及身分證明文件為英文者，除勞保局認有需要外，得予免附中文譯本。\n",
      "\n",
      "3 第一項請領人為大陸地區人民，無法來臺領取退休金時，得由請領人擬具委託書，並附身分證明文件委託代領轉發。委託書及身分證明文件需經大陸公證，並經我國認可之相關機構驗證。\n",
      "\n",
      "第 40 條\n",
      "\n",
      "1 本條例第二十八條第二項所定月退休金，以定期方式按季發給；其核發日期如下：\n",
      "\n",
      "一、一月至三月份之月退休金，於二月底前發給。\n",
      "\n",
      "二、四月至六月份之月退休金，於五月三十一日前發給。\n",
      "\n",
      "三、七月至九月份之月退休金，於八月三十一日前發給。\n",
      "\n",
      "四、十月至十二月份之月退休金，於十一月三十日前發給。\n",
      "\n",
      "2 前項申請之第一次月退休金經勞保局審查核可者，自收到申請書之次月起核發至當季止。\n",
      "----------------------------------------------------------------------------------------------------\n",
      "Document 19:\n",
      "\n",
      "第 41 條\n",
      "\n",
      "依本條例第二十八條第二項規定應發給之退休金，由勞保局匯入勞工或其遺屬或指定請領人指定之金融機構之本人名義帳戶；其帳戶在國外者，手續費用由領取人負擔。\n",
      "\n",
      "第 42 條\n",
      "\n",
      "退休金領取人經勞保局查明不符請領退休金規定者，應自收到返還通知之日起三十日內，將已領取之退休金返還。屆期未返還者，應附加法定遲延利息一併返還。\n",
      "\n",
      "第 43 條\n",
      "\n",
      "（刪除）\n",
      "----------------------------------------------------------------------------------------------------\n",
      "Document 20:\n",
      "\n",
      "第 四 章 監督及經費\n",
      "\n",
      "第 44 條\n",
      "\n",
      "勞保局辦理本條例第五條及第三十四條規定事項之執行情形，應配合決算編製相關規定，擬具決算報告，並按月將下列書表送基金運用局彙整，報請中央主管機關備查：\n",
      "\n",
      "一、提繳單位數、提繳人數、提繳工資統計表。\n",
      "\n",
      "二、退休金核發統計表。\n",
      "\n",
      "三、退休金收支會計報表。\n",
      "\n",
      "四、其他經中央主管機關規定之文件。\n",
      "\n",
      "第 45 條\n",
      "\n",
      "依本條例第四十四條規定免課之稅捐如下：\n",
      "\n",
      "一、辦理勞工退休金所用之帳冊契據，免徵印花稅。\n",
      "\n",
      "二、辦理勞工退休金所收退休金、滯納金、罰鍰，及因此所承受強制執行標的物之收入、雜項收入及基金運用之收支，免納營業稅及所得稅。\n",
      "----------------------------------------------------------------------------------------------------\n",
      "Document 21:\n",
      "\n",
      "第 五 章 附則\n",
      "\n",
      "第 46 條\n",
      "\n",
      "本條例第十九條第三項及第四十九條規定限期繳納及改善之期限，不得逾三十日。但事業單位遭逢天災或不可抗力者，於必要時得予以延長至六十日。\n",
      "\n",
      "第 47 條\n",
      "\n",
      "雇主違反本條例第十九條第一項規定者，自同條第三項期限屆滿之次日起，依本條例第五十三條第一項規定加徵滯納金。\n",
      "\n",
      "第 48 條\n",
      "\n",
      "（刪除）\n",
      "\n",
      "第 48-1 條\n",
      "\n",
      "1 勞工因終止勞動契約所生爭議，提起給付退休金或資遣費之訴訟，得向中央主管機關申請扶助。\n",
      "\n",
      "2 前項扶助業務，中央主管機關得委託民間團體辦理。\n",
      "\n",
      "第 49 條\n",
      "\n",
      "本細則規定之各種書表格式，由勞保局定之。\n",
      "\n",
      "第 50 條\n",
      "\n",
      "1 本細則自中華民國九十四年七月一日施行。\n",
      "\n",
      "2 本細則修正條文，除中華民國一百零三年六月二十四日修正發布之第三十八條自一百零四年一月一日施行外，自發布日施行。\n",
      "----------------------------------------------------------------------------------------------------\n",
      "Document 22:\n",
      "\n",
      "勞動基準法相關假別\n",
      "\n",
      "假別：\n",
      "1. 例假\n",
      "    - 給假原則：勞工每 7 日中應有 2 日之休息，其中 1 日為例假，1 日為休息日。\n",
      "    - 依據：勞動基準法第 36 條\n",
      "\n",
      "2. 國定假日\n",
      "    - 給假原則：內政部所定應放假之紀念日、節日、勞動節及其他中央主管機關指定應放假日。\n",
      "    - 依據：勞動基準法\n",
      "----------------------------------------------------------------------------------------------------\n",
      "Document 23:\n",
      "\n",
      "第 37 條\n",
      "\n",
      "3. 特別休假 (簡稱：特休假)\n",
      "    - 給假原則：\n",
      "        6 個月至未滿 1 年：3 日， 工作滿第 1 年：7 日， 工作滿第 2 年：10 日，工作滿第 3 年：14 日，工作滿第 4 年：14 日，工作滿第 5 年：15 日，工作滿第 6 年：15 日，工作滿第 7 年：15 日，工作滿第 8 年：15 日，工作滿第 9 年：15 日，工作滿第 10 年：16 日，工作滿第 11 年：17 日，工作滿第 12 年：18 日，工作滿第 13 年：19 日，工作滿第 14 年：20 日，工作滿第 15 年：21 日，工作滿第 16 年：22 日，工作滿第 17 年：23 日，工作滿第 18 年：24 日，工作滿第 19 年：25 日，工作滿第 20 年：26 日，工作滿第 21 年：27 日，工作滿第 22 年：28 日，工作滿第 23 年：29 日，工作滿第 24 年：30 日，工作滿第 25 年以上：30 日。\n",
      "    - 依據：勞動基準法第 38 條\n",
      "\n",
      "4. 婚假\n",
      "    - 給假原則：8 日。\n",
      "    - 依據：勞工請假規則\n",
      "----------------------------------------------------------------------------------------------------\n",
      "Document 24:\n",
      "\n",
      "第 38 條\n",
      "\n",
      "4. 婚假\n",
      "    - 給假原則：8 日。\n",
      "    - 依據：勞工請假規則第 2 條\n",
      "\n",
      "5. 喪假\n",
      "    - 給假原則：\n",
      "        1. 父母、養父母、繼父母、配偶喪亡者，喪假8 日。\n",
      "        2. 祖父母、子女、配偶之父母、配偶之養父母或繼父母喪亡者，喪假 6 日。\n",
      "        3. 曾祖父母、兄弟姊妹、配偶之祖父母喪亡者，喪假 3 日。\n",
      "    - 依據：勞工請假規則第 3 條\n",
      "\n",
      "6. 普通傷病假\n",
      "    - 給假原則：\n",
      "        1. 未住院者，1 年內合計不得超過 30 日。\n",
      "        2. 住院者，2 年內合計不得超過 1 年。\n",
      "        3. 未住院傷病假與住院傷病假 2 年內合計不得超過 1 年。\n",
      "        4. 經醫師診斷，罹患癌症（含原位癌）採門診方式治療或懷孕期間需安胎休養者，其治療或休養期間，併入住院傷病假計算。\n",
      "    - 依據：勞工請假規則第 4 條\n",
      "\n",
      "7. 公傷病假\n",
      "    - 給假原則：因職業災害而致失能、傷害或疾病者，其治療、休養期間，給予公傷病假。\n",
      "    - 依據：勞工請假規則\n",
      "----------------------------------------------------------------------------------------------------\n",
      "Document 25:\n",
      "\n",
      "第 4 條\n",
      "\n",
      "7. 公傷病假\n",
      "    - 給假原則：因職業災害而致失能、傷害或疾病者，其治療、休養期間，給予公傷病假。\n",
      "    - 依據：勞工請假規則第 6 條\n",
      "\n",
      "8. 事假\n",
      "    - 給假原則：1 年內合計不得超過 14 日。\n",
      "    - 依據：勞工請假規則第 7 條\n",
      "\n",
      "9. 公假\n",
      "    - 給假原則：依法令規定應給予公假者。\n",
      "    - 依據：勞工請假規則第 8 條\n",
      "----------------------------------------------------------------------------------------------------\n",
      "Document 26:\n",
      "\n",
      "法規名稱：勞工請假規則\n",
      "\n",
      "修正日期：民國 112 年 05 月 01 日\n",
      "\n",
      "第 1 條\n",
      "\n",
      "本規則依勞動基準法（以下簡稱本法）第四十三條規定訂定之。\n",
      "\n",
      "第 2 條\n",
      "\n",
      "勞工結婚者給予婚假八日，工資照給。\n",
      "\n",
      "第 3 條\n",
      "\n",
      "勞工喪假依左列規定：\n",
      "\n",
      "一、父母、養父母、繼父母、配偶喪亡者，給予喪假八日，工資照給。\n",
      "\n",
      "二、祖父母、子女、配偶之父母、配偶之養父母或繼父母喪亡者，給予喪假六日，工資照給。\n",
      "\n",
      "三、曾祖父母、兄弟姊妹、配偶之祖父母喪亡者，給予喪假三日，工資照給。\n",
      "\n",
      "第 4 條\n",
      "\n",
      "1 勞工因普通傷害、疾病或生理原因必須治療或休養者，得在左列規定範圍內請普通傷病假：\n",
      "\n",
      "一、未住院者，一年內合計不得超過三十日。\n",
      "\n",
      "二、住院者，二年內合計不得超過一年。\n",
      "\n",
      "三、未住院傷病假與住院傷病假二年內合計不得超過一年。\n",
      "\n",
      "2 經醫師診斷，罹患癌症（含原位癌）採門診方式治療或懷孕期間需安胎休養者，其治療或休養期間，併入住院傷病假計算。\n",
      "\n",
      "3 普通傷病假一年內未超過三十日部分，工資折半發給，其領有勞工保險普通傷病給付未達工資半數者，由雇主補足之。\n",
      "----------------------------------------------------------------------------------------------------\n",
      "Document 27:\n",
      "\n",
      "第 5 條\n",
      "\n",
      "勞工普通傷病假超過前條第一項規定之期限，經以事假或特別休假抵充後仍未痊癒者，得予留職停薪。但留職停薪期間以一年為限。\n",
      "\n",
      "第 6 條\n",
      "\n",
      "勞工因職業災害而致失能、傷害或疾病者，其治療、休養期間，給予公傷病假。\n",
      "\n",
      "第 7 條\n",
      "\n",
      "勞工因有事故必須親自處理者，得請事假，一年內合計不得超過十四日。事假期間不給工資。\n",
      "\n",
      "第 8 條\n",
      "\n",
      "勞工依法令規定應給予公假者，工資照給，其假期視實際需要定之。\n",
      "\n",
      "第 9 條\n",
      "\n",
      "雇主不得因勞工請婚假、喪假、公傷病假及公假，扣發全勤獎金；勞工因妊娠未滿三個月流產未請產假，而請普通傷病假者，亦同。\n",
      "\n",
      "第 10 條\n",
      "\n",
      "勞工請假時，應於事前親自以口頭或書面敘明請假理由及日數。但遇有急病或緊急事故，得委託他人代辦請假手續。辦理請假手續時，雇主得要求勞工提出有關證明文件。\n",
      "\n",
      "第 11 條\n",
      "\n",
      "雇主或勞工違反本規則之規定時，主管機關得依本法有關規定辦理。\n",
      "\n",
      "第 12 條\n",
      "\n",
      "本規則自發布日施行。\n",
      "----------------------------------------------------------------------------------------------------\n",
      "Document 28:\n",
      "\n",
      "法規名稱：性別平等工作法\n",
      "\n",
      "修正日期：民國 112 年 08 月 16 日\n",
      "----------------------------------------------------------------------------------------------------\n",
      "Document 29:\n",
      "\n",
      "第 一 章 總則\n",
      "\n",
      "第 1 條\n",
      "\n",
      "1 為保障工作權之性別平等，貫徹憲法消除性別歧視、促進性別地位實質平等之精神，爰制定本法。\n",
      "\n",
      "2 工作場所性騷擾事件，除校園性騷擾事件依性別平等教育法規定處理外，依本法規定處理。\n",
      "\n",
      "第 2 條\n",
      "\n",
      "1 雇主與受僱者之約定優於本法者，從其約定。\n",
      "\n",
      "2 本法於公務人員、教育人員及軍職人員，亦適用之。但第三十二條之一、第三十二條之二、第三十三條、第三十四條、第三十八條及第三十八條之一之規定，不適用之。\n",
      "\n",
      "3 公務人員、教育人員及軍職人員之申訴、救濟及處理程序，依各該人事法令之規定。\n",
      "\n",
      "4 本法於雇主依勞動基準法規定招收之技術生及準用技術生規定者，除適用高級中等學校建教合作實施及建教生權益保障法規定之建教生外，亦適用之。但第十六條及第十七條之規定，不在此限。\n",
      "\n",
      "5 實習生於實習期間遭受性騷擾時，適用本法之規定。\n",
      "----------------------------------------------------------------------------------------------------\n",
      "Document 30:\n",
      "\n",
      "第 3 條\n",
      "\n",
      "本法用詞，定義如下：\n",
      "\n",
      "一、受僱者：指受雇主僱用從事工作獲致薪資者。\n",
      "\n",
      "二、求職者：指向雇主應徵工作之人。\n",
      "\n",
      "三、雇主：指僱用受僱者之人、公私立機構或機關。代表雇主行使管理權之人或代表雇主處理有關受僱者事務之人，視同雇主。要派單位使用派遣勞工時，視為第八條、第九條、第十二條、第十三條、第十八條、第十九條及第三十六條規定之雇主。\n",
      "\n",
      "四、實習生：指公立或經立案之私立高級中等以上學校修習校外實習課程之學生。\n",
      "\n",
      "五、要派單位：指依據要派契約，實際指揮監督管理派遣勞工從事工作者。\n",
      "\n",
      "六、派遣勞工：指受派遣事業單位僱用，並向要派單位提供勞務者。\n",
      "\n",
      "七、派遣事業單位：指從事勞動派遣業務之事業單位。\n",
      "\n",
      "八、薪資：指受僱者因工作而獲得之報酬；包括薪資、薪金及按計時、計日、計月、計件以現金或實物等方式給付之獎金、津貼及其他任何名義之經常性給與。\n",
      "\n",
      "九、復職：指回復受僱者申請育嬰留職停薪時之原有工作。\n",
      "\n",
      "第 4 條\n",
      "\n",
      "1 本法所稱主管機關：在中央為勞動部；在直轄市為直轄市政府；在縣（市）為縣（市）政府。\n",
      "\n",
      "2 本法所定事項，涉及各目的事業主管機關職掌者，由各該目的事業主管機關辦理。\n"
     ]
    }
   ],
   "source": [
    "pretty_print_docs(all_chunks[:30])"
   ]
  },
  {
   "cell_type": "markdown",
   "id": "9091e27e-aa5b-4c1c-a1a2-b044da08510b",
   "metadata": {},
   "source": [
    "## 儲存向量庫（Store Vector DB）"
   ]
  },
  {
   "cell_type": "markdown",
   "id": "c7f15fdb-a522-4ce6-9a19-7d9ea3b7ecc4",
   "metadata": {},
   "source": [
    "### Chroma DB"
   ]
  },
  {
   "cell_type": "code",
   "execution_count": 42,
   "id": "3f66472b-28d1-482f-a448-1ebcb8b31a46",
   "metadata": {},
   "outputs": [],
   "source": [
    "from langchain_chroma import Chroma\n",
    "from langchain.schema import Document\n",
    "\n",
    "DB_PATH = \"vector_db\"\n",
    "def save_to_chroma(chunks: list[Document]):\n",
    "    persist_directory = DB_PATH\n",
    "    db = Chroma.from_documents(collection_name=\"full_docs\", documents=chunks, embedding=embedding_model, persist_directory=persist_directory)\n",
    "\n",
    "    # Calculate Page IDs.\n",
    "    #chunks_with_ids = calculate_chunk_ids(chunks)\n",
    "    # Added the Title into the meta-data\n",
    "    chunks_with_ids = calculate_chunk_ids2(chunks)\n",
    "\n",
    "    # Add or Update the documents.\n",
    "    existing_items = db.get(include=[])  # IDs are always included by default\n",
    "    existing_ids = set(existing_items[\"ids\"])\n",
    "    print(f\"Number of existing documents in DB: {len(existing_ids)}\")\n",
    "\n",
    "    # Only add documents that don't exist in the DB.\n",
    "    new_chunks = []\n",
    "    for chunk in chunks_with_ids:\n",
    "        if chunk.metadata[\"id\"] not in existing_ids:\n",
    "            new_chunks.append(chunk)\n",
    "\n",
    "    if len(new_chunks):\n",
    "        print(f\"👉 Adding new documents: {len(new_chunks)}\")\n",
    "        new_chunk_ids = [chunk.metadata[\"id\"] for chunk in new_chunks]\n",
    "        db.add_documents(new_chunks, ids=new_chunk_ids)\n",
    "    else:\n",
    "        print(\"✅ No new documents to add\")\n",
    "\n",
    "def calculate_chunk_ids(chunks: list[Document]):\n",
    "\n",
    "    # This will create IDs like \"data/monopoly.pdf:6:2\"\n",
    "    # Page Source : Page Number : Chunk Index\n",
    "\n",
    "    last_page_id = None\n",
    "    current_chunk_index = 0\n",
    "\n",
    "    for chunk in chunks:\n",
    "        source = chunk.metadata.get(\"source\")\n",
    "        page = chunk.metadata.get(\"page\")\n",
    "        current_page_id = f\"{source}:{page}\"\n",
    "\n",
    "        # If the page ID is the same as the last one, increment the index.\n",
    "        if current_page_id == last_page_id:\n",
    "            current_chunk_index += 1\n",
    "        else:\n",
    "            current_chunk_index = 0\n",
    "\n",
    "        # Calculate the chunk ID.\n",
    "        chunk_id = f\"{current_page_id}:{current_chunk_index}\"\n",
    "        last_page_id = current_page_id\n",
    "\n",
    "        # Add it to the page meta-data.\n",
    "        chunk.metadata[\"id\"] = chunk_id\n",
    "\n",
    "    return chunks\n",
    "\n",
    "def calculate_chunk_ids2(chunks: list[Document]):\n",
    "\n",
    "    # This will create IDs like \"data/monopoly.pdf:6:2\"\n",
    "    # Page Source : Page Number : Chunk Index\n",
    "\n",
    "    last_page_id = None\n",
    "    current_chunk_index = 0\n",
    "\n",
    "    for chunk in chunks:\n",
    "        source = chunk.metadata.get(\"source\")\n",
    "        page = chunk.metadata.get(\"page\")\n",
    "        current_page_id = f\"{source}:{page}\"\n",
    "\n",
    "        # If the page ID is the same as the last one, increment the index.\n",
    "        if current_page_id == last_page_id:\n",
    "            current_chunk_index += 1\n",
    "        else:\n",
    "            current_chunk_index = 0\n",
    "\n",
    "        # Calculate the chunk ID.\n",
    "        chunk_id = f\"{current_page_id}:{current_chunk_index}\"\n",
    "        last_page_id = current_page_id\n",
    "\n",
    "        # Add it to the page meta-data.\n",
    "        chunk.metadata[\"id\"] = chunk_id\n",
    "\n",
    "        # Add Title into the meta-data\n",
    "        title=os.path.splitext(os.path.basename(source))[0]\n",
    "        chunk.metadata[\"title\"] = title\n",
    "\n",
    "    return chunks\n",
    "\n",
    "def clear_database(db_path):\n",
    "    import shutil\n",
    "    if os.path.exists(db_path):\n",
    "        shutil.rmtree(db_path)\n"
   ]
  },
  {
   "cell_type": "markdown",
   "id": "4bc3ef7e-e848-49f5-8bbe-9343f5d64b02",
   "metadata": {},
   "source": [
    "## 載入與儲存（Load & Save）"
   ]
  },
  {
   "cell_type": "markdown",
   "id": "bd7eb067",
   "metadata": {},
   "source": [
    "### Chunking"
   ]
  },
  {
   "cell_type": "code",
   "execution_count": 43,
   "id": "d6b529c1-788f-4ec6-b132-dca3786a4515",
   "metadata": {},
   "outputs": [
    {
     "name": "stdout",
     "output_type": "stream",
     "text": [
      "Pages: 22\n",
      "Chunks: 440\n"
     ]
    }
   ],
   "source": [
    "#pages = load_files()\n",
    "#chunks = split_text(pages)\n",
    "#print(f\"Pages: {len(pages)}\")\n",
    "docs = load_files2()\n",
    "chunks = split_text(docs)\n",
    "print(f\"Docs: {len(docs)}\")\n",
    "\n",
    "print(f\"Chunks: {len(chunks)}\")"
   ]
  },
  {
   "cell_type": "markdown",
   "id": "79e1bf46",
   "metadata": {},
   "source": [
    "### Storing to Vector DB"
   ]
  },
  {
   "cell_type": "code",
   "execution_count": 44,
   "id": "cb5f488d",
   "metadata": {},
   "outputs": [
    {
     "name": "stdout",
     "output_type": "stream",
     "text": [
      "Number of existing documents in DB: 440\n",
      "👉 Adding new documents: 440\n"
     ]
    }
   ],
   "source": [
    "import time\n",
    "\n",
    "clear_database(DB_PATH)\n",
    "time.sleep(5)\n",
    "if not os.path.exists(DB_PATH):\n",
    "    save_to_chroma(chunks)"
   ]
  },
  {
   "cell_type": "markdown",
   "id": "a1ff859d-627b-4db8-9eab-479bc5550d3f",
   "metadata": {},
   "source": [
    "## 檢索（Retrieval）"
   ]
  },
  {
   "cell_type": "markdown",
   "id": "e8268699",
   "metadata": {},
   "source": [
    "全域變數與通用函式"
   ]
  },
  {
   "cell_type": "code",
   "execution_count": 45,
   "id": "a828b005",
   "metadata": {},
   "outputs": [],
   "source": [
    "from langchain_community.callbacks import get_openai_callback\n",
    "from langchain_chroma import Chroma\n",
    "import textwrap, random\n",
    "\n",
    "# Prepare the database\n",
    "db = Chroma(collection_name=\"full_docs\", persist_directory=DB_PATH, embedding_function=embedding_model)\n",
    "\n",
    "rag_template_1 = \"\"\"\n",
    "### 指令\n",
    "你是台灣人力資源法律的專家，熟悉就業法規、工作場所政策、員工權利和爭議解決的問題諮詢。所有回答請依據下面法規條文的內容來回答，\n",
    "提供具體的例子、相關的法律參考和實用建議，以確保遵守法律並實踐人力資源法的最佳做法。\n",
    "如果內容中查不到與問題相關的法條資訊，就回答：資料中查不到相關資訊。你只回答人資法律相關問題，如果非法律問題請說：你無法回答。\n",
    "\n",
    "### 法規條文\n",
    "{context}\n",
    "\n",
    "### 問題\n",
    "問題：{question}\n",
    "\n",
    "### 回答\n",
    "回答：\"\"\"\n",
    "\n",
    "rag_template_2 = \"\"\"\n",
    "### 指令\n",
    "你是台灣人力資源法律的專家，熟悉就業法規、工作場所政策、員工權利和爭議解決的問題諮詢。所有回答請依據下面法規條文的內容來回答，\n",
    "提供具體的例子、相關的法律參考和實用建議，以確保遵守法律並實踐人力資源法的最佳做法。\n",
    "如果內容中查不到與問題相關的法條資訊，就回答：資料中查不到相關資訊。你只回答人資法律相關問題，如果非法律問題請說：你無法回答。\n",
    "\n",
    "### 法規條文\n",
    "{context}\n",
    "\n",
    "### 問題\n",
    "回答問題前請先參考上述相關的法規條文：{question}\n",
    "\n",
    "### 回答\n",
    "回答：\"\"\"\n",
    "\n",
    "rag_template_3 = \"\"\"\n",
    "### 指令\n",
    "你是台灣人力資源法律的專家，熟悉就業法規、工作場所政策、員工權利和爭議解決的問題諮詢。所有回答請依據下面法規條文的內容來回答，\n",
    "提供相關的法律參考和實用建議，以確保遵守法律並實踐人力資源法的最佳做法。\n",
    "如果內容中查不到與問題相關的法條資訊，就回答：資料中查不到相關資訊。你只回答人資法律相關問題，如果非法律問題請說：你無法回答。\n",
    "\n",
    "### 法規條文\n",
    "{context}\n",
    "\n",
    "### 問題\n",
    "回答問題前請先參考上述相關的法規條文：{question}\n",
    "\n",
    "### 回答\n",
    "回答：\"\"\"\n",
    "\n",
    "questions_list = [\n",
    "    \"產假可以請多久？雇主能拒絕嗎？有錢可以領嗎？\",\n",
    "    \"在公司已經任職15年，依規定一年應該會有幾天的特休假？\",\n",
    "    \"申請生育給付要準備哪些文件？\",\n",
    "    \"育嬰留停有哪些規定事項要注意？\",\n",
    "    \"介紹奬金及競賽奬金是否須納入工資之範疇\",\n",
    "    \"當勞資雙方發生爭議，雙方要如何進行調解\",\n",
    "    \"流產是否可以申請生育給付？\",\n",
    "    \"員工上班途中發生了交通事故，這個屬於職業傷害的範圍嗎？如果是，要如何申請傷害補助？\",\n",
    "    \"勞保被保險人如果生病或受傷住院了，怎樣申請傷病給付？\",\n",
    "    \"勞基法有哪些關於特休假的規定\",\n",
    "    \"員工在例假日可以加班嗎，如何算加班費？\",\n",
    "    \"生育給付的請領資格及給付標準各如何？\",\n",
    "]\n",
    "\n",
    "def test_chain(chain):\n",
    "    random.shuffle(questions_list)\n",
    "    selected_questions = questions_list[:3]\n",
    "    for question in selected_questions:\n",
    "        print(\"-\" * 40)\n",
    "        print(f\"Question: {question}\\n\")\n",
    "        with get_openai_callback() as cb:\n",
    "            pprint_result(chain().invoke(question))\n",
    "            print(f'\\nTotal Tokens: {cb.total_tokens}\\n')\n",
    "\n",
    "def format_docs(docs):\n",
    "    return \"\\n\".join(\"法規名稱： \" + os.path.basename(str(doc.metadata['source'])).split('.', 1)[0] + \n",
    "                       \"\\n\" + str(doc.page_content) + \"\\n----\" for doc in docs)"
   ]
  },
  {
   "cell_type": "markdown",
   "id": "b55296ed-f72c-49aa-81fc-3298d788979b",
   "metadata": {},
   "source": [
    "### Retriever: Vectordb\n",
    "- MMR: Maximum Marginal Relevance Retrieval"
   ]
  },
  {
   "cell_type": "code",
   "execution_count": 85,
   "id": "77d1d5e4-f9f8-4ff5-9c7d-8dfde8b1ee3d",
   "metadata": {},
   "outputs": [],
   "source": [
    "from langchain_core.prompts import PromptTemplate\n",
    "from langchain_core.output_parsers import StrOutputParser\n",
    "from langchain_core.runnables import RunnablePassthrough\n",
    "from IPython.display import Markdown\n",
    "from langchain.chains import RetrievalQA\n",
    "\n",
    "def query_11(query_text):\n",
    "    retriever = db.as_retriever(search_type=\"similarity\", search_kwargs={\"k\": 3})\n",
    "    custom_prompt = PromptTemplate.from_template(rag_template_1)\n",
    "    rag_chain = (\n",
    "        {\"context\": retriever | format_docs, \"question\": RunnablePassthrough()}\n",
    "        | custom_prompt\n",
    "        | llm_model\n",
    "        | StrOutputParser()\n",
    "    )\n",
    "    \n",
    "    return rag_chain.invoke(query_text)\n",
    "\n",
    "def query_12(query_text):\n",
    "    restrieved_data = db.similarity_search_with_relevance_scores(query_text,k=3)\n",
    "    context_text = \"\\n\".join([doc.page_content + \"\\n----\" for doc, _score in restrieved_data])\n",
    "    custom_prompt = PromptTemplate.from_template(rag_template_1)\n",
    "    rag_chain = (\n",
    "        custom_prompt\n",
    "        | llm_model\n",
    "        | StrOutputParser()\n",
    "    )    \n",
    "    return rag_chain.invoke({\"context\": context_text, \"question\": query_text})\n",
    "    \n",
    "\n",
    "def query_13(query_text):\n",
    "    retriever = db.as_retriever(search_type=\"similarity_score_threshold\", search_kwargs={\"k\": 6, \"score_threshold\": 0.5})\n",
    "    custom_prompt = PromptTemplate.from_template(rag_template_2)\n",
    "    rag_chain = (\n",
    "        {\"context\": retriever | format_docs, \"question\": RunnablePassthrough()}\n",
    "        | custom_prompt\n",
    "        | llm_model\n",
    "        | StrOutputParser()\n",
    "    )\n",
    "    return rag_chain.invoke(query_text)\n",
    "\n",
    "def query_14(query_text):\n",
    "    retriever = db.as_retriever(search_type=\"mmr\")\n",
    "    custom_prompt = PromptTemplate.from_template(rag_template_2)\n",
    "    rag_chain = (\n",
    "        {\"context\": retriever | format_docs, \"question\": RunnablePassthrough()}\n",
    "        | custom_prompt\n",
    "        | llm_model\n",
    "        | StrOutputParser()\n",
    "    )\n",
    "    return rag_chain.invoke(query_text)  # Format the output: Markdown(outputs)\n",
    "\n",
    "## NOTE: The RetrievalQA has been deprecated since version 0.1.0\n",
    "def query_15(query_text):\n",
    "    retriever = db.as_retriever(search_type=\"mmr\", search_kwargs={\"k\": 4, \"score_threshold\": 0.5})\n",
    "    qa = RetrievalQA.from_chain_type(\n",
    "        llm=llm_model, \n",
    "        retriever=retriever, \n",
    "        #verbose=True\n",
    "    )\n",
    "    return qa.invoke(query_text)  # Format the output: Markdown(outputs['result'])\n",
    "\n",
    "# Debug: db.get(where={\"source\": \"pdf/勞工請假規則.pdf\"})\n",
    "def query_16(query_text):\n",
    "    retriever = db.as_retriever(search_type=\"mmr\", search_kwargs={\"filter\":{\"source\":\"pdf/勞動基準法.pdf\"}})\n",
    "    custom_prompt = PromptTemplate.from_template(rag_template_2)\n",
    "    rag_chain = (\n",
    "        {\"context\": retriever | format_docs, \"question\": RunnablePassthrough()}\n",
    "        | custom_prompt\n",
    "        | llm_model\n",
    "        | StrOutputParser()\n",
    "    )\n",
    "    return rag_chain.invoke(query_text)  # Format the output: Markdown(outputs)\n"
   ]
  },
  {
   "cell_type": "code",
   "execution_count": 86,
   "id": "b6c68c60-5124-45b3-8db4-bef5d0b5553a",
   "metadata": {},
   "outputs": [
    {
     "data": {
      "text/markdown": [
       "回答：\n",
       "\n",
       "1.  **未住院**: 1 年內合計不得超過 30 日。\n",
       "2.  **住院**: 2 年內合計不得超過 1 年。\n",
       "3.  **未住院與住院合併**: 2 年內合計不得超過 1 年。\n",
       "\n",
       "    *   **備註**:\n",
       "        *   以上天數包含例假日。\n",
       "        *   癌症（含原位癌）門診治療或懷孕期間安胎休養，併入住院傷病假計算。\n",
       "\n",
       "*   **法規參考**: 勞工請假規則第 4 條\n",
       "\n",
       " \n"
      ],
      "text/plain": [
       "<IPython.core.display.Markdown object>"
      ]
     },
     "execution_count": 86,
     "metadata": {},
     "output_type": "execute_result"
    }
   ],
   "source": [
    "results = query_14(\"勞工可以申請最多幾天病假\")\n",
    "Markdown(results)"
   ]
  },
  {
   "cell_type": "markdown",
   "id": "70dfc531-ae71-41e4-a535-16a275b3cc9b",
   "metadata": {},
   "source": [
    "### MultiVectorRetriver (Hypothetical Queries)\n",
    "- [Hypothetical Queries](https://python.langchain.com/v0.2/docs/how_to/multi_vector/#hypothetical-queries)\n",
    "- [Models support function calling and JSON schema](https://python.langchain.com/v0.2/docs/integrations/chat/)\n",
    "\n",
    "注意：只有 Groq 的模型可以支援這個檢索方式，並且初始化階段容易中斷失敗，可能是 API 免費版本的原因。"
   ]
  },
  {
   "cell_type": "code",
   "execution_count": 59,
   "id": "d659b7d1-c2a8-4290-adbf-3308f4895ce2",
   "metadata": {},
   "outputs": [
    {
     "ename": "BadRequestError",
     "evalue": "Error code: 400 - {'error': {'message': \"Failed to call a function. Please adjust your prompt. See 'failed_generation' for more details.\", 'type': 'invalid_request_error', 'code': 'tool_use_failed', 'failed_generation': '</tool-use>\\n{\\n\\t\"tool_calls\": [\\n\\t\\t{\\n\\t\\t\\t\"id\": \"pending\",\\n\\t\\t\\t\"type\": \"function\",\\n\\t\\t\\t\"function\": {\\n\\t\\t\\t\\t\"name\": \"HypotheticalQuestions\"\\n\\t\\t\\t},\\n\\t\\t\\t\"parameters\": {\\n\\t\\t\\t\\t\"questions\": [\\n\\t\\t\\t\\t\\t\"根據育嬰留職停薪實施辦法，什麼是申請育嬰留職停薪的 deadline？\",\\n\\t\\t\\t\\t\\t\"如果受僱者申請育嬰留職停薪，需要提供哪些資料？\",\\n\\t\\t\\t\\t\\t\"育嬰留職停薪期間，如果受僱者仍繼續參加社會保險，是否會影響工作年資計算？\"\\n\\t\\t\\t\\t]\\n\\t\\t\\t}\\n\\t\\t}\\n\\t]\\n}\\n</tool-use>'}}",
     "output_type": "error",
     "traceback": [
      "\u001b[0;31m---------------------------------------------------------------------------\u001b[0m",
      "\u001b[0;31mBadRequestError\u001b[0m                           Traceback (most recent call last)",
      "Cell \u001b[0;32mIn[59], line 34\u001b[0m\n\u001b[1;32m     23\u001b[0m chain \u001b[38;5;241m=\u001b[39m (\n\u001b[1;32m     24\u001b[0m     {\u001b[38;5;124m\"\u001b[39m\u001b[38;5;124mdoc\u001b[39m\u001b[38;5;124m\"\u001b[39m: \u001b[38;5;28;01mlambda\u001b[39;00m x: x\u001b[38;5;241m.\u001b[39mpage_content}\n\u001b[1;32m     25\u001b[0m     \u001b[38;5;66;03m# Only asking for 3 hypothetical questions, but this could be adjusted\u001b[39;00m\n\u001b[0;32m   (...)\u001b[0m\n\u001b[1;32m     30\u001b[0m     \u001b[38;5;241m|\u001b[39m (\u001b[38;5;28;01mlambda\u001b[39;00m x: x\u001b[38;5;241m.\u001b[39mquestions)\n\u001b[1;32m     31\u001b[0m )\n\u001b[1;32m     33\u001b[0m \u001b[38;5;66;03m# Batch chain over documents to generate hypothetical questions\u001b[39;00m\n\u001b[0;32m---> 34\u001b[0m hypothetical_questions \u001b[38;5;241m=\u001b[39m \u001b[43mchain\u001b[49m\u001b[38;5;241;43m.\u001b[39;49m\u001b[43mbatch\u001b[49m\u001b[43m(\u001b[49m\u001b[43mchunks\u001b[49m\u001b[43m,\u001b[49m\u001b[43m \u001b[49m\u001b[43m{\u001b[49m\u001b[38;5;124;43m\"\u001b[39;49m\u001b[38;5;124;43mmax_concurrency\u001b[39;49m\u001b[38;5;124;43m\"\u001b[39;49m\u001b[43m:\u001b[49m\u001b[43m \u001b[49m\u001b[38;5;241;43m2\u001b[39;49m\u001b[43m}\u001b[49m\u001b[43m)\u001b[49m\n\u001b[1;32m     36\u001b[0m \u001b[38;5;66;03m# Debug for the Error: \u001b[39;00m\n\u001b[1;32m     37\u001b[0m \u001b[38;5;66;03m#hypothetical_questions = chain.batch(chunks[:10], {\"max_concurrency\": 2})\u001b[39;00m\n\u001b[1;32m     38\u001b[0m \u001b[38;5;66;03m#print(f\"HYPO_QUESTIONS: {len(hypothetical_questions)}\")\u001b[39;00m\n\u001b[0;32m   (...)\u001b[0m\n\u001b[1;32m     41\u001b[0m \n\u001b[1;32m     42\u001b[0m \u001b[38;5;66;03m# The vectorstore to use to index the child chunks\u001b[39;00m\n\u001b[1;32m     43\u001b[0m hypo_db \u001b[38;5;241m=\u001b[39m Chroma(\n\u001b[1;32m     44\u001b[0m     collection_name\u001b[38;5;241m=\u001b[39m\u001b[38;5;124m\"\u001b[39m\u001b[38;5;124mhypo-questions\u001b[39m\u001b[38;5;124m\"\u001b[39m, persist_directory\u001b[38;5;241m=\u001b[39mDB_PATH, embedding_function\u001b[38;5;241m=\u001b[39membedding_model\n\u001b[1;32m     45\u001b[0m )\n",
      "File \u001b[0;32m~/文件/worktmp/AI_Dev/rag_twnhrbot/.venv/lib/python3.10/site-packages/langchain_core/runnables/base.py:3014\u001b[0m, in \u001b[0;36mRunnableSequence.batch\u001b[0;34m(self, inputs, config, return_exceptions, **kwargs)\u001b[0m\n\u001b[1;32m   3012\u001b[0m     \u001b[38;5;28;01melse\u001b[39;00m:\n\u001b[1;32m   3013\u001b[0m         \u001b[38;5;28;01mfor\u001b[39;00m i, step \u001b[38;5;129;01min\u001b[39;00m \u001b[38;5;28menumerate\u001b[39m(\u001b[38;5;28mself\u001b[39m\u001b[38;5;241m.\u001b[39msteps):\n\u001b[0;32m-> 3014\u001b[0m             inputs \u001b[38;5;241m=\u001b[39m \u001b[43mstep\u001b[49m\u001b[38;5;241;43m.\u001b[39;49m\u001b[43mbatch\u001b[49m\u001b[43m(\u001b[49m\n\u001b[1;32m   3015\u001b[0m \u001b[43m                \u001b[49m\u001b[43minputs\u001b[49m\u001b[43m,\u001b[49m\n\u001b[1;32m   3016\u001b[0m \u001b[43m                \u001b[49m\u001b[43m[\u001b[49m\n\u001b[1;32m   3017\u001b[0m \u001b[43m                    \u001b[49m\u001b[38;5;66;43;03m# each step a child run of the corresponding root run\u001b[39;49;00m\n\u001b[1;32m   3018\u001b[0m \u001b[43m                    \u001b[49m\u001b[43mpatch_config\u001b[49m\u001b[43m(\u001b[49m\n\u001b[1;32m   3019\u001b[0m \u001b[43m                        \u001b[49m\u001b[43mconfig\u001b[49m\u001b[43m,\u001b[49m\u001b[43m \u001b[49m\u001b[43mcallbacks\u001b[49m\u001b[38;5;241;43m=\u001b[39;49m\u001b[43mrm\u001b[49m\u001b[38;5;241;43m.\u001b[39;49m\u001b[43mget_child\u001b[49m\u001b[43m(\u001b[49m\u001b[38;5;124;43mf\u001b[39;49m\u001b[38;5;124;43m\"\u001b[39;49m\u001b[38;5;124;43mseq:step:\u001b[39;49m\u001b[38;5;132;43;01m{\u001b[39;49;00m\u001b[43mi\u001b[49m\u001b[38;5;241;43m+\u001b[39;49m\u001b[38;5;241;43m1\u001b[39;49m\u001b[38;5;132;43;01m}\u001b[39;49;00m\u001b[38;5;124;43m\"\u001b[39;49m\u001b[43m)\u001b[49m\n\u001b[1;32m   3020\u001b[0m \u001b[43m                    \u001b[49m\u001b[43m)\u001b[49m\n\u001b[1;32m   3021\u001b[0m \u001b[43m                    \u001b[49m\u001b[38;5;28;43;01mfor\u001b[39;49;00m\u001b[43m \u001b[49m\u001b[43mrm\u001b[49m\u001b[43m,\u001b[49m\u001b[43m \u001b[49m\u001b[43mconfig\u001b[49m\u001b[43m \u001b[49m\u001b[38;5;129;43;01min\u001b[39;49;00m\u001b[43m \u001b[49m\u001b[38;5;28;43mzip\u001b[39;49m\u001b[43m(\u001b[49m\u001b[43mrun_managers\u001b[49m\u001b[43m,\u001b[49m\u001b[43m \u001b[49m\u001b[43mconfigs\u001b[49m\u001b[43m)\u001b[49m\n\u001b[1;32m   3022\u001b[0m \u001b[43m                \u001b[49m\u001b[43m]\u001b[49m\u001b[43m,\u001b[49m\n\u001b[1;32m   3023\u001b[0m \u001b[43m                \u001b[49m\u001b[43mreturn_exceptions\u001b[49m\u001b[38;5;241;43m=\u001b[39;49m\u001b[43mreturn_exceptions\u001b[49m\u001b[43m,\u001b[49m\n\u001b[1;32m   3024\u001b[0m \u001b[43m                \u001b[49m\u001b[38;5;241;43m*\u001b[39;49m\u001b[38;5;241;43m*\u001b[39;49m\u001b[43m(\u001b[49m\u001b[43mkwargs\u001b[49m\u001b[43m \u001b[49m\u001b[38;5;28;43;01mif\u001b[39;49;00m\u001b[43m \u001b[49m\u001b[43mi\u001b[49m\u001b[43m \u001b[49m\u001b[38;5;241;43m==\u001b[39;49m\u001b[43m \u001b[49m\u001b[38;5;241;43m0\u001b[39;49m\u001b[43m \u001b[49m\u001b[38;5;28;43;01melse\u001b[39;49;00m\u001b[43m \u001b[49m\u001b[43m{\u001b[49m\u001b[43m}\u001b[49m\u001b[43m)\u001b[49m\u001b[43m,\u001b[49m\n\u001b[1;32m   3025\u001b[0m \u001b[43m            \u001b[49m\u001b[43m)\u001b[49m\n\u001b[1;32m   3027\u001b[0m \u001b[38;5;66;03m# finish the root runs\u001b[39;00m\n\u001b[1;32m   3028\u001b[0m \u001b[38;5;28;01mexcept\u001b[39;00m \u001b[38;5;167;01mBaseException\u001b[39;00m \u001b[38;5;28;01mas\u001b[39;00m e:\n",
      "File \u001b[0;32m~/文件/worktmp/AI_Dev/rag_twnhrbot/.venv/lib/python3.10/site-packages/langchain_core/runnables/base.py:5090\u001b[0m, in \u001b[0;36mRunnableBindingBase.batch\u001b[0;34m(self, inputs, config, return_exceptions, **kwargs)\u001b[0m\n\u001b[1;32m   5088\u001b[0m \u001b[38;5;28;01melse\u001b[39;00m:\n\u001b[1;32m   5089\u001b[0m     configs \u001b[38;5;241m=\u001b[39m [\u001b[38;5;28mself\u001b[39m\u001b[38;5;241m.\u001b[39m_merge_configs(config) \u001b[38;5;28;01mfor\u001b[39;00m _ \u001b[38;5;129;01min\u001b[39;00m \u001b[38;5;28mrange\u001b[39m(\u001b[38;5;28mlen\u001b[39m(inputs))]\n\u001b[0;32m-> 5090\u001b[0m \u001b[38;5;28;01mreturn\u001b[39;00m \u001b[38;5;28;43mself\u001b[39;49m\u001b[38;5;241;43m.\u001b[39;49m\u001b[43mbound\u001b[49m\u001b[38;5;241;43m.\u001b[39;49m\u001b[43mbatch\u001b[49m\u001b[43m(\u001b[49m\n\u001b[1;32m   5091\u001b[0m \u001b[43m    \u001b[49m\u001b[43minputs\u001b[49m\u001b[43m,\u001b[49m\n\u001b[1;32m   5092\u001b[0m \u001b[43m    \u001b[49m\u001b[43mconfigs\u001b[49m\u001b[43m,\u001b[49m\n\u001b[1;32m   5093\u001b[0m \u001b[43m    \u001b[49m\u001b[43mreturn_exceptions\u001b[49m\u001b[38;5;241;43m=\u001b[39;49m\u001b[43mreturn_exceptions\u001b[49m\u001b[43m,\u001b[49m\n\u001b[1;32m   5094\u001b[0m \u001b[43m    \u001b[49m\u001b[38;5;241;43m*\u001b[39;49m\u001b[38;5;241;43m*\u001b[39;49m\u001b[43m{\u001b[49m\u001b[38;5;241;43m*\u001b[39;49m\u001b[38;5;241;43m*\u001b[39;49m\u001b[38;5;28;43mself\u001b[39;49m\u001b[38;5;241;43m.\u001b[39;49m\u001b[43mkwargs\u001b[49m\u001b[43m,\u001b[49m\u001b[43m \u001b[49m\u001b[38;5;241;43m*\u001b[39;49m\u001b[38;5;241;43m*\u001b[39;49m\u001b[43mkwargs\u001b[49m\u001b[43m}\u001b[49m\u001b[43m,\u001b[49m\n\u001b[1;32m   5095\u001b[0m \u001b[43m\u001b[49m\u001b[43m)\u001b[49m\n",
      "File \u001b[0;32m~/文件/worktmp/AI_Dev/rag_twnhrbot/.venv/lib/python3.10/site-packages/langchain_core/runnables/base.py:647\u001b[0m, in \u001b[0;36mRunnable.batch\u001b[0;34m(self, inputs, config, return_exceptions, **kwargs)\u001b[0m\n\u001b[1;32m    644\u001b[0m     \u001b[38;5;28;01mreturn\u001b[39;00m cast(List[Output], [invoke(inputs[\u001b[38;5;241m0\u001b[39m], configs[\u001b[38;5;241m0\u001b[39m])])\n\u001b[1;32m    646\u001b[0m \u001b[38;5;28;01mwith\u001b[39;00m get_executor_for_config(configs[\u001b[38;5;241m0\u001b[39m]) \u001b[38;5;28;01mas\u001b[39;00m executor:\n\u001b[0;32m--> 647\u001b[0m     \u001b[38;5;28;01mreturn\u001b[39;00m cast(List[Output], \u001b[38;5;28;43mlist\u001b[39;49m\u001b[43m(\u001b[49m\u001b[43mexecutor\u001b[49m\u001b[38;5;241;43m.\u001b[39;49m\u001b[43mmap\u001b[49m\u001b[43m(\u001b[49m\u001b[43minvoke\u001b[49m\u001b[43m,\u001b[49m\u001b[43m \u001b[49m\u001b[43minputs\u001b[49m\u001b[43m,\u001b[49m\u001b[43m \u001b[49m\u001b[43mconfigs\u001b[49m\u001b[43m)\u001b[49m\u001b[43m)\u001b[49m)\n",
      "File \u001b[0;32m/usr/lib/python3.10/concurrent/futures/_base.py:621\u001b[0m, in \u001b[0;36mExecutor.map.<locals>.result_iterator\u001b[0;34m()\u001b[0m\n\u001b[1;32m    618\u001b[0m \u001b[38;5;28;01mwhile\u001b[39;00m fs:\n\u001b[1;32m    619\u001b[0m     \u001b[38;5;66;03m# Careful not to keep a reference to the popped future\u001b[39;00m\n\u001b[1;32m    620\u001b[0m     \u001b[38;5;28;01mif\u001b[39;00m timeout \u001b[38;5;129;01mis\u001b[39;00m \u001b[38;5;28;01mNone\u001b[39;00m:\n\u001b[0;32m--> 621\u001b[0m         \u001b[38;5;28;01myield\u001b[39;00m \u001b[43m_result_or_cancel\u001b[49m\u001b[43m(\u001b[49m\u001b[43mfs\u001b[49m\u001b[38;5;241;43m.\u001b[39;49m\u001b[43mpop\u001b[49m\u001b[43m(\u001b[49m\u001b[43m)\u001b[49m\u001b[43m)\u001b[49m\n\u001b[1;32m    622\u001b[0m     \u001b[38;5;28;01melse\u001b[39;00m:\n\u001b[1;32m    623\u001b[0m         \u001b[38;5;28;01myield\u001b[39;00m _result_or_cancel(fs\u001b[38;5;241m.\u001b[39mpop(), end_time \u001b[38;5;241m-\u001b[39m time\u001b[38;5;241m.\u001b[39mmonotonic())\n",
      "File \u001b[0;32m/usr/lib/python3.10/concurrent/futures/_base.py:319\u001b[0m, in \u001b[0;36m_result_or_cancel\u001b[0;34m(***failed resolving arguments***)\u001b[0m\n\u001b[1;32m    317\u001b[0m \u001b[38;5;28;01mtry\u001b[39;00m:\n\u001b[1;32m    318\u001b[0m     \u001b[38;5;28;01mtry\u001b[39;00m:\n\u001b[0;32m--> 319\u001b[0m         \u001b[38;5;28;01mreturn\u001b[39;00m \u001b[43mfut\u001b[49m\u001b[38;5;241;43m.\u001b[39;49m\u001b[43mresult\u001b[49m\u001b[43m(\u001b[49m\u001b[43mtimeout\u001b[49m\u001b[43m)\u001b[49m\n\u001b[1;32m    320\u001b[0m     \u001b[38;5;28;01mfinally\u001b[39;00m:\n\u001b[1;32m    321\u001b[0m         fut\u001b[38;5;241m.\u001b[39mcancel()\n",
      "File \u001b[0;32m/usr/lib/python3.10/concurrent/futures/_base.py:458\u001b[0m, in \u001b[0;36mFuture.result\u001b[0;34m(self, timeout)\u001b[0m\n\u001b[1;32m    456\u001b[0m     \u001b[38;5;28;01mraise\u001b[39;00m CancelledError()\n\u001b[1;32m    457\u001b[0m \u001b[38;5;28;01melif\u001b[39;00m \u001b[38;5;28mself\u001b[39m\u001b[38;5;241m.\u001b[39m_state \u001b[38;5;241m==\u001b[39m FINISHED:\n\u001b[0;32m--> 458\u001b[0m     \u001b[38;5;28;01mreturn\u001b[39;00m \u001b[38;5;28;43mself\u001b[39;49m\u001b[38;5;241;43m.\u001b[39;49m\u001b[43m__get_result\u001b[49m\u001b[43m(\u001b[49m\u001b[43m)\u001b[49m\n\u001b[1;32m    459\u001b[0m \u001b[38;5;28;01melse\u001b[39;00m:\n\u001b[1;32m    460\u001b[0m     \u001b[38;5;28;01mraise\u001b[39;00m \u001b[38;5;167;01mTimeoutError\u001b[39;00m()\n",
      "File \u001b[0;32m/usr/lib/python3.10/concurrent/futures/_base.py:403\u001b[0m, in \u001b[0;36mFuture.__get_result\u001b[0;34m(self)\u001b[0m\n\u001b[1;32m    401\u001b[0m \u001b[38;5;28;01mif\u001b[39;00m \u001b[38;5;28mself\u001b[39m\u001b[38;5;241m.\u001b[39m_exception:\n\u001b[1;32m    402\u001b[0m     \u001b[38;5;28;01mtry\u001b[39;00m:\n\u001b[0;32m--> 403\u001b[0m         \u001b[38;5;28;01mraise\u001b[39;00m \u001b[38;5;28mself\u001b[39m\u001b[38;5;241m.\u001b[39m_exception\n\u001b[1;32m    404\u001b[0m     \u001b[38;5;28;01mfinally\u001b[39;00m:\n\u001b[1;32m    405\u001b[0m         \u001b[38;5;66;03m# Break a reference cycle with the exception in self._exception\u001b[39;00m\n\u001b[1;32m    406\u001b[0m         \u001b[38;5;28mself\u001b[39m \u001b[38;5;241m=\u001b[39m \u001b[38;5;28;01mNone\u001b[39;00m\n",
      "File \u001b[0;32m/usr/lib/python3.10/concurrent/futures/thread.py:58\u001b[0m, in \u001b[0;36m_WorkItem.run\u001b[0;34m(self)\u001b[0m\n\u001b[1;32m     55\u001b[0m     \u001b[38;5;28;01mreturn\u001b[39;00m\n\u001b[1;32m     57\u001b[0m \u001b[38;5;28;01mtry\u001b[39;00m:\n\u001b[0;32m---> 58\u001b[0m     result \u001b[38;5;241m=\u001b[39m \u001b[38;5;28;43mself\u001b[39;49m\u001b[38;5;241;43m.\u001b[39;49m\u001b[43mfn\u001b[49m\u001b[43m(\u001b[49m\u001b[38;5;241;43m*\u001b[39;49m\u001b[38;5;28;43mself\u001b[39;49m\u001b[38;5;241;43m.\u001b[39;49m\u001b[43margs\u001b[49m\u001b[43m,\u001b[49m\u001b[43m \u001b[49m\u001b[38;5;241;43m*\u001b[39;49m\u001b[38;5;241;43m*\u001b[39;49m\u001b[38;5;28;43mself\u001b[39;49m\u001b[38;5;241;43m.\u001b[39;49m\u001b[43mkwargs\u001b[49m\u001b[43m)\u001b[49m\n\u001b[1;32m     59\u001b[0m \u001b[38;5;28;01mexcept\u001b[39;00m \u001b[38;5;167;01mBaseException\u001b[39;00m \u001b[38;5;28;01mas\u001b[39;00m exc:\n\u001b[1;32m     60\u001b[0m     \u001b[38;5;28mself\u001b[39m\u001b[38;5;241m.\u001b[39mfuture\u001b[38;5;241m.\u001b[39mset_exception(exc)\n",
      "File \u001b[0;32m~/文件/worktmp/AI_Dev/rag_twnhrbot/.venv/lib/python3.10/site-packages/langchain_core/runnables/config.py:535\u001b[0m, in \u001b[0;36mContextThreadPoolExecutor.map.<locals>._wrapped_fn\u001b[0;34m(*args)\u001b[0m\n\u001b[1;32m    534\u001b[0m \u001b[38;5;28;01mdef\u001b[39;00m \u001b[38;5;21m_wrapped_fn\u001b[39m(\u001b[38;5;241m*\u001b[39margs: Any) \u001b[38;5;241m-\u001b[39m\u001b[38;5;241m>\u001b[39m T:\n\u001b[0;32m--> 535\u001b[0m     \u001b[38;5;28;01mreturn\u001b[39;00m \u001b[43mcontexts\u001b[49m\u001b[38;5;241;43m.\u001b[39;49m\u001b[43mpop\u001b[49m\u001b[43m(\u001b[49m\u001b[43m)\u001b[49m\u001b[38;5;241;43m.\u001b[39;49m\u001b[43mrun\u001b[49m\u001b[43m(\u001b[49m\u001b[43mfn\u001b[49m\u001b[43m,\u001b[49m\u001b[43m \u001b[49m\u001b[38;5;241;43m*\u001b[39;49m\u001b[43margs\u001b[49m\u001b[43m)\u001b[49m\n",
      "File \u001b[0;32m~/文件/worktmp/AI_Dev/rag_twnhrbot/.venv/lib/python3.10/site-packages/langchain_core/runnables/base.py:640\u001b[0m, in \u001b[0;36mRunnable.batch.<locals>.invoke\u001b[0;34m(input, config)\u001b[0m\n\u001b[1;32m    638\u001b[0m         \u001b[38;5;28;01mreturn\u001b[39;00m e\n\u001b[1;32m    639\u001b[0m \u001b[38;5;28;01melse\u001b[39;00m:\n\u001b[0;32m--> 640\u001b[0m     \u001b[38;5;28;01mreturn\u001b[39;00m \u001b[38;5;28;43mself\u001b[39;49m\u001b[38;5;241;43m.\u001b[39;49m\u001b[43minvoke\u001b[49m\u001b[43m(\u001b[49m\u001b[38;5;28;43minput\u001b[39;49m\u001b[43m,\u001b[49m\u001b[43m \u001b[49m\u001b[43mconfig\u001b[49m\u001b[43m,\u001b[49m\u001b[43m \u001b[49m\u001b[38;5;241;43m*\u001b[39;49m\u001b[38;5;241;43m*\u001b[39;49m\u001b[43mkwargs\u001b[49m\u001b[43m)\u001b[49m\n",
      "File \u001b[0;32m~/文件/worktmp/AI_Dev/rag_twnhrbot/.venv/lib/python3.10/site-packages/langchain_core/language_models/chat_models.py:270\u001b[0m, in \u001b[0;36mBaseChatModel.invoke\u001b[0;34m(self, input, config, stop, **kwargs)\u001b[0m\n\u001b[1;32m    259\u001b[0m \u001b[38;5;28;01mdef\u001b[39;00m \u001b[38;5;21minvoke\u001b[39m(\n\u001b[1;32m    260\u001b[0m     \u001b[38;5;28mself\u001b[39m,\n\u001b[1;32m    261\u001b[0m     \u001b[38;5;28minput\u001b[39m: LanguageModelInput,\n\u001b[0;32m   (...)\u001b[0m\n\u001b[1;32m    265\u001b[0m     \u001b[38;5;241m*\u001b[39m\u001b[38;5;241m*\u001b[39mkwargs: Any,\n\u001b[1;32m    266\u001b[0m ) \u001b[38;5;241m-\u001b[39m\u001b[38;5;241m>\u001b[39m BaseMessage:\n\u001b[1;32m    267\u001b[0m     config \u001b[38;5;241m=\u001b[39m ensure_config(config)\n\u001b[1;32m    268\u001b[0m     \u001b[38;5;28;01mreturn\u001b[39;00m cast(\n\u001b[1;32m    269\u001b[0m         ChatGeneration,\n\u001b[0;32m--> 270\u001b[0m         \u001b[38;5;28;43mself\u001b[39;49m\u001b[38;5;241;43m.\u001b[39;49m\u001b[43mgenerate_prompt\u001b[49m\u001b[43m(\u001b[49m\n\u001b[1;32m    271\u001b[0m \u001b[43m            \u001b[49m\u001b[43m[\u001b[49m\u001b[38;5;28;43mself\u001b[39;49m\u001b[38;5;241;43m.\u001b[39;49m\u001b[43m_convert_input\u001b[49m\u001b[43m(\u001b[49m\u001b[38;5;28;43minput\u001b[39;49m\u001b[43m)\u001b[49m\u001b[43m]\u001b[49m\u001b[43m,\u001b[49m\n\u001b[1;32m    272\u001b[0m \u001b[43m            \u001b[49m\u001b[43mstop\u001b[49m\u001b[38;5;241;43m=\u001b[39;49m\u001b[43mstop\u001b[49m\u001b[43m,\u001b[49m\n\u001b[1;32m    273\u001b[0m \u001b[43m            \u001b[49m\u001b[43mcallbacks\u001b[49m\u001b[38;5;241;43m=\u001b[39;49m\u001b[43mconfig\u001b[49m\u001b[38;5;241;43m.\u001b[39;49m\u001b[43mget\u001b[49m\u001b[43m(\u001b[49m\u001b[38;5;124;43m\"\u001b[39;49m\u001b[38;5;124;43mcallbacks\u001b[39;49m\u001b[38;5;124;43m\"\u001b[39;49m\u001b[43m)\u001b[49m\u001b[43m,\u001b[49m\n\u001b[1;32m    274\u001b[0m \u001b[43m            \u001b[49m\u001b[43mtags\u001b[49m\u001b[38;5;241;43m=\u001b[39;49m\u001b[43mconfig\u001b[49m\u001b[38;5;241;43m.\u001b[39;49m\u001b[43mget\u001b[49m\u001b[43m(\u001b[49m\u001b[38;5;124;43m\"\u001b[39;49m\u001b[38;5;124;43mtags\u001b[39;49m\u001b[38;5;124;43m\"\u001b[39;49m\u001b[43m)\u001b[49m\u001b[43m,\u001b[49m\n\u001b[1;32m    275\u001b[0m \u001b[43m            \u001b[49m\u001b[43mmetadata\u001b[49m\u001b[38;5;241;43m=\u001b[39;49m\u001b[43mconfig\u001b[49m\u001b[38;5;241;43m.\u001b[39;49m\u001b[43mget\u001b[49m\u001b[43m(\u001b[49m\u001b[38;5;124;43m\"\u001b[39;49m\u001b[38;5;124;43mmetadata\u001b[39;49m\u001b[38;5;124;43m\"\u001b[39;49m\u001b[43m)\u001b[49m\u001b[43m,\u001b[49m\n\u001b[1;32m    276\u001b[0m \u001b[43m            \u001b[49m\u001b[43mrun_name\u001b[49m\u001b[38;5;241;43m=\u001b[39;49m\u001b[43mconfig\u001b[49m\u001b[38;5;241;43m.\u001b[39;49m\u001b[43mget\u001b[49m\u001b[43m(\u001b[49m\u001b[38;5;124;43m\"\u001b[39;49m\u001b[38;5;124;43mrun_name\u001b[39;49m\u001b[38;5;124;43m\"\u001b[39;49m\u001b[43m)\u001b[49m\u001b[43m,\u001b[49m\n\u001b[1;32m    277\u001b[0m \u001b[43m            \u001b[49m\u001b[43mrun_id\u001b[49m\u001b[38;5;241;43m=\u001b[39;49m\u001b[43mconfig\u001b[49m\u001b[38;5;241;43m.\u001b[39;49m\u001b[43mpop\u001b[49m\u001b[43m(\u001b[49m\u001b[38;5;124;43m\"\u001b[39;49m\u001b[38;5;124;43mrun_id\u001b[39;49m\u001b[38;5;124;43m\"\u001b[39;49m\u001b[43m,\u001b[49m\u001b[43m \u001b[49m\u001b[38;5;28;43;01mNone\u001b[39;49;00m\u001b[43m)\u001b[49m\u001b[43m,\u001b[49m\n\u001b[1;32m    278\u001b[0m \u001b[43m            \u001b[49m\u001b[38;5;241;43m*\u001b[39;49m\u001b[38;5;241;43m*\u001b[39;49m\u001b[43mkwargs\u001b[49m\u001b[43m,\u001b[49m\n\u001b[1;32m    279\u001b[0m \u001b[43m        \u001b[49m\u001b[43m)\u001b[49m\u001b[38;5;241m.\u001b[39mgenerations[\u001b[38;5;241m0\u001b[39m][\u001b[38;5;241m0\u001b[39m],\n\u001b[1;32m    280\u001b[0m     )\u001b[38;5;241m.\u001b[39mmessage\n",
      "File \u001b[0;32m~/文件/worktmp/AI_Dev/rag_twnhrbot/.venv/lib/python3.10/site-packages/langchain_core/language_models/chat_models.py:703\u001b[0m, in \u001b[0;36mBaseChatModel.generate_prompt\u001b[0;34m(self, prompts, stop, callbacks, **kwargs)\u001b[0m\n\u001b[1;32m    695\u001b[0m \u001b[38;5;28;01mdef\u001b[39;00m \u001b[38;5;21mgenerate_prompt\u001b[39m(\n\u001b[1;32m    696\u001b[0m     \u001b[38;5;28mself\u001b[39m,\n\u001b[1;32m    697\u001b[0m     prompts: List[PromptValue],\n\u001b[0;32m   (...)\u001b[0m\n\u001b[1;32m    700\u001b[0m     \u001b[38;5;241m*\u001b[39m\u001b[38;5;241m*\u001b[39mkwargs: Any,\n\u001b[1;32m    701\u001b[0m ) \u001b[38;5;241m-\u001b[39m\u001b[38;5;241m>\u001b[39m LLMResult:\n\u001b[1;32m    702\u001b[0m     prompt_messages \u001b[38;5;241m=\u001b[39m [p\u001b[38;5;241m.\u001b[39mto_messages() \u001b[38;5;28;01mfor\u001b[39;00m p \u001b[38;5;129;01min\u001b[39;00m prompts]\n\u001b[0;32m--> 703\u001b[0m     \u001b[38;5;28;01mreturn\u001b[39;00m \u001b[38;5;28;43mself\u001b[39;49m\u001b[38;5;241;43m.\u001b[39;49m\u001b[43mgenerate\u001b[49m\u001b[43m(\u001b[49m\u001b[43mprompt_messages\u001b[49m\u001b[43m,\u001b[49m\u001b[43m \u001b[49m\u001b[43mstop\u001b[49m\u001b[38;5;241;43m=\u001b[39;49m\u001b[43mstop\u001b[49m\u001b[43m,\u001b[49m\u001b[43m \u001b[49m\u001b[43mcallbacks\u001b[49m\u001b[38;5;241;43m=\u001b[39;49m\u001b[43mcallbacks\u001b[49m\u001b[43m,\u001b[49m\u001b[43m \u001b[49m\u001b[38;5;241;43m*\u001b[39;49m\u001b[38;5;241;43m*\u001b[39;49m\u001b[43mkwargs\u001b[49m\u001b[43m)\u001b[49m\n",
      "File \u001b[0;32m~/文件/worktmp/AI_Dev/rag_twnhrbot/.venv/lib/python3.10/site-packages/langchain_core/language_models/chat_models.py:560\u001b[0m, in \u001b[0;36mBaseChatModel.generate\u001b[0;34m(self, messages, stop, callbacks, tags, metadata, run_name, run_id, **kwargs)\u001b[0m\n\u001b[1;32m    558\u001b[0m         \u001b[38;5;28;01mif\u001b[39;00m run_managers:\n\u001b[1;32m    559\u001b[0m             run_managers[i]\u001b[38;5;241m.\u001b[39mon_llm_error(e, response\u001b[38;5;241m=\u001b[39mLLMResult(generations\u001b[38;5;241m=\u001b[39m[]))\n\u001b[0;32m--> 560\u001b[0m         \u001b[38;5;28;01mraise\u001b[39;00m e\n\u001b[1;32m    561\u001b[0m flattened_outputs \u001b[38;5;241m=\u001b[39m [\n\u001b[1;32m    562\u001b[0m     LLMResult(generations\u001b[38;5;241m=\u001b[39m[res\u001b[38;5;241m.\u001b[39mgenerations], llm_output\u001b[38;5;241m=\u001b[39mres\u001b[38;5;241m.\u001b[39mllm_output)  \u001b[38;5;66;03m# type: ignore[list-item]\u001b[39;00m\n\u001b[1;32m    563\u001b[0m     \u001b[38;5;28;01mfor\u001b[39;00m res \u001b[38;5;129;01min\u001b[39;00m results\n\u001b[1;32m    564\u001b[0m ]\n\u001b[1;32m    565\u001b[0m llm_output \u001b[38;5;241m=\u001b[39m \u001b[38;5;28mself\u001b[39m\u001b[38;5;241m.\u001b[39m_combine_llm_outputs([res\u001b[38;5;241m.\u001b[39mllm_output \u001b[38;5;28;01mfor\u001b[39;00m res \u001b[38;5;129;01min\u001b[39;00m results])\n",
      "File \u001b[0;32m~/文件/worktmp/AI_Dev/rag_twnhrbot/.venv/lib/python3.10/site-packages/langchain_core/language_models/chat_models.py:550\u001b[0m, in \u001b[0;36mBaseChatModel.generate\u001b[0;34m(self, messages, stop, callbacks, tags, metadata, run_name, run_id, **kwargs)\u001b[0m\n\u001b[1;32m    547\u001b[0m \u001b[38;5;28;01mfor\u001b[39;00m i, m \u001b[38;5;129;01min\u001b[39;00m \u001b[38;5;28menumerate\u001b[39m(messages):\n\u001b[1;32m    548\u001b[0m     \u001b[38;5;28;01mtry\u001b[39;00m:\n\u001b[1;32m    549\u001b[0m         results\u001b[38;5;241m.\u001b[39mappend(\n\u001b[0;32m--> 550\u001b[0m             \u001b[38;5;28;43mself\u001b[39;49m\u001b[38;5;241;43m.\u001b[39;49m\u001b[43m_generate_with_cache\u001b[49m\u001b[43m(\u001b[49m\n\u001b[1;32m    551\u001b[0m \u001b[43m                \u001b[49m\u001b[43mm\u001b[49m\u001b[43m,\u001b[49m\n\u001b[1;32m    552\u001b[0m \u001b[43m                \u001b[49m\u001b[43mstop\u001b[49m\u001b[38;5;241;43m=\u001b[39;49m\u001b[43mstop\u001b[49m\u001b[43m,\u001b[49m\n\u001b[1;32m    553\u001b[0m \u001b[43m                \u001b[49m\u001b[43mrun_manager\u001b[49m\u001b[38;5;241;43m=\u001b[39;49m\u001b[43mrun_managers\u001b[49m\u001b[43m[\u001b[49m\u001b[43mi\u001b[49m\u001b[43m]\u001b[49m\u001b[43m \u001b[49m\u001b[38;5;28;43;01mif\u001b[39;49;00m\u001b[43m \u001b[49m\u001b[43mrun_managers\u001b[49m\u001b[43m \u001b[49m\u001b[38;5;28;43;01melse\u001b[39;49;00m\u001b[43m \u001b[49m\u001b[38;5;28;43;01mNone\u001b[39;49;00m\u001b[43m,\u001b[49m\n\u001b[1;32m    554\u001b[0m \u001b[43m                \u001b[49m\u001b[38;5;241;43m*\u001b[39;49m\u001b[38;5;241;43m*\u001b[39;49m\u001b[43mkwargs\u001b[49m\u001b[43m,\u001b[49m\n\u001b[1;32m    555\u001b[0m \u001b[43m            \u001b[49m\u001b[43m)\u001b[49m\n\u001b[1;32m    556\u001b[0m         )\n\u001b[1;32m    557\u001b[0m     \u001b[38;5;28;01mexcept\u001b[39;00m \u001b[38;5;167;01mBaseException\u001b[39;00m \u001b[38;5;28;01mas\u001b[39;00m e:\n\u001b[1;32m    558\u001b[0m         \u001b[38;5;28;01mif\u001b[39;00m run_managers:\n",
      "File \u001b[0;32m~/文件/worktmp/AI_Dev/rag_twnhrbot/.venv/lib/python3.10/site-packages/langchain_core/language_models/chat_models.py:775\u001b[0m, in \u001b[0;36mBaseChatModel._generate_with_cache\u001b[0;34m(self, messages, stop, run_manager, **kwargs)\u001b[0m\n\u001b[1;32m    773\u001b[0m \u001b[38;5;28;01melse\u001b[39;00m:\n\u001b[1;32m    774\u001b[0m     \u001b[38;5;28;01mif\u001b[39;00m inspect\u001b[38;5;241m.\u001b[39msignature(\u001b[38;5;28mself\u001b[39m\u001b[38;5;241m.\u001b[39m_generate)\u001b[38;5;241m.\u001b[39mparameters\u001b[38;5;241m.\u001b[39mget(\u001b[38;5;124m\"\u001b[39m\u001b[38;5;124mrun_manager\u001b[39m\u001b[38;5;124m\"\u001b[39m):\n\u001b[0;32m--> 775\u001b[0m         result \u001b[38;5;241m=\u001b[39m \u001b[38;5;28;43mself\u001b[39;49m\u001b[38;5;241;43m.\u001b[39;49m\u001b[43m_generate\u001b[49m\u001b[43m(\u001b[49m\n\u001b[1;32m    776\u001b[0m \u001b[43m            \u001b[49m\u001b[43mmessages\u001b[49m\u001b[43m,\u001b[49m\u001b[43m \u001b[49m\u001b[43mstop\u001b[49m\u001b[38;5;241;43m=\u001b[39;49m\u001b[43mstop\u001b[49m\u001b[43m,\u001b[49m\u001b[43m \u001b[49m\u001b[43mrun_manager\u001b[49m\u001b[38;5;241;43m=\u001b[39;49m\u001b[43mrun_manager\u001b[49m\u001b[43m,\u001b[49m\u001b[43m \u001b[49m\u001b[38;5;241;43m*\u001b[39;49m\u001b[38;5;241;43m*\u001b[39;49m\u001b[43mkwargs\u001b[49m\n\u001b[1;32m    777\u001b[0m \u001b[43m        \u001b[49m\u001b[43m)\u001b[49m\n\u001b[1;32m    778\u001b[0m     \u001b[38;5;28;01melse\u001b[39;00m:\n\u001b[1;32m    779\u001b[0m         result \u001b[38;5;241m=\u001b[39m \u001b[38;5;28mself\u001b[39m\u001b[38;5;241m.\u001b[39m_generate(messages, stop\u001b[38;5;241m=\u001b[39mstop, \u001b[38;5;241m*\u001b[39m\u001b[38;5;241m*\u001b[39mkwargs)\n",
      "File \u001b[0;32m~/文件/worktmp/AI_Dev/rag_twnhrbot/.venv/lib/python3.10/site-packages/langchain_groq/chat_models.py:472\u001b[0m, in \u001b[0;36mChatGroq._generate\u001b[0;34m(self, messages, stop, run_manager, **kwargs)\u001b[0m\n\u001b[1;32m    467\u001b[0m message_dicts, params \u001b[38;5;241m=\u001b[39m \u001b[38;5;28mself\u001b[39m\u001b[38;5;241m.\u001b[39m_create_message_dicts(messages, stop)\n\u001b[1;32m    468\u001b[0m params \u001b[38;5;241m=\u001b[39m {\n\u001b[1;32m    469\u001b[0m     \u001b[38;5;241m*\u001b[39m\u001b[38;5;241m*\u001b[39mparams,\n\u001b[1;32m    470\u001b[0m     \u001b[38;5;241m*\u001b[39m\u001b[38;5;241m*\u001b[39mkwargs,\n\u001b[1;32m    471\u001b[0m }\n\u001b[0;32m--> 472\u001b[0m response \u001b[38;5;241m=\u001b[39m \u001b[38;5;28;43mself\u001b[39;49m\u001b[38;5;241;43m.\u001b[39;49m\u001b[43mclient\u001b[49m\u001b[38;5;241;43m.\u001b[39;49m\u001b[43mcreate\u001b[49m\u001b[43m(\u001b[49m\u001b[43mmessages\u001b[49m\u001b[38;5;241;43m=\u001b[39;49m\u001b[43mmessage_dicts\u001b[49m\u001b[43m,\u001b[49m\u001b[43m \u001b[49m\u001b[38;5;241;43m*\u001b[39;49m\u001b[38;5;241;43m*\u001b[39;49m\u001b[43mparams\u001b[49m\u001b[43m)\u001b[49m\n\u001b[1;32m    473\u001b[0m \u001b[38;5;28;01mreturn\u001b[39;00m \u001b[38;5;28mself\u001b[39m\u001b[38;5;241m.\u001b[39m_create_chat_result(response)\n",
      "File \u001b[0;32m~/文件/worktmp/AI_Dev/rag_twnhrbot/.venv/lib/python3.10/site-packages/groq/resources/chat/completions.py:289\u001b[0m, in \u001b[0;36mCompletions.create\u001b[0;34m(self, messages, model, frequency_penalty, function_call, functions, logit_bias, logprobs, max_tokens, n, parallel_tool_calls, presence_penalty, response_format, seed, stop, stream, temperature, tool_choice, tools, top_logprobs, top_p, user, extra_headers, extra_query, extra_body, timeout)\u001b[0m\n\u001b[1;32m    148\u001b[0m \u001b[38;5;28;01mdef\u001b[39;00m \u001b[38;5;21mcreate\u001b[39m(\n\u001b[1;32m    149\u001b[0m     \u001b[38;5;28mself\u001b[39m,\n\u001b[1;32m    150\u001b[0m     \u001b[38;5;241m*\u001b[39m,\n\u001b[0;32m   (...)\u001b[0m\n\u001b[1;32m    177\u001b[0m     timeout: \u001b[38;5;28mfloat\u001b[39m \u001b[38;5;241m|\u001b[39m httpx\u001b[38;5;241m.\u001b[39mTimeout \u001b[38;5;241m|\u001b[39m \u001b[38;5;28;01mNone\u001b[39;00m \u001b[38;5;241m|\u001b[39m NotGiven \u001b[38;5;241m=\u001b[39m NOT_GIVEN,\n\u001b[1;32m    178\u001b[0m ) \u001b[38;5;241m-\u001b[39m\u001b[38;5;241m>\u001b[39m ChatCompletion \u001b[38;5;241m|\u001b[39m Stream[ChatCompletionChunk]:\n\u001b[1;32m    179\u001b[0m \u001b[38;5;250m    \u001b[39m\u001b[38;5;124;03m\"\"\"\u001b[39;00m\n\u001b[1;32m    180\u001b[0m \u001b[38;5;124;03m    Creates a model response for the given chat conversation.\u001b[39;00m\n\u001b[1;32m    181\u001b[0m \n\u001b[0;32m   (...)\u001b[0m\n\u001b[1;32m    287\u001b[0m \u001b[38;5;124;03m      timeout: Override the client-level default timeout for this request, in seconds\u001b[39;00m\n\u001b[1;32m    288\u001b[0m \u001b[38;5;124;03m    \"\"\"\u001b[39;00m\n\u001b[0;32m--> 289\u001b[0m     \u001b[38;5;28;01mreturn\u001b[39;00m \u001b[38;5;28;43mself\u001b[39;49m\u001b[38;5;241;43m.\u001b[39;49m\u001b[43m_post\u001b[49m\u001b[43m(\u001b[49m\n\u001b[1;32m    290\u001b[0m \u001b[43m        \u001b[49m\u001b[38;5;124;43m\"\u001b[39;49m\u001b[38;5;124;43m/openai/v1/chat/completions\u001b[39;49m\u001b[38;5;124;43m\"\u001b[39;49m\u001b[43m,\u001b[49m\n\u001b[1;32m    291\u001b[0m \u001b[43m        \u001b[49m\u001b[43mbody\u001b[49m\u001b[38;5;241;43m=\u001b[39;49m\u001b[43mmaybe_transform\u001b[49m\u001b[43m(\u001b[49m\n\u001b[1;32m    292\u001b[0m \u001b[43m            \u001b[49m\u001b[43m{\u001b[49m\n\u001b[1;32m    293\u001b[0m \u001b[43m                \u001b[49m\u001b[38;5;124;43m\"\u001b[39;49m\u001b[38;5;124;43mmessages\u001b[39;49m\u001b[38;5;124;43m\"\u001b[39;49m\u001b[43m:\u001b[49m\u001b[43m \u001b[49m\u001b[43mmessages\u001b[49m\u001b[43m,\u001b[49m\n\u001b[1;32m    294\u001b[0m \u001b[43m                \u001b[49m\u001b[38;5;124;43m\"\u001b[39;49m\u001b[38;5;124;43mmodel\u001b[39;49m\u001b[38;5;124;43m\"\u001b[39;49m\u001b[43m:\u001b[49m\u001b[43m \u001b[49m\u001b[43mmodel\u001b[49m\u001b[43m,\u001b[49m\n\u001b[1;32m    295\u001b[0m \u001b[43m                \u001b[49m\u001b[38;5;124;43m\"\u001b[39;49m\u001b[38;5;124;43mfrequency_penalty\u001b[39;49m\u001b[38;5;124;43m\"\u001b[39;49m\u001b[43m:\u001b[49m\u001b[43m \u001b[49m\u001b[43mfrequency_penalty\u001b[49m\u001b[43m,\u001b[49m\n\u001b[1;32m    296\u001b[0m \u001b[43m                \u001b[49m\u001b[38;5;124;43m\"\u001b[39;49m\u001b[38;5;124;43mfunction_call\u001b[39;49m\u001b[38;5;124;43m\"\u001b[39;49m\u001b[43m:\u001b[49m\u001b[43m \u001b[49m\u001b[43mfunction_call\u001b[49m\u001b[43m,\u001b[49m\n\u001b[1;32m    297\u001b[0m \u001b[43m                \u001b[49m\u001b[38;5;124;43m\"\u001b[39;49m\u001b[38;5;124;43mfunctions\u001b[39;49m\u001b[38;5;124;43m\"\u001b[39;49m\u001b[43m:\u001b[49m\u001b[43m \u001b[49m\u001b[43mfunctions\u001b[49m\u001b[43m,\u001b[49m\n\u001b[1;32m    298\u001b[0m \u001b[43m                \u001b[49m\u001b[38;5;124;43m\"\u001b[39;49m\u001b[38;5;124;43mlogit_bias\u001b[39;49m\u001b[38;5;124;43m\"\u001b[39;49m\u001b[43m:\u001b[49m\u001b[43m \u001b[49m\u001b[43mlogit_bias\u001b[49m\u001b[43m,\u001b[49m\n\u001b[1;32m    299\u001b[0m \u001b[43m                \u001b[49m\u001b[38;5;124;43m\"\u001b[39;49m\u001b[38;5;124;43mlogprobs\u001b[39;49m\u001b[38;5;124;43m\"\u001b[39;49m\u001b[43m:\u001b[49m\u001b[43m \u001b[49m\u001b[43mlogprobs\u001b[49m\u001b[43m,\u001b[49m\n\u001b[1;32m    300\u001b[0m \u001b[43m                \u001b[49m\u001b[38;5;124;43m\"\u001b[39;49m\u001b[38;5;124;43mmax_tokens\u001b[39;49m\u001b[38;5;124;43m\"\u001b[39;49m\u001b[43m:\u001b[49m\u001b[43m \u001b[49m\u001b[43mmax_tokens\u001b[49m\u001b[43m,\u001b[49m\n\u001b[1;32m    301\u001b[0m \u001b[43m                \u001b[49m\u001b[38;5;124;43m\"\u001b[39;49m\u001b[38;5;124;43mn\u001b[39;49m\u001b[38;5;124;43m\"\u001b[39;49m\u001b[43m:\u001b[49m\u001b[43m \u001b[49m\u001b[43mn\u001b[49m\u001b[43m,\u001b[49m\n\u001b[1;32m    302\u001b[0m \u001b[43m                \u001b[49m\u001b[38;5;124;43m\"\u001b[39;49m\u001b[38;5;124;43mparallel_tool_calls\u001b[39;49m\u001b[38;5;124;43m\"\u001b[39;49m\u001b[43m:\u001b[49m\u001b[43m \u001b[49m\u001b[43mparallel_tool_calls\u001b[49m\u001b[43m,\u001b[49m\n\u001b[1;32m    303\u001b[0m \u001b[43m                \u001b[49m\u001b[38;5;124;43m\"\u001b[39;49m\u001b[38;5;124;43mpresence_penalty\u001b[39;49m\u001b[38;5;124;43m\"\u001b[39;49m\u001b[43m:\u001b[49m\u001b[43m \u001b[49m\u001b[43mpresence_penalty\u001b[49m\u001b[43m,\u001b[49m\n\u001b[1;32m    304\u001b[0m \u001b[43m                \u001b[49m\u001b[38;5;124;43m\"\u001b[39;49m\u001b[38;5;124;43mresponse_format\u001b[39;49m\u001b[38;5;124;43m\"\u001b[39;49m\u001b[43m:\u001b[49m\u001b[43m \u001b[49m\u001b[43mresponse_format\u001b[49m\u001b[43m,\u001b[49m\n\u001b[1;32m    305\u001b[0m \u001b[43m                \u001b[49m\u001b[38;5;124;43m\"\u001b[39;49m\u001b[38;5;124;43mseed\u001b[39;49m\u001b[38;5;124;43m\"\u001b[39;49m\u001b[43m:\u001b[49m\u001b[43m \u001b[49m\u001b[43mseed\u001b[49m\u001b[43m,\u001b[49m\n\u001b[1;32m    306\u001b[0m \u001b[43m                \u001b[49m\u001b[38;5;124;43m\"\u001b[39;49m\u001b[38;5;124;43mstop\u001b[39;49m\u001b[38;5;124;43m\"\u001b[39;49m\u001b[43m:\u001b[49m\u001b[43m \u001b[49m\u001b[43mstop\u001b[49m\u001b[43m,\u001b[49m\n\u001b[1;32m    307\u001b[0m \u001b[43m                \u001b[49m\u001b[38;5;124;43m\"\u001b[39;49m\u001b[38;5;124;43mstream\u001b[39;49m\u001b[38;5;124;43m\"\u001b[39;49m\u001b[43m:\u001b[49m\u001b[43m \u001b[49m\u001b[43mstream\u001b[49m\u001b[43m,\u001b[49m\n\u001b[1;32m    308\u001b[0m \u001b[43m                \u001b[49m\u001b[38;5;124;43m\"\u001b[39;49m\u001b[38;5;124;43mtemperature\u001b[39;49m\u001b[38;5;124;43m\"\u001b[39;49m\u001b[43m:\u001b[49m\u001b[43m \u001b[49m\u001b[43mtemperature\u001b[49m\u001b[43m,\u001b[49m\n\u001b[1;32m    309\u001b[0m \u001b[43m                \u001b[49m\u001b[38;5;124;43m\"\u001b[39;49m\u001b[38;5;124;43mtool_choice\u001b[39;49m\u001b[38;5;124;43m\"\u001b[39;49m\u001b[43m:\u001b[49m\u001b[43m \u001b[49m\u001b[43mtool_choice\u001b[49m\u001b[43m,\u001b[49m\n\u001b[1;32m    310\u001b[0m \u001b[43m                \u001b[49m\u001b[38;5;124;43m\"\u001b[39;49m\u001b[38;5;124;43mtools\u001b[39;49m\u001b[38;5;124;43m\"\u001b[39;49m\u001b[43m:\u001b[49m\u001b[43m \u001b[49m\u001b[43mtools\u001b[49m\u001b[43m,\u001b[49m\n\u001b[1;32m    311\u001b[0m \u001b[43m                \u001b[49m\u001b[38;5;124;43m\"\u001b[39;49m\u001b[38;5;124;43mtop_logprobs\u001b[39;49m\u001b[38;5;124;43m\"\u001b[39;49m\u001b[43m:\u001b[49m\u001b[43m \u001b[49m\u001b[43mtop_logprobs\u001b[49m\u001b[43m,\u001b[49m\n\u001b[1;32m    312\u001b[0m \u001b[43m                \u001b[49m\u001b[38;5;124;43m\"\u001b[39;49m\u001b[38;5;124;43mtop_p\u001b[39;49m\u001b[38;5;124;43m\"\u001b[39;49m\u001b[43m:\u001b[49m\u001b[43m \u001b[49m\u001b[43mtop_p\u001b[49m\u001b[43m,\u001b[49m\n\u001b[1;32m    313\u001b[0m \u001b[43m                \u001b[49m\u001b[38;5;124;43m\"\u001b[39;49m\u001b[38;5;124;43muser\u001b[39;49m\u001b[38;5;124;43m\"\u001b[39;49m\u001b[43m:\u001b[49m\u001b[43m \u001b[49m\u001b[43muser\u001b[49m\u001b[43m,\u001b[49m\n\u001b[1;32m    314\u001b[0m \u001b[43m            \u001b[49m\u001b[43m}\u001b[49m\u001b[43m,\u001b[49m\n\u001b[1;32m    315\u001b[0m \u001b[43m            \u001b[49m\u001b[43mcompletion_create_params\u001b[49m\u001b[38;5;241;43m.\u001b[39;49m\u001b[43mCompletionCreateParams\u001b[49m\u001b[43m,\u001b[49m\n\u001b[1;32m    316\u001b[0m \u001b[43m        \u001b[49m\u001b[43m)\u001b[49m\u001b[43m,\u001b[49m\n\u001b[1;32m    317\u001b[0m \u001b[43m        \u001b[49m\u001b[43moptions\u001b[49m\u001b[38;5;241;43m=\u001b[39;49m\u001b[43mmake_request_options\u001b[49m\u001b[43m(\u001b[49m\n\u001b[1;32m    318\u001b[0m \u001b[43m            \u001b[49m\u001b[43mextra_headers\u001b[49m\u001b[38;5;241;43m=\u001b[39;49m\u001b[43mextra_headers\u001b[49m\u001b[43m,\u001b[49m\u001b[43m \u001b[49m\u001b[43mextra_query\u001b[49m\u001b[38;5;241;43m=\u001b[39;49m\u001b[43mextra_query\u001b[49m\u001b[43m,\u001b[49m\u001b[43m \u001b[49m\u001b[43mextra_body\u001b[49m\u001b[38;5;241;43m=\u001b[39;49m\u001b[43mextra_body\u001b[49m\u001b[43m,\u001b[49m\u001b[43m \u001b[49m\u001b[43mtimeout\u001b[49m\u001b[38;5;241;43m=\u001b[39;49m\u001b[43mtimeout\u001b[49m\n\u001b[1;32m    319\u001b[0m \u001b[43m        \u001b[49m\u001b[43m)\u001b[49m\u001b[43m,\u001b[49m\n\u001b[1;32m    320\u001b[0m \u001b[43m        \u001b[49m\u001b[43mcast_to\u001b[49m\u001b[38;5;241;43m=\u001b[39;49m\u001b[43mChatCompletion\u001b[49m\u001b[43m,\u001b[49m\n\u001b[1;32m    321\u001b[0m \u001b[43m        \u001b[49m\u001b[43mstream\u001b[49m\u001b[38;5;241;43m=\u001b[39;49m\u001b[43mstream\u001b[49m\u001b[43m \u001b[49m\u001b[38;5;129;43;01mor\u001b[39;49;00m\u001b[43m \u001b[49m\u001b[38;5;28;43;01mFalse\u001b[39;49;00m\u001b[43m,\u001b[49m\n\u001b[1;32m    322\u001b[0m \u001b[43m        \u001b[49m\u001b[43mstream_cls\u001b[49m\u001b[38;5;241;43m=\u001b[39;49m\u001b[43mStream\u001b[49m\u001b[43m[\u001b[49m\u001b[43mChatCompletionChunk\u001b[49m\u001b[43m]\u001b[49m\u001b[43m,\u001b[49m\n\u001b[1;32m    323\u001b[0m \u001b[43m    \u001b[49m\u001b[43m)\u001b[49m\n",
      "File \u001b[0;32m~/文件/worktmp/AI_Dev/rag_twnhrbot/.venv/lib/python3.10/site-packages/groq/_base_client.py:1225\u001b[0m, in \u001b[0;36mSyncAPIClient.post\u001b[0;34m(self, path, cast_to, body, options, files, stream, stream_cls)\u001b[0m\n\u001b[1;32m   1211\u001b[0m \u001b[38;5;28;01mdef\u001b[39;00m \u001b[38;5;21mpost\u001b[39m(\n\u001b[1;32m   1212\u001b[0m     \u001b[38;5;28mself\u001b[39m,\n\u001b[1;32m   1213\u001b[0m     path: \u001b[38;5;28mstr\u001b[39m,\n\u001b[0;32m   (...)\u001b[0m\n\u001b[1;32m   1220\u001b[0m     stream_cls: \u001b[38;5;28mtype\u001b[39m[_StreamT] \u001b[38;5;241m|\u001b[39m \u001b[38;5;28;01mNone\u001b[39;00m \u001b[38;5;241m=\u001b[39m \u001b[38;5;28;01mNone\u001b[39;00m,\n\u001b[1;32m   1221\u001b[0m ) \u001b[38;5;241m-\u001b[39m\u001b[38;5;241m>\u001b[39m ResponseT \u001b[38;5;241m|\u001b[39m _StreamT:\n\u001b[1;32m   1222\u001b[0m     opts \u001b[38;5;241m=\u001b[39m FinalRequestOptions\u001b[38;5;241m.\u001b[39mconstruct(\n\u001b[1;32m   1223\u001b[0m         method\u001b[38;5;241m=\u001b[39m\u001b[38;5;124m\"\u001b[39m\u001b[38;5;124mpost\u001b[39m\u001b[38;5;124m\"\u001b[39m, url\u001b[38;5;241m=\u001b[39mpath, json_data\u001b[38;5;241m=\u001b[39mbody, files\u001b[38;5;241m=\u001b[39mto_httpx_files(files), \u001b[38;5;241m*\u001b[39m\u001b[38;5;241m*\u001b[39moptions\n\u001b[1;32m   1224\u001b[0m     )\n\u001b[0;32m-> 1225\u001b[0m     \u001b[38;5;28;01mreturn\u001b[39;00m cast(ResponseT, \u001b[38;5;28;43mself\u001b[39;49m\u001b[38;5;241;43m.\u001b[39;49m\u001b[43mrequest\u001b[49m\u001b[43m(\u001b[49m\u001b[43mcast_to\u001b[49m\u001b[43m,\u001b[49m\u001b[43m \u001b[49m\u001b[43mopts\u001b[49m\u001b[43m,\u001b[49m\u001b[43m \u001b[49m\u001b[43mstream\u001b[49m\u001b[38;5;241;43m=\u001b[39;49m\u001b[43mstream\u001b[49m\u001b[43m,\u001b[49m\u001b[43m \u001b[49m\u001b[43mstream_cls\u001b[49m\u001b[38;5;241;43m=\u001b[39;49m\u001b[43mstream_cls\u001b[49m\u001b[43m)\u001b[49m)\n",
      "File \u001b[0;32m~/文件/worktmp/AI_Dev/rag_twnhrbot/.venv/lib/python3.10/site-packages/groq/_base_client.py:920\u001b[0m, in \u001b[0;36mSyncAPIClient.request\u001b[0;34m(self, cast_to, options, remaining_retries, stream, stream_cls)\u001b[0m\n\u001b[1;32m    911\u001b[0m \u001b[38;5;28;01mdef\u001b[39;00m \u001b[38;5;21mrequest\u001b[39m(\n\u001b[1;32m    912\u001b[0m     \u001b[38;5;28mself\u001b[39m,\n\u001b[1;32m    913\u001b[0m     cast_to: Type[ResponseT],\n\u001b[0;32m   (...)\u001b[0m\n\u001b[1;32m    918\u001b[0m     stream_cls: \u001b[38;5;28mtype\u001b[39m[_StreamT] \u001b[38;5;241m|\u001b[39m \u001b[38;5;28;01mNone\u001b[39;00m \u001b[38;5;241m=\u001b[39m \u001b[38;5;28;01mNone\u001b[39;00m,\n\u001b[1;32m    919\u001b[0m ) \u001b[38;5;241m-\u001b[39m\u001b[38;5;241m>\u001b[39m ResponseT \u001b[38;5;241m|\u001b[39m _StreamT:\n\u001b[0;32m--> 920\u001b[0m     \u001b[38;5;28;01mreturn\u001b[39;00m \u001b[38;5;28;43mself\u001b[39;49m\u001b[38;5;241;43m.\u001b[39;49m\u001b[43m_request\u001b[49m\u001b[43m(\u001b[49m\n\u001b[1;32m    921\u001b[0m \u001b[43m        \u001b[49m\u001b[43mcast_to\u001b[49m\u001b[38;5;241;43m=\u001b[39;49m\u001b[43mcast_to\u001b[49m\u001b[43m,\u001b[49m\n\u001b[1;32m    922\u001b[0m \u001b[43m        \u001b[49m\u001b[43moptions\u001b[49m\u001b[38;5;241;43m=\u001b[39;49m\u001b[43moptions\u001b[49m\u001b[43m,\u001b[49m\n\u001b[1;32m    923\u001b[0m \u001b[43m        \u001b[49m\u001b[43mstream\u001b[49m\u001b[38;5;241;43m=\u001b[39;49m\u001b[43mstream\u001b[49m\u001b[43m,\u001b[49m\n\u001b[1;32m    924\u001b[0m \u001b[43m        \u001b[49m\u001b[43mstream_cls\u001b[49m\u001b[38;5;241;43m=\u001b[39;49m\u001b[43mstream_cls\u001b[49m\u001b[43m,\u001b[49m\n\u001b[1;32m    925\u001b[0m \u001b[43m        \u001b[49m\u001b[43mremaining_retries\u001b[49m\u001b[38;5;241;43m=\u001b[39;49m\u001b[43mremaining_retries\u001b[49m\u001b[43m,\u001b[49m\n\u001b[1;32m    926\u001b[0m \u001b[43m    \u001b[49m\u001b[43m)\u001b[49m\n",
      "File \u001b[0;32m~/文件/worktmp/AI_Dev/rag_twnhrbot/.venv/lib/python3.10/site-packages/groq/_base_client.py:1018\u001b[0m, in \u001b[0;36mSyncAPIClient._request\u001b[0;34m(self, cast_to, options, remaining_retries, stream, stream_cls)\u001b[0m\n\u001b[1;32m   1015\u001b[0m         err\u001b[38;5;241m.\u001b[39mresponse\u001b[38;5;241m.\u001b[39mread()\n\u001b[1;32m   1017\u001b[0m     log\u001b[38;5;241m.\u001b[39mdebug(\u001b[38;5;124m\"\u001b[39m\u001b[38;5;124mRe-raising status error\u001b[39m\u001b[38;5;124m\"\u001b[39m)\n\u001b[0;32m-> 1018\u001b[0m     \u001b[38;5;28;01mraise\u001b[39;00m \u001b[38;5;28mself\u001b[39m\u001b[38;5;241m.\u001b[39m_make_status_error_from_response(err\u001b[38;5;241m.\u001b[39mresponse) \u001b[38;5;28;01mfrom\u001b[39;00m \u001b[38;5;28;01mNone\u001b[39;00m\n\u001b[1;32m   1020\u001b[0m \u001b[38;5;28;01mreturn\u001b[39;00m \u001b[38;5;28mself\u001b[39m\u001b[38;5;241m.\u001b[39m_process_response(\n\u001b[1;32m   1021\u001b[0m     cast_to\u001b[38;5;241m=\u001b[39mcast_to,\n\u001b[1;32m   1022\u001b[0m     options\u001b[38;5;241m=\u001b[39moptions,\n\u001b[0;32m   (...)\u001b[0m\n\u001b[1;32m   1025\u001b[0m     stream_cls\u001b[38;5;241m=\u001b[39mstream_cls,\n\u001b[1;32m   1026\u001b[0m )\n",
      "\u001b[0;31mBadRequestError\u001b[0m: Error code: 400 - {'error': {'message': \"Failed to call a function. Please adjust your prompt. See 'failed_generation' for more details.\", 'type': 'invalid_request_error', 'code': 'tool_use_failed', 'failed_generation': '</tool-use>\\n{\\n\\t\"tool_calls\": [\\n\\t\\t{\\n\\t\\t\\t\"id\": \"pending\",\\n\\t\\t\\t\"type\": \"function\",\\n\\t\\t\\t\"function\": {\\n\\t\\t\\t\\t\"name\": \"HypotheticalQuestions\"\\n\\t\\t\\t},\\n\\t\\t\\t\"parameters\": {\\n\\t\\t\\t\\t\"questions\": [\\n\\t\\t\\t\\t\\t\"根據育嬰留職停薪實施辦法，什麼是申請育嬰留職停薪的 deadline？\",\\n\\t\\t\\t\\t\\t\"如果受僱者申請育嬰留職停薪，需要提供哪些資料？\",\\n\\t\\t\\t\\t\\t\"育嬰留職停薪期間，如果受僱者仍繼續參加社會保險，是否會影響工作年資計算？\"\\n\\t\\t\\t\\t]\\n\\t\\t\\t}\\n\\t\\t}\\n\\t]\\n}\\n</tool-use>'}}"
     ]
    }
   ],
   "source": [
    "from typing import List\n",
    "from langchain_core.pydantic_v1 import BaseModel, Field\n",
    "from langchain_core.prompts import ChatPromptTemplate\n",
    "from langchain.storage import InMemoryByteStore\n",
    "from langchain.retrievers.multi_vector import MultiVectorRetriever\n",
    "from langchain_groq import ChatGroq\n",
    "import uuid\n",
    "\n",
    "class HypotheticalQuestions(BaseModel):\n",
    "    \"\"\"Generate hypothetical questions.\"\"\"\n",
    "\n",
    "    questions: List[str] = Field(..., description=\"List of questions\")\n",
    "\n",
    "hypo_prompt = \"\"\"\n",
    "Generate a list of exactly 3 hypothetical questions that the below document could be used to answer:\\n\\n{doc}.\n",
    "### Rule\n",
    "- Please answer in Traditional Chinese.\n",
    "\"\"\"\n",
    "\n",
    "hypo_model = ChatGroq(model=\"llama3-8b-8192\")\n",
    "\n",
    "chain = (\n",
    "    {\"doc\": lambda x: x.page_content}\n",
    "    # Only asking for 3 hypothetical questions, but this could be adjusted\n",
    "    | ChatPromptTemplate.from_template(hypo_prompt)\n",
    "    | hypo_model.with_structured_output(\n",
    "        HypotheticalQuestions\n",
    "    )\n",
    "    | (lambda x: x.questions)\n",
    ")\n",
    "\n",
    "# Batch chain over documents to generate hypothetical questions\n",
    "hypothetical_questions = chain.batch(chunks, {\"max_concurrency\": 2})\n",
    "\n",
    "# Debug for the Error code 400: \n",
    "#hypothetical_questions = chain.batch(chunks[:10], {\"max_concurrency\": 2})\n",
    "#print(f\"HYPO_QUESTIONS: {len(hypothetical_questions)}\")\n",
    "#hypothetical_questions[0]\n",
    "\n",
    "\n",
    "# The vectorstore to use to index the child chunks\n",
    "hypo_db = Chroma(\n",
    "    collection_name=\"hypo-questions\", persist_directory=DB_PATH, embedding_function=embedding_model\n",
    ")\n",
    "\n",
    "# The storage layer for the parent documents\n",
    "store = InMemoryByteStore()\n",
    "id_key = \"doc_id\"\n",
    "# The retriever (empty to start)\n",
    "retriever = MultiVectorRetriever(\n",
    "    vectorstore=hypo_db,\n",
    "    byte_store=store,\n",
    "    id_key=id_key,\n",
    ")\n",
    "doc_ids = [str(uuid.uuid4()) for _ in chunks]\n",
    "\n",
    "# Generate Document objects from hypothetical questions\n",
    "question_docs = []\n",
    "for i, question_list in enumerate(hypothetical_questions):\n",
    "    question_docs.extend(\n",
    "        [Document(page_content=s, metadata={id_key: doc_ids[i]}) for s in question_list]\n",
    "    )\n",
    "retriever.vectorstore.add_documents(question_docs)\n",
    "retriever.docstore.mset(list(zip(doc_ids, chunks)))"
   ]
  },
  {
   "cell_type": "code",
   "execution_count": 18,
   "id": "f6e30536-2d5c-4c87-9882-b2130bdf582f",
   "metadata": {
    "scrolled": true
   },
   "outputs": [
    {
     "name": "stdout",
     "output_type": "stream",
     "text": [
      "Document 1:\n",
      "\n",
      "法規名稱：勞工請假規則\n",
      "修正日期：民國 112 年 05 月 01 日\n",
      "第 1 條\n",
      "本規則依勞動基準法（以下簡稱本法）第四十三條規定訂定之。\n",
      "第 2 條\n",
      "勞工結婚者給予婚假八日，工資照給。\n",
      "第 3 條\n",
      "勞工喪假依左列規定：\n",
      "一、父母、養父母、繼父母、配偶喪亡者，給予喪假八日，工資照給。\n",
      "二、祖父母、子女、配偶之父母、配偶之養父母或繼父母喪亡者，給予喪假六日，工資照給。\n",
      "三、曾祖父母、兄弟姊妹、配偶之祖父母喪亡者，給予喪假三日，工資照給。\n",
      "第 4 條\n",
      "1   勞工因普通傷害、疾病或生理原因必須治療或休養者，得在左列規定範圍內請普通傷病假：\n",
      "一、未住院者，一年內合計不得超過三十日。\n",
      "二、住院者，二年內合計不得超過一年。\n",
      "三、未住院傷病假與住院傷病假二年內合計不得超過一年。\n",
      "2   經醫師診斷，罹患癌症（含原位癌）採門診方式治療或懷孕期間需安胎休養者，其治療或休養期\n",
      "間，併入住院傷病假計算。\n",
      "3   普通傷病假一年內未超過三十日部分，工資折半發給，其領有勞工保險普通傷病給付未達工資半\n",
      "數者，由雇主補足之。\n",
      "第 5 條\n",
      "勞工普通傷病假超過前條第一項規定之期限，經以事假或特別休假抵充後仍未痊癒者，得予留職\n",
      "停薪。但留職停薪期間以一年為限。\n",
      "第 6 條\n",
      "勞工因職業災害而致失能、傷害或疾病者，其治療、休養期間，給予公傷病假。\n",
      "第 7 條\n",
      "勞工因有事故必須親自處理者，得請事假，一年內合計不得超過十四日。事假期間不給工資。\n",
      "第 8 條\n",
      "勞工依法令規定應給予公假者，工資照給，其假期視實際需要定之。\n",
      "第 9 條\n",
      "----------------------------------------------------------------------------------------------------\n",
      "Document 2:\n",
      "\n",
      "雇主不得因勞工請婚假、喪假、公傷病假及公假，扣發全勤獎金；勞工因妊娠未滿三個月流產未\n",
      "請產假，而請普通傷病假者，亦同。\n",
      "第 10 條\n",
      "勞工請假時，應於事前親自以口頭或書面敘明請假理由及日數。但遇有急病或緊急事故，得委託\n",
      "他人代辦請假手續。辦理請假手續時，雇主得要求勞工提出有關證明文件。\n",
      "第 11 條\n",
      "雇主或勞工違反本規則之規定時，主管機關得依本法有關規定辦理。\n",
      "第 12 條\n",
      "本規則自發布日施行。\n"
     ]
    }
   ],
   "source": [
    "#chain.invoke(chunks[30])\n",
    "#sub_docs = retriever.vectorstore.similarity_search(\"產假可以請多久？雇主能拒絕嗎？有錢可以領嗎?\")\n",
    "#sub_docs\n",
    "#results = retriever.invoke(\"勞工可以申請最多幾天病假?\")\n",
    "#pretty_print_docs(results)"
   ]
  },
  {
   "cell_type": "markdown",
   "id": "5ee900cc-45e8-4afa-8459-e42bac4546ce",
   "metadata": {},
   "source": [
    "### MultiQueryRetriever"
   ]
  },
  {
   "cell_type": "code",
   "execution_count": 46,
   "id": "225b2f09",
   "metadata": {},
   "outputs": [],
   "source": [
    "from langchain_core.prompts import PromptTemplate\n",
    "from langchain_core.output_parsers import StrOutputParser\n",
    "from langchain_core.runnables import RunnablePassthrough\n",
    "from IPython.display import Markdown\n",
    "from langchain.retrievers.multi_query import MultiQueryRetriever\n",
    "\n",
    "def multiquery_retriever():\n",
    "    #retriever = db.as_retriever()\n",
    "    #retriever = db.as_retriever(search_type=\"similarity\", search_kwargs={\"k\": 3})\n",
    "    retriever = db.as_retriever(search_type=\"mmr\")\n",
    "    retriever_from_llm = MultiQueryRetriever.from_llm(\n",
    "        retriever=retriever,\n",
    "        llm=llm_model\n",
    "    )\n",
    "    return retriever_from_llm"
   ]
  },
  {
   "cell_type": "code",
   "execution_count": null,
   "id": "a96dc71a",
   "metadata": {},
   "outputs": [],
   "source": [
    "# Set logging for the queries\n",
    "#import logging\n",
    "\n",
    "#logging.basicConfig()\n",
    "#logging.getLogger(\"langchain.retrievers.multi_query\").setLevel(logging.INFO)\n",
    "\n",
    "pretty_print_docs(multiquery_retriever().get_relevant_documents(questions_list[1]))"
   ]
  },
  {
   "cell_type": "markdown",
   "id": "5a346299",
   "metadata": {},
   "source": [
    "### Parent-Document"
   ]
  },
  {
   "cell_type": "code",
   "execution_count": 14,
   "id": "8b5f06a9",
   "metadata": {},
   "outputs": [],
   "source": [
    "import pickle\n",
    "\n",
    "parent_coll_name = \"parent_documents\" \n",
    "doc_id_key = \"doc_id\"\n",
    "doc_file = \"docstore.pkl\"\n",
    "\n",
    "def save_to_pickle(obj, filename):\n",
    "    with open(filename, \"wb\") as file:\n",
    "        pickle.dump(obj, file, pickle.HIGHEST_PROTOCOL)\n",
    "\n",
    "def load_from_pickle(filename):\n",
    "    with open(filename, \"rb\") as file:\n",
    "        return pickle.load(file)\n",
    "    \n",
    "def create_parent_db():\n",
    "    from langchain.retrievers import ParentDocumentRetriever\n",
    "    from langchain_text_splitters import RecursiveCharacterTextSplitter\n",
    "    from langchain.storage import InMemoryStore\n",
    "    import uuid\n",
    "\n",
    "    docs = load_pdfs()\n",
    "\n",
    "    # This text splitter is used to create the child documents\n",
    "    child_splitter = RecursiveCharacterTextSplitter(chunk_size=400)\n",
    "    # The vectorstore to use to index the child chunks\n",
    "    vector_store = Chroma(\n",
    "        collection_name=parent_coll_name, embedding_function=embedding_model, persist_directory=DB_PATH\n",
    "    )\n",
    "\n",
    "    # The storage layer for the parent documents\n",
    "    store = InMemoryStore()\n",
    "\n",
    "    retriever = ParentDocumentRetriever(\n",
    "        vectorstore=vector_store,\n",
    "        docstore=store,\n",
    "        child_splitter=child_splitter,\n",
    "        id_key=doc_id_key,\n",
    "    )\n",
    "\n",
    "    doc_ids = [str(uuid.uuid4()) for _ in docs]\n",
    "    \n",
    "    docstore_path = os.path.join(DB_PATH, doc_file)\n",
    "    retriever.add_documents(docs, ids=None)\n",
    "    save_to_pickle(retriever.docstore.store, docstore_path)\n",
    "\n",
    "    print(f\"Ingested Documents: {len(retriever.docstore.store)}\")\n",
    "\n",
    "def load_parent_retriever():\n",
    "    \"\"\"Loads the vector store and document store, initializing the retriever.\"\"\"\n",
    "    from langchain.retrievers import ParentDocumentRetriever\n",
    "    from langchain_text_splitters import RecursiveCharacterTextSplitter\n",
    "    from langchain.storage import InMemoryStore\n",
    "\n",
    "    vector_store = Chroma(\n",
    "        collection_name=parent_coll_name, embedding_function=embedding_model, persist_directory=DB_PATH\n",
    "    )\n",
    "    child_splitter = RecursiveCharacterTextSplitter(chunk_size=400)\n",
    "    store_dict = load_from_pickle(os.path.join(DB_PATH, doc_file))\n",
    "    store = InMemoryStore()\n",
    "    store.mset(list(store_dict.items()))\n",
    "\n",
    "    retriever = ParentDocumentRetriever(\n",
    "        vectorstore=vector_store,\n",
    "        docstore=store,\n",
    "        child_splitter=child_splitter,\n",
    "        id_key=doc_id_key,\n",
    "    )\n",
    "    return retriever"
   ]
  },
  {
   "cell_type": "code",
   "execution_count": 17,
   "id": "042e69eb",
   "metadata": {},
   "outputs": [
    {
     "data": {
      "text/plain": [
       "[Document(metadata={'source': 'pdf/性別平等工作法.pdf', 'page': 5}, page_content='生已盡力防止仍不免發生者，雇主不負損害賠償責任。\\n2  如被害人依前項但書之規定不能受損害賠償時，法院因其聲請，得斟酌雇主與被害人之\\n經濟狀況，令雇主為全部或一部之損害賠償。\\n3  雇主賠償損害時，對於性騷擾行為人，有求償權。\\n4  被害人因遭受性騷擾致生法律訴訟，於受司法機關通知到庭期間，雇主應給予公假。\\n5  行為人因權勢性騷擾，應依第一項規定負損害賠償責任者，法院得因被害人之請求，依\\n侵害情節，酌定損害額一倍至三倍之懲罰性賠償金。\\n6  前項行為人為最高負責人或僱用人，被害人得請求損害額三倍至五倍之懲罰性賠償金。 \\n第 28 條 \\n受僱者或求職者因雇主違反第十三條第二項之義務，受有損害者，雇主應負賠償責任。 \\n第 29 條 \\n前三條情形，受僱者或求職者雖非財產上之損害，亦得請求賠償相當之金額。其名譽被\\n侵害者，並得請求回復名譽之適當處分。 \\n第 30 條 \\n第二十六條至第二十八條之損害賠償請求權，自請求權人知有損害及賠償義務人時起\\n，二年間不行使而消滅。自有性騷擾行為或違反各該規定之行為時起，逾十年者，亦同\\n。 \\n第 31 條 \\n受僱者或求職者於釋明差別待遇之事實後，雇主應就差別待遇之非性別、性傾向因素\\n，或該受僱者或求職者所從事工作之特定性別因素，負舉證責任。 \\n第 32 條 \\n雇主為處理受僱者之申訴，得建立申訴制度協調處理。 \\n第 32-1 條 \\n1  受僱者或求職者遭受性騷擾，應向雇主提起申訴。但有下列情形之一者，得逕向地方主\\n管機關提起申訴：\\n一、被申訴人屬最高負責人或僱用人。\\n二、雇主未處理或不服被申訴人之雇主所為調查或懲戒結果。\\n2  受僱者或求職者依前項但書規定，向地方主管機關提起申訴之期限，應依下列規定辦理\\n：\\n一、被申訴人非具權勢地位：自知悉性騷擾時起，逾二年提起者，不予受理；自該行為\\n終了時起，逾五年者，亦同。\\n二、被申訴人具權勢地位：自知悉性騷擾時起，逾三年提起者，不予受理；自該行為終\\n了時起，逾七年者，亦同。\\n3  有下列情形之一者，依各款規定辦理，不受前項規定之限制。但依前項規定有較長申訴\\n期限者，從其規定：\\n一、性騷擾發生時，申訴人為未成年，得於成年之日起三年內申訴。\\n二、被申訴人為最高負責人或僱用人，申訴人得於離職之日起一年內申訴。但自該行為\\n終了時起，逾十年者，不予受理。\\n4  申訴人依第一項但書規定向地方主管機關提起申訴後，得於處分作成前，撤回申訴。撤\\n回申訴後，不得就同一案件再提起申訴。 \\n第 32-2 條 \\n1  地方主管機關為調查前條第一項但書之性騷擾申訴案件，得請專業人士或團體協助；必\\n要時，得請求警察機關協助。'),\n",
       " Document(metadata={'source': 'pdf/勞動基準法.pdf', 'page': 5}, page_content='質權或留置權所擔保之債權相同，按其債權比例受清償；未獲清償部分，有最優先受清\\n償之權：\\n一、本於勞動契約所積欠之工資未滿六個月部分。\\n二、雇主未依本法給付之退休金。\\n三、雇主未依本法或勞工退休金條例給付之資遣費。\\n2  雇主應按其當月僱用勞工投保薪資總額及規定之費率，繳納一定數額之積欠工資墊償基\\n金，作為墊償下列各款之用：\\n一、前項第一款積欠之工資數額。\\n二、前項第二款與第三款積欠之退休金及資遣費，其合計數額以六個月平均工資為限。\\n3  積欠工資墊償基金，累積至一定金額後，應降低費率或暫停收繳。\\n4  第二項費率，由中央主管機關於萬分之十五範圍內擬訂，報請行政院核定之。\\n5  雇主積欠之工資、退休金及資遣費，經勞工請求未獲清償者，由積欠工資墊償基金依第\\n二項規定墊償之；雇主應於規定期限內，將墊款償還積欠工資墊償基金。\\n6  積欠工資墊償基金，由中央主管機關設管理委員會管理之。基金之收繳有關業務，得由\\n中央主管機關，委託勞工保險機構辦理之。基金墊償程序、收繳與管理辦法、第三項之\\n一定金額及管理委員會組織規程，由中央主管機關定之。 \\n第 29 條 \\n事業單位於營業年度終了結算，如有盈餘，除繳納稅捐、彌補虧損及提列股息、公積金\\n外，對於全年工作並無過失之勞工，應給與獎金或分配紅利。 \\n   第 四 章 工作時間、休息、休假 \\n第 30 條 \\n1  勞工正常工作時間，每日不得超過八小時，每週不得超過四十小時。\\n2  前項正常工作時間，雇主經工會同意，如事業單位無工會者，經勞資會議同意後，得將\\n其二週內二日之正常工作時數，分配於其他工作日。其分配於其他工作日之時數，每日\\n不得超過二小時。但每週工作總時數不得超過四十八小時。\\n3  第一項正常工作時間，雇主經工會同意，如事業單位無工會者，經勞資會議同意後，得\\n將八週內之正常工作時數加以分配。但每日正常工作時間不得超過八小時，每週工作總\\n時數不得超過四十八小時。\\n4  前二項規定，僅適用於經中央主管機關指定之行業。\\n5  雇主應置備勞工出勤紀錄，並保存五年。\\n6  前項出勤紀錄，應逐日記載勞工出勤情形至分鐘為止。勞工向雇主申請其出勤紀錄副本\\n或影本時，雇主不得拒絕。\\n7  雇主不得以第一項正常工作時間之修正，作為減少勞工工資之事由。\\n8  第一項至第三項及第三十條之一之正常工作時間，雇主得視勞工照顧家庭成員需要，允\\n許勞工於不變更每日正常工作時數下，在一小時範圍內，彈性調整工作開始及終止之時\\n間。 \\n第 30-1 條 \\n1  中央主管機關指定之行業，雇主經工會同意，如事業單位無工會者，經勞資會議同意後\\n，其工作時間得依下列原則變更：\\n一、四週內正常工作時數分配於其他工作日之時數，每日不得超過二小時，不受前條第\\n二項至第四項規定之限制。\\n二、當日正常工作時間達十小時者，其延長之工作時間不得超過二小時。\\n三、女性勞工，除妊娠或哺乳期間者外，於夜間工作，不受第四十九條第一項之限制。\\n但雇主應提供必要之安全衛生設施。\\n2  依中華民國八十五年十二月二十七日修正施行前第三條規定適用本法之行業，除第一項\\n第一款之農、林、漁、牧業外，均不適用前項規定。'),\n",
       " Document(metadata={'source': 'pdf/勞動基準法.pdf', 'page': 9}, page_content='第 52 條 \\n1  子女未滿一歲須女工親自哺乳者，於第三十五條規定之休息時間外，雇主應每日另給哺\\n乳時間二次，每次以三十分鐘為度。\\n2  前項哺乳時間，視為工作時間。 \\n   第 六 章 退休 \\n第 53 條 \\n勞工有下列情形之一，得自請退休：\\n一、工作十五年以上年滿五十五歲者。\\n二、工作二十五年以上者。\\n三、工作十年以上年滿六十歲者。 \\n第 54 條 \\n1  勞工非有下列情形之一，雇主不得強制其退休：\\n一、年滿六十五歲者。\\n二、身心障礙不堪勝任工作者。\\n2  前項第一款所規定之年齡，對於擔任具有危險、堅強體力等特殊性質之工作者，得由事\\n業單位報請中央主管機關予以調整。但不得少於五十五歲。 \\n第 55 條 \\n1  勞工退休金之給與標準如下：\\n一、按其工作年資，每滿一年給與兩個基數。但超過十五年之工作年資，每滿一年給與\\n一個基數，最高總數以四十五個基數為限。未滿半年者以半年計；滿半年者以一年\\n計。\\n二、依第五十四條第一項第二款規定，強制退休之勞工，其身心障礙係因執行職務所致\\n者，依前款規定加給百分之二十。\\n2  前項第一款退休金基數之標準，係指核准退休時一個月平均工資。\\n3  第一項所定退休金，雇主應於勞工退休之日起三十日內給付，如無法一次發給時，得報\\n經主管機關核定後，分期給付。本法施行前，事業單位原定退休標準優於本法者，從其\\n規定。 \\n第 56 條 \\n1  雇主應依勞工每月薪資總額百分之二至百分之十五範圍內，按月提撥勞工退休準備金\\n，專戶存儲，並不得作為讓與、扣押、抵銷或擔保之標的；其提撥之比率、程序及管理\\n等事項之辦法，由中央主管機關擬訂，報請行政院核定之。\\n2  雇主應於每年年度終了前，估算前項勞工退休準備金專戶餘額，該餘額不足給付次一年\\n度內預估成就第五十三條或第五十四條第一項第一款退休條件之勞工，依前條計算之退\\n休金數額者，雇主應於次年度三月底前一次提撥其差額，並送事業單位勞工退休準備金\\n監督委員會審議。\\n3  第一項雇主按月提撥之勞工退休準備金匯集為勞工退休基金，由中央主管機關設勞工退\\n休基金監理委員會管理之；其組織、會議及其他相關事項，由中央主管機關定之。\\n4  前項基金之收支、保管及運用，由中央主管機關會同財政部委託金融機構辦理。最低收\\n益不得低於當地銀行二年定期存款利率之收益；如有虧損，由國庫補足之。基金之收支\\n、保管及運用辦法，由中央主管機關擬訂，報請行政院核定之。\\n5  雇主所提撥勞工退休準備金，應由勞工與雇主共同組織勞工退休準備金監督委員會監督\\n之。委員會中勞工代表人數不得少於三分之二；其組織準則，由中央主管機關定之。\\n6  雇主按月提撥之勞工退休準備金比率之擬訂或調整，應經事業單位勞工退休準備金監督\\n委員會審議通過，並報請當地主管機關核定。\\n7  金融機構辦理核貸業務，需查核該事業單位勞工退休準備金提撥狀況之必要資料時，得'),\n",
       " Document(metadata={'source': 'pdf/勞動基準法.pdf', 'page': 10}, page_content='請當地主管機關提供。\\n8  金融機構依前項取得之資料，應負保密義務，並確實辦理資料安全稽核作業。\\n9  前二項有關勞工退休準備金必要資料之內容、範圍、申請程序及其他應遵行事項之辦法\\n，由中央主管機關會商金融監督管理委員會定之。 \\n第 57 條 \\n勞工工作年資以服務同一事業者為限。但受同一雇主調動之工作年資，及依第二十條規\\n定應由新雇主繼續予以承認之年資，應予併計。 \\n第 58 條 \\n1  勞工請領退休金之權利，自退休之次月起，因五年間不行使而消滅。\\n2  勞工請領退休金之權利，不得讓與、抵銷、扣押或供擔保。\\n3  勞工依本法規定請領勞工退休金者，得檢具證明文件，於金融機構開立專戶，專供存入\\n勞工退休金之用。\\n4  前項專戶內之存款，不得作為抵銷、扣押、供擔保或強制執行之標的。 \\n   第 七 章 職業災害補償 \\n第 59 條 \\n勞工因遭遇職業災害而致死亡、失能、傷害或疾病時，雇主應依下列規定予以補償。但\\n如同一事故，依勞工保險條例或其他法令規定，已由雇主支付費用補償者，雇主得予以\\n抵充之：\\n一、勞工受傷或罹患職業病時，雇主應補償其必需之醫療費用。職業病之種類及其醫療\\n範圍，依勞工保險條例有關之規定。\\n二、勞工在醫療中不能工作時，雇主應按其原領工資數額予以補償。但醫療期間屆滿二\\n年仍未能痊癒，經指定之醫院診斷，審定為喪失原有工作能力，且不合第三款之失\\n能給付標準者，雇主得一次給付四十個月之平均工資後，免除此項工資補償責任。\\n三、勞工經治療終止後，經指定之醫院診斷，審定其遺存障害者，雇主應按其平均工資\\n及其失能程度，一次給予失能補償。失能補償標準，依勞工保險條例有關之規定。\\n四、勞工遭遇職業傷害或罹患職業病而死亡時，雇主除給與五個月平均工資之喪葬費外\\n，並應一次給與其遺屬四十個月平均工資之死亡補償。其遺屬受領死亡補償之順位\\n如下：\\n（一）配偶及子女。\\n（二）父母。\\n（三）祖父母。\\n（四）孫子女。\\n（五）兄弟姐妹。 \\n第 60 條 \\n雇主依前條規定給付之補償金額，得抵充就同一事故所生損害之賠償金額。 \\n第 61 條 \\n1  第五十九條之受領補償權，自得受領之日起，因二年間不行使而消滅。\\n2  受領補償之權利，不因勞工之離職而受影響，且不得讓與、抵銷、扣押或供擔保。\\n3  勞工或其遺屬依本法規定受領職業災害補償金者，得檢具證明文件，於金融機構開立專\\n戶，專供存入職業災害補償金之用。\\n4  前項專戶內之存款，不得作為抵銷、扣押、供擔保或強制執行之標的。 \\n第 62 條 \\n1  事業單位以其事業招人承攬，如有再承攬時，承攬人或中間承攬人，就各該承攬部分所')]"
      ]
     },
     "execution_count": 17,
     "metadata": {},
     "output_type": "execute_result"
    }
   ],
   "source": [
    "import time\n",
    "\n",
    "if not os.path.exists(os.path.join(DB_PATH, doc_file)):\n",
    "    create_parent_db()\n",
    "    time.sleep(5)\n",
    "    \n",
    "result = load_parent_retriever().invoke(\"勞工可以申請最多幾天病假\")\n",
    "result"
   ]
  },
  {
   "cell_type": "markdown",
   "id": "78785134",
   "metadata": {},
   "source": [
    "### ReRank"
   ]
  },
  {
   "cell_type": "code",
   "execution_count": 27,
   "id": "604f02fe",
   "metadata": {},
   "outputs": [
    {
     "name": "stderr",
     "output_type": "stream",
     "text": [
      "I0000 00:00:1722066343.391406  159606 work_stealing_thread_pool.cc:320] WorkStealingThreadPoolImpl::PrepareFork\n",
      "I0000 00:00:1722066343.391665  159606 fork_posix.cc:77] Other threads are currently calling into gRPC, skipping fork() handlers\n",
      "huggingface/tokenizers: The current process just got forked, after parallelism has already been used. Disabling parallelism to avoid deadlocks...\n",
      "To disable this warning, you can either:\n",
      "\t- Avoid using `tokenizers` before the fork if possible\n",
      "\t- Explicitly set the environment variable TOKENIZERS_PARALLELISM=(true | false)\n"
     ]
    },
    {
     "name": "stdout",
     "output_type": "stream",
     "text": [
      "Note: you may need to restart the kernel to use updated packages.\n"
     ]
    }
   ],
   "source": [
    "%pip install --quiet cohere"
   ]
  },
  {
   "cell_type": "code",
   "execution_count": 47,
   "id": "b3d0a9c0",
   "metadata": {},
   "outputs": [],
   "source": [
    "from langchain.retrievers import ContextualCompressionRetriever\n",
    "from langchain.retrievers.document_compressors import CrossEncoderReranker\n",
    "from langchain_community.cross_encoders import HuggingFaceCrossEncoder\n",
    "from langchain.retrievers.document_compressors import CohereRerank\n",
    "\n",
    "rerank_model = HuggingFaceCrossEncoder(model_name=\"maidalun1020/bce-reranker-base_v1\")\n",
    "\n",
    "def rerank_retriever():\n",
    "    retriever = db.as_retriever(search_type=\"mmr\", search_kwargs={\"k\": 10})\n",
    "    compressor = CrossEncoderReranker(model=rerank_model, top_n=3)\n",
    "    compression_retriever = ContextualCompressionRetriever(\n",
    "        base_compressor=compressor, base_retriever=retriever\n",
    "    )\n",
    "    return compression_retriever\n",
    "\n",
    "def multiq_rerank_retriever():\n",
    "    retriever = multiquery_retriever()\n",
    "    compressor = CrossEncoderReranker(model=rerank_model, top_n=3)\n",
    "    compression_retriever = ContextualCompressionRetriever(\n",
    "        base_compressor=compressor, base_retriever=retriever\n",
    "    )\n",
    "    return compression_retriever\n",
    "\n",
    "def multiq_rerank_cohere_retriever():\n",
    "    retriever = multiquery_retriever()\n",
    "    compressor = CohereRerank()\n",
    "    compression_retriever = ContextualCompressionRetriever(\n",
    "        base_compressor=compressor, base_retriever=retriever\n",
    "    )\n",
    "    return compression_retriever\n"
   ]
  },
  {
   "cell_type": "code",
   "execution_count": 48,
   "id": "68eb2546",
   "metadata": {},
   "outputs": [
    {
     "name": "stderr",
     "output_type": "stream",
     "text": [
      "/home/alang/文件/worktmp/AI_Dev/tw-hrgpt/.venv/lib/python3.10/site-packages/langchain_core/_api/deprecation.py:139: LangChainDeprecationWarning: The class `CohereRerank` was deprecated in LangChain 0.0.30 and will be removed in 0.3.0. An updated version of the class exists in the langchain-cohere package and should be used instead. To use it run `pip install -U langchain-cohere` and import as `from langchain_cohere import CohereRerank`.\n",
      "  warn_deprecated(\n",
      "/home/alang/文件/worktmp/AI_Dev/tw-hrgpt/.venv/lib/python3.10/site-packages/langchain_core/_api/deprecation.py:139: LangChainDeprecationWarning: The method `BaseRetriever.get_relevant_documents` was deprecated in langchain-core 0.1.46 and will be removed in 0.3.0. Use invoke instead.\n",
      "  warn_deprecated(\n"
     ]
    },
    {
     "name": "stdout",
     "output_type": "stream",
     "text": [
      "Document 1:\n",
      "\n",
      "。\n",
      "    - 依據：勞動基準法第 37 條\n",
      "\n",
      "3. 特別休假 (簡稱：特休假)\n",
      "    - 給假原則：\n",
      "        6 個月至未滿 1 年：3 日， 工作滿第 1 年：7 日， 工作滿第 2 年：10 日，工作滿第 3 年：14 日，工作滿第 4 年：14 日，工作滿第 5 年：15 日，工作滿第 6 年：15 日，工作滿第 7 年：15 日，工作滿第 8 年：15 日，工作滿第 9 年：15 日，工作滿第 10 年：16 日，工作滿第 11 年：17 日，工作滿第 12 年：18 日，工作滿第 13 年：19 日，工作滿第 14 年：20 日，工作滿第 15 年：21 日，工作滿第 16 年：22 日，工作滿第 17 年：23 日，工作滿第 18 年：24 日，工作滿第 19 年：25 日，工作滿第 20 年：26 日，工作滿第 21 年：27 日，工作滿第 22 年：28 日，工作滿第 23 年：29 日，工作滿第 24 年：30 日，工作滿第 25 年以上：30 日。\n",
      "    - 依據：勞動基準法第 38 條\n",
      "\n",
      "4. 婚假\n",
      "    - 給假原則：8 日\n",
      "----------------------------------------------------------------------------------------------------\n",
      "Document 2:\n",
      "\n",
      "。雇主僱用勞工人數在三十人以上者，應報當地主管機關備查。 \n",
      "第 37 條 \n",
      "1  內政部所定應放假之紀念日、節日、勞動節及其他中央主管機關指定應放假日，均應休\n",
      "假。\n",
      "2  中華民國一百零五年十二月六日修正之前項規定，自一百零六年一月一日施行。 \n",
      "第 38 條 \n",
      "1  勞工在同一雇主或事業單位，繼續工作滿一定期間者，應依下列規定給予特別休假：\n",
      "一、六個月以上一年未滿者，三日。\n",
      "二、一年以上二年未滿者，七日。\n",
      "三、二年以上三年未滿者，十日。\n",
      "四、三年以上五年未滿者，每年十四日。\n",
      "五、五年以上十年未滿者，每年十五日。\n",
      "六、十年以上者，每一年加給一日，加至三十日為止。\n",
      "2  前項之特別休假期日，由勞工排定之。但雇主基於企業經營上之急迫需求或勞工因個人\n",
      "因素，得與他方協商調整。\n",
      "3  雇主應於勞工符合第一項所定之特別休假條件時，告知勞工依前二項規定排定特別休假\n",
      "。\n",
      "4  勞工之特別休假，因年度終結或契約終止而未休之日數，雇主應發給工資。但年度終結\n",
      "未休之日數，經勞雇雙方協商遞延至次一年度實施者，於次一年度終結或契約終止仍未\n",
      "休之日數，雇主應發給工資\n",
      "----------------------------------------------------------------------------------------------------\n",
      "Document 3:\n",
      "\n",
      "。 \n",
      "第 29 條 \n",
      "事業單位於營業年度終了結算，如有盈餘，除繳納稅捐、彌補虧損及提列股息、公積金\n",
      "外，對於全年工作並無過失之勞工，應給與獎金或分配紅利。 \n",
      "   第 四 章 工作時間、休息、休假 \n",
      "第 30 條 \n",
      "1  勞工正常工作時間，每日不得超過八小時，每週不得超過四十小時。\n",
      "2  前項正常工作時間，雇主經工會同意，如事業單位無工會者，經勞資會議同意後，得將\n",
      "其二週內二日之正常工作時數，分配於其他工作日。其分配於其他工作日之時數，每日\n",
      "不得超過二小時。但每週工作總時數不得超過四十八小時。\n",
      "3  第一項正常工作時間，雇主經工會同意，如事業單位無工會者，經勞資會議同意後，得\n",
      "將八週內之正常工作時數加以分配。但每日正常工作時間不得超過八小時，每週工作總\n",
      "時數不得超過四十八小時。\n",
      "4  前二項規定，僅適用於經中央主管機關指定之行業。\n",
      "5  雇主應置備勞工出勤紀錄，並保存五年。\n",
      "6  前項出勤紀錄，應逐日記載勞工出勤情形至分鐘為止。勞工向雇主申請其出勤紀錄副本\n",
      "或影本時，雇主不得拒絕。\n",
      "7  雇主不得以第一項正常工作時間之修正，作為減少勞工工資之事由\n"
     ]
    }
   ],
   "source": [
    "pretty_print_docs(multiq_rerank_cohere_retriever().get_relevant_documents(questions_list[1]))"
   ]
  },
  {
   "cell_type": "markdown",
   "id": "a3123d4f",
   "metadata": {},
   "source": [
    "### Hybrid Search"
   ]
  },
  {
   "cell_type": "code",
   "execution_count": 22,
   "id": "e1bc99b3",
   "metadata": {},
   "outputs": [
    {
     "name": "stderr",
     "output_type": "stream",
     "text": [
      "I0000 00:00:1722068233.956820  197986 work_stealing_thread_pool.cc:320] WorkStealingThreadPoolImpl::PrepareFork\n",
      "I0000 00:00:1722068233.957051  197986 fork_posix.cc:77] Other threads are currently calling into gRPC, skipping fork() handlers\n",
      "huggingface/tokenizers: The current process just got forked, after parallelism has already been used. Disabling parallelism to avoid deadlocks...\n",
      "To disable this warning, you can either:\n",
      "\t- Avoid using `tokenizers` before the fork if possible\n",
      "\t- Explicitly set the environment variable TOKENIZERS_PARALLELISM=(true | false)\n"
     ]
    },
    {
     "name": "stdout",
     "output_type": "stream",
     "text": [
      "Note: you may need to restart the kernel to use updated packages.\n"
     ]
    }
   ],
   "source": [
    "%pip install --quiet rank_bm25"
   ]
  },
  {
   "cell_type": "code",
   "execution_count": 49,
   "id": "41f52fa1",
   "metadata": {},
   "outputs": [],
   "source": [
    "from langchain.retrievers import BM25Retriever, EnsembleRetriever\n",
    "\n",
    "def hybrid_retriever(chunks):\n",
    "    text_splits = chunks\n",
    "    retriever = db.as_retriever(search_type=\"mmr\", search_kwargs={\"k\": 5})\n",
    "    keyword_retriever = BM25Retriever.from_documents(text_splits)\n",
    "    keyword_retriever.k =  5\n",
    "    ensemble_retriever = EnsembleRetriever(\n",
    "        retrievers=[retriever,\n",
    "                    keyword_retriever],\n",
    "                    weights=[0.5, 0.5])\n",
    "    return ensemble_retriever\n",
    "\n",
    "def hybrid_rerank_retriever(chunks):\n",
    "    text_splits = chunks\n",
    "    retriever = hybrid_retriever(text_splits)\n",
    "    compressor = CrossEncoderReranker(model=rerank_model, top_n=3)\n",
    "    compression_retriever = ContextualCompressionRetriever(\n",
    "        base_compressor=compressor, base_retriever=retriever\n",
    "    )\n",
    "    return compression_retriever\n",
    "\n",
    "def hybrid_rerank_cohere_retriever(chunks):\n",
    "    text_splits = chunks\n",
    "    retriever = hybrid_retriever(text_splits)\n",
    "    compressor = CohereRerank()\n",
    "    compression_retriever = ContextualCompressionRetriever(\n",
    "        base_compressor=compressor, base_retriever=retriever\n",
    "    )\n",
    "    return compression_retriever\n"
   ]
  },
  {
   "cell_type": "code",
   "execution_count": 50,
   "id": "2d9f0c19",
   "metadata": {},
   "outputs": [
    {
     "name": "stdout",
     "output_type": "stream",
     "text": [
      "Question: 流產是否可以申請生育給付？\n",
      "Document 1:\n",
      "\n",
      "。 \n",
      "第 53 條 \n",
      "1  請領各項保險給付之診斷書及出生證明書，除第六十八條、第六十九條另有規定外，應\n",
      "由醫院、診所或領有執業執照之醫師出具者，方為有效。\n",
      "2  出生證明書由領有執業執照之助產人員出具者，效力亦同。 \n",
      "第 54 條 \n",
      "1  依本條例規定請領各項保險給付，所檢附之文件為我國政府機關（構）以外製作者，應\n",
      "經下列單位驗證：\n",
      "一、於國外製作者，應經我國駐外使領館、代表處或辦事處驗證；其在國內由外國駐臺\n",
      "使領館或授權機構製作者，應經外交部複驗。\n",
      "二、於大陸地區製作者，應經行政院設立或指定機構或委託之民間團體驗證。\n",
      "三、於香港或澳門製作者，應經行政院於香港或澳門設立或指定機構或委託之民間團體\n",
      "驗證。\n",
      "2  前項文件為外文者，應檢附經前項各款所列單位驗證或國內公證人認證之中文譯本。但\n",
      "為英文者，除保險人認有需要外，得予免附。 \n",
      "第 55 條 \n",
      "保險給付金額以新臺幣元為單位，角以下四捨五入。 \n",
      "      第 二 節 生育給付 \n",
      "第 56 條 \n",
      "1  依本條例第三十一條規定請領生育給付者，應備下列書件：\n",
      "一、生育給付申請書及給付收據\n",
      "----------------------------------------------------------------------------------------------------\n",
      "Document 2:\n",
      "\n",
      "。 \n",
      "第 20 條 \n",
      "1  被保險人在保險有效期間發生傷病事故，於保險效力停止後一年內，得請領同一傷病及\n",
      "其引起之疾病之傷病給付、失能給付、死亡給付或職業災害醫療給付。\n",
      "2  被保險人在保險有效期間懷孕，且符合本條例第三十一條第一項第一款或第二款規定之\n",
      "參加保險日數，於保險效力停止後一年內，因同一懷孕事故而分娩或早產者，得請領生\n",
      "育給付。 \n",
      "第 20-1 條 \n",
      "1  被保險人退保後，經診斷確定於保險有效期間罹患職業病者，得請領職業災害保險失能\n",
      "給付。\n",
      "2  前項得請領失能給付之對象、職業病種類、認定程序及給付金額計算等事項之辦法，由\n",
      "中央主管機關定之。 \n",
      "第 21 條 \n",
      "（刪除） \n",
      "第 21-1 條 \n",
      "（刪除） \n",
      "第 22 條 \n",
      "同一種保險給付，不得因同一事故而重複請領。 \n",
      "第 23 條 \n",
      "被保險人或其受益人或其他利害關係人，為領取保險給付，故意造成保險事故者，保險\n",
      "人除給與喪葬津貼外，不負發給其他保險給付之責任。 \n",
      "第 24 條 \n",
      "投保單位故意為不合本條例規定之人員辦理參加保險手續，領取保險給付者，保險人應\n",
      "依法追還；並取消該被保險人之資格\n",
      "----------------------------------------------------------------------------------------------------\n",
      "Document 3:\n",
      "\n",
      "。\n",
      "第 15 條\n",
      "被保險人依本法第十一條第一項第三款規定請領職業訓練生活津貼者，應備具下列書件：\n",
      "一、職業訓練生活津貼申請書及給付收據。\n",
      "二、離職證明書。\n",
      "三、國民身分證或其他身分證明文件影本。\n",
      "四、被保險人本人名義之國內金融機構存摺影本。但匯款帳戶與其請領失業給付之帳戶相同者，\n",
      "免附。\n",
      "五、有扶養眷屬者，應檢附下列證明文件：\n",
      "（一）受扶養眷屬之戶口名簿影本或其他身分證明文件影本。\n",
      "（二）受扶養之子女為身心障礙者，應檢附社政主管機關核發之身心障礙證明。\n",
      "第 16 條\n",
      "本法第十一條第一項第三款所定全日制職業訓練，應符合下列條件：\n",
      "一、訓練期間一個月以上。\n",
      "二、每星期訓練四日以上。\n",
      "三、每日訓練日間四小時以上。\n",
      "四、每月總訓練時數達一百小時以上。\n",
      "第 16-1 條\n",
      "被保險人依本法第十一條第一項第四款規定請領育嬰留職停薪津貼者，應備具下列書件：\n",
      "一、育嬰留職停薪津貼申請書及給付收據。\n",
      "二、被保險人及子女之戶口名簿影本。\n",
      "三、育嬰留職停薪證明。\n",
      "四、被保險人本人名義之國內金融機構存摺影本\n"
     ]
    }
   ],
   "source": [
    "query = questions_list[6]\n",
    "print(f\"Question: {query}\")\n",
    "pretty_print_docs(hybrid_rerank_cohere_retriever(chunks).get_relevant_documents(query))"
   ]
  },
  {
   "cell_type": "markdown",
   "id": "f5ef9995",
   "metadata": {},
   "source": [
    "## 生成（Generation）"
   ]
  },
  {
   "cell_type": "code",
   "execution_count": 51,
   "id": "72f7f4c8",
   "metadata": {},
   "outputs": [],
   "source": [
    "from langchain_core.prompts import PromptTemplate\n",
    "from langchain_core.output_parsers import StrOutputParser\n",
    "from langchain_core.runnables import RunnablePassthrough\n",
    "\n",
    "def multiquery_chain():\n",
    "    #retriever = db.as_retriever(search_type=\"mmr\")\n",
    "    #retriever = db.as_retriever(search_type=\"similarity\", search_kwargs={\"k\": 3})\n",
    "    #retriever_from_llm = MultiQueryRetriever.from_llm(\n",
    "    #    retriever=retriever,\n",
    "    #    llm=llm_model\n",
    "    #)\n",
    "    #return retriever_from_llm\n",
    "\n",
    "    retriever = multiquery_retriever()\n",
    "    custom_prompt = PromptTemplate.from_template(rag_template_3)\n",
    "    rag_chain = (\n",
    "        {\"context\": retriever | format_docs, \"question\": RunnablePassthrough()}\n",
    "        | custom_prompt\n",
    "        | llm_model\n",
    "        | StrOutputParser()\n",
    "    )\n",
    "    return rag_chain\n",
    "\n",
    "def rerank_chain():\n",
    "    retriever = rerank_retriever()\n",
    "    custom_prompt = PromptTemplate.from_template(rag_template_3)\n",
    "    rag_chain = (\n",
    "        {\"context\": retriever | format_docs, \"question\": RunnablePassthrough()}\n",
    "        | custom_prompt\n",
    "        | llm_model\n",
    "        | StrOutputParser()\n",
    "    )\n",
    "    return rag_chain\n",
    "\n",
    "def multiq_rerank_chain():\n",
    "    retriever = multiq_rerank_retriever()\n",
    "    custom_prompt = PromptTemplate.from_template(rag_template_3)\n",
    "    rag_chain = (\n",
    "        {\"context\": retriever | format_docs, \"question\": RunnablePassthrough()}\n",
    "        | custom_prompt\n",
    "        | llm_model\n",
    "        | StrOutputParser()\n",
    "    )\n",
    "    return rag_chain\n",
    "\n",
    "def multiq_rerank_cohere_chain():\n",
    "    retriever = multiq_rerank_cohere_retriever()\n",
    "    custom_prompt = PromptTemplate.from_template(rag_template_3)\n",
    "    rag_chain = (\n",
    "        {\"context\": retriever | format_docs, \"question\": RunnablePassthrough()}\n",
    "        | custom_prompt\n",
    "        | llm_model\n",
    "        | StrOutputParser()\n",
    "    )\n",
    "    return rag_chain\n",
    "\n",
    "def hybrid_rerank_chain(chunks=chunks):\n",
    "    text_splits = chunks\n",
    "    retriever = hybrid_rerank_retriever(text_splits)\n",
    "    custom_prompt = PromptTemplate.from_template(rag_template_3)\n",
    "    rag_chain = (\n",
    "        {\"context\": retriever | format_docs, \"question\": RunnablePassthrough()}\n",
    "        | custom_prompt\n",
    "        | llm_model\n",
    "        | StrOutputParser()\n",
    "    )\n",
    "    return rag_chain\n",
    "\n",
    "def hybrid_rerank_cohere_chain(chunks=chunks):\n",
    "    text_splits = chunks\n",
    "    retriever = hybrid_rerank_cohere_retriever(text_splits)\n",
    "    custom_prompt = PromptTemplate.from_template(rag_template_3)\n",
    "    rag_chain = (\n",
    "        {\"context\": retriever | format_docs, \"question\": RunnablePassthrough()}\n",
    "        | custom_prompt\n",
    "        | llm_model\n",
    "        | StrOutputParser()\n",
    "    )\n",
    "    return rag_chain\n"
   ]
  },
  {
   "cell_type": "code",
   "execution_count": 52,
   "id": "e686a934",
   "metadata": {},
   "outputs": [
    {
     "name": "stdout",
     "output_type": "stream",
     "text": [
      "----------------------------------------\n",
      "Question: 流產是否可以申請生育給付？\n",
      "\n",
      "Answer: 根據勞工保險條例第20條第2項，被保險人在保險有效期間懷孕，且符合參加保險日數規定，於保險效力停止後一年內，因同一懷孕事故而分娩或早產者，得\n",
      "請領生育給付。  因此，流產是否可以申請生育給付，需視流產是否屬於同一懷孕事故而分娩或早產。\n",
      "**實務上，流產通常不屬於同一懷孕事故而分娩或早產，因此無法申請生育給付。**  **建議：**  *\n",
      "您可以諮詢勞工保險局或相關單位，以確認您的具體情況是否符合申請生育給付的條件。 *\n",
      "您可以參考勞工保險條例施行細則第56條，了解申請生育給付所需的相關文件。\n",
      "\n",
      "Total Tokens: 1560\n",
      "\n",
      "----------------------------------------\n",
      "Question: 在公司已經任職15年，依規定一年應該會有幾天的特休假？\n",
      "\n",
      "Answer: 根據勞動基準法第38條第1項規定，勞工在同一雇主或事業單位，繼續工作滿五年以上十年未滿者，每年應給予十五天特別休假。\n",
      "因此，您在公司已經任職15年，依規定一年應該會有 **15天** 的特休假。\n",
      "\n",
      "Total Tokens: 1147\n",
      "\n",
      "----------------------------------------\n",
      "Question: 育嬰留停有哪些規定事項要注意？\n",
      "\n",
      "Answer: 根據您提供的法規條文，育嬰留停有以下規定事項要注意：  **1. 申請資格：**  *\n",
      "依家事事件法、兒童及少年福利與權益保障法相關規定與收養兒童先行共同生活之受僱者，其共同生活期間得依第一項規定申請育嬰留職停薪。  **2.\n",
      "申請期間：**  * 法規條文中未明確規定育嬰留停的申請期間，但根據實務上常見的規定，通常是孩子未滿 2 歲。  **3.\n",
      "留職停薪津貼：**  * 育嬰留職停薪津貼的發放，另以法律定之。  **4. 復職權利：**  *\n",
      "育嬰留職停薪期滿後，申請復職時，雇主不得拒絕，除非有以下情形：     * 歇業、虧損或業務緊縮者。     *\n",
      "雇主依法變更組織、解散或轉讓者。     * 不可抗力暫停工作在一個月以上者。     *\n",
      "業務性質變更，有減少受僱者之必要，又無適當工作可供安置者。 *\n",
      "雇主因上述原因未能使受僱者復職時，應於三十日前通知之，並應依法定標準發給資遣費或退休金。  **5. 哺（集）乳時間：**  *\n",
      "子女未滿二歲須受僱者親自哺（集）乳者，除規定之休息時間外，雇主應每日另給哺（集）乳時間六十分鐘。 *\n",
      "受僱者於每日正常工作時間以外之延長工作時間達一小時以上者，雇主應給予哺（集）乳時間三十分鐘。 * 前二項哺（集）乳時間，視為工作時間。\n",
      "**6. 雇主相關義務：**  * 雇主得僱用替代人力，執行受僱者之原有工作。 * 受僱者於育嬰留職停薪期間，不得與他人另訂勞動契約。 *\n",
      "雇主應隨時與受僱者聯繫，告知與其職務有關之教育訓練訊息。  **7. 其他注意事項：**  * 育嬰留職停薪實施辦法，由中央主管機關定之。\n",
      "* 被保險人依性別工作平等法規定申請育嬰留職停薪，並於原投保單位繼續投保者，應以原投保金額等級投保；被保險人應自付之保險費，由保險人依第四十\n",
      "九條規定寄發被保險人繳納。  **建議：**  * 雇主應妥善規劃育嬰留停相關制度，並提供員工清楚的資訊，以保障員工權益。 *\n",
      "員工應了解自身權利，並積極與雇主溝通，以確保自身權益。 * 建議參考勞動部網站或相關單位資訊，以取得更詳細的資訊。  **備註：**  *\n",
      "以上資訊僅供參考，實際情況可能有所不同，建議您諮詢專業人士以獲得更精確的資訊。\n",
      "\n",
      "Total Tokens: 1819\n",
      "\n"
     ]
    }
   ],
   "source": [
    "test_chain(hybrid_rerank_chain)"
   ]
  },
  {
   "cell_type": "markdown",
   "id": "09e36cf8",
   "metadata": {},
   "source": [
    "## 心得分享"
   ]
  },
  {
   "cell_type": "markdown",
   "id": "3396691a",
   "metadata": {},
   "source": [
    "### - 優化生成：不同 LLM Model 間的差異\n",
    "LLM Model 的選用決定了 RAG 最終輸出的品質結果，包括文字輸出排版的美醜、上下文內容的語意理解程度與生成文字的速度延遲。\n",
    "\n",
    "+ Google-1.5-flash: 有最佳的語意理解與輸出結果，且個人開發時，可以免費使用 API。\n",
    "+ Groq llama 3/3.1: 語意理解可以接受；文字輸出排版稍顯單調。\n",
    "\n",
    "### - 優化檢索：\n",
    "#### -- 進階檢索\n",
    "運用不同的檢索技巧，對於檢索結果的精確度有很大的差異。\n",
    "\n",
    "1. 基本向量檢索：向量庫內建的基本檢索功能。不管是相似度或 MMR 哪種演算類型，檢索結果都非常不穩定，也不準確。調整文字分塊的大小，對於最終的檢索結果沒有顯著的改善。\n",
    "2. Multi-Query 檢索：優化使用者的問題。以 LLM 生成多個（3-5）類似的不同提問建議，然後分別再以建議的多道問題對向量庫進行相似度檢索。此法對於那些含糊不清的提問，可以改善檢索的結果。\n",
    "3. Parent-Documnet 檢索：父文件檢索。將一份文件切成不同小塊的文字，嵌入向量庫以外，在將每個小文字區塊與原始文件的關聯性，儲存至另一個父文件檔案。檢索問題時，先對向量庫裡的小區塊進行相似度檢索，然後找出原始父文件的內容，作為上下文的生成依據。相似度檢索要提高檢索精確度，嵌入時文字分塊要小；不過，缺點是過小的文字塊，無法產生對於問題完整理解的上下文。此法主要就是改善過小文字塊的缺點。\n",
    "4. Rerank 檢索：重排序演算檢索。使用 Rerank 模型對向量庫相似度檢索的結果，進行語意排序並篩選出最佳的結果。不同的 Rerank 模型搭配不同的嵌入模型，都會有不的檢索結果。兩者關係沒有一定的規則或限制，精確度以實際套用的結果為主。\n",
    "\n",
    "#### -- 比較不同的檢索\n",
    "+ LLM Token 使用（多至少）：Multi-Query > Parent-Documnet > 基本向量檢索 > Rerank\n",
    "+ LLM 生成延遲（慢至快）：Multi-Query > Rerank > Parent-Document > 基本向量檢索\n",
    "\n",
    "#### -- Embedding 與 Reranking 模型\n",
    "+ 這兩個模型要使用適合的支援語言，如果知識庫是中文，模型也要使用有支援中文語系的，不然檢索結果會差強人意。\n",
    "+ 基本上這是兩個不同的模型，選用時要多試試，有時後排行榜的結果不一定符合你的專案特性。\n"
   ]
  },
  {
   "cell_type": "markdown",
   "id": "919b3f8a",
   "metadata": {},
   "source": []
  }
 ],
 "metadata": {
  "kernelspec": {
   "display_name": "Python 3 (ipykernel)",
   "language": "python",
   "name": "python3"
  },
  "language_info": {
   "codemirror_mode": {
    "name": "ipython",
    "version": 3
   },
   "file_extension": ".py",
   "mimetype": "text/x-python",
   "name": "python",
   "nbconvert_exporter": "python",
   "pygments_lexer": "ipython3",
   "version": "3.10.12"
  }
 },
 "nbformat": 4,
 "nbformat_minor": 5
}
